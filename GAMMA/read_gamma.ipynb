{
 "cells": [
  {
   "cell_type": "markdown",
   "metadata": {},
   "source": [
    "## all functions"
   ]
  },
  {
   "cell_type": "code",
   "execution_count": null,
   "metadata": {
    "ExecuteTime": {
     "end_time": "2020-12-17T11:32:40.375993Z",
     "start_time": "2020-12-17T11:32:40.165996Z"
    },
    "scrolled": false
   },
   "outputs": [],
   "source": [
    "from mpl_toolkits.axes_grid1 import make_axes_locatable\n",
    "from pykml.factory import KML_ElementMaker as KML\n",
    "from xml.dom.minidom import parse\n",
    "import matplotlib.pyplot as plt\n",
    "import matplotlib as mpl\n",
    "from lxml import etree\n",
    "import numpy as np\n",
    "import re\n",
    "import os\n",
    "import zipfile\n",
    "import gdal\n",
    "from matplotlib.colors import LightSource, LinearSegmentedColormap\n",
    "from matplotlib.cm import register_cmap\n",
    "%matplotlib inline\n",
    "\n",
    "\n",
    "def read_gamma(file, width, length, data_type):\n",
    "    # unw, cor, dem_seg -------> float32\n",
    "    # int               -------> complex64\n",
    "    # convert into short style\n",
    "    letter, digit = re.findall('(\\d+|\\D+)', data_type)\n",
    "    if len(letter) > 1:\n",
    "        letter = letter[0]\n",
    "        digit = int(int(digit) / 8)\n",
    "    # > means big-endian, < means little-endian\n",
    "    data_type = '>{}{}'.format(letter, digit)\n",
    "    # read data\n",
    "    try:\n",
    "        data = np.fromfile(file, dtype=data_type)\n",
    "        data = data.reshape(length, width)\n",
    "    except Exception as e:\n",
    "        print(e)\n",
    "    return data\n",
    "\n",
    "\n",
    "def plot_data(data, cmap='jet', title='', figsize=(5, 5)):\n",
    "    fig, ax = plt.subplots(figsize=figsize)\n",
    "    ax.set_title(title)\n",
    "    im = ax.imshow(data, cmap=cmap)\n",
    "    divider = make_axes_locatable(ax)\n",
    "    cax = divider.append_axes('right', size='6%', pad=0.2)\n",
    "    fig.colorbar(im, cax=cax)\n",
    "\n",
    "\n",
    "def wrap_data(data, wrap_range=[-np.pi, np.pi]):\n",
    "    w0, w1 = wrap_range\n",
    "    wrapped_data = w0 + np.mod(data - w0, w1 - w0)\n",
    "    return wrapped_data\n",
    "\n",
    "\n",
    "def read_dem_par(par_file):\n",
    "    par_key = [\n",
    "        'width', 'nlines', 'corner_lat', 'corner_lon', 'post_lat', 'post_lon'\n",
    "    ]\n",
    "    par_value = []\n",
    "    with open(par_file, 'r') as f:\n",
    "        for line in f.readlines():\n",
    "            for i in par_key:\n",
    "                if line.strip().startswith(i):\n",
    "                    par_value.append(line.strip().split()[1])\n",
    "    return par_value\n",
    "\n",
    "\n",
    "def get_lon_lat(par_file):\n",
    "    par_value = read_dem_par(par_file)\n",
    "    north = float(par_value[2])\n",
    "    south = north + float(par_value[4]) * int(par_value[1])\n",
    "    west = float(par_value[3])\n",
    "    east = west + float(par_value[5]) * int(par_value[0])\n",
    "\n",
    "    return [south, north, west, east]\n",
    "\n",
    "\n",
    "def mask_data(file, width, length, file_format, cc, threshold):\n",
    "    data = read_gamma(file, width, length, file_format)\n",
    "    cc_data = read_gamma(cc, width, length, 'float32')\n",
    "    data[cc_data < threshold] = np.nan\n",
    "    return data\n",
    "\n",
    "\n",
    "def data2xyz(data, par_file, out_file, data_type='float32'):\n",
    "    par_value = read_dem_par(par_file)\n",
    "    width, length = int(par_value[0]), int(par_value[1])\n",
    "    upper_left_lat, upper_left_lon = float(par_value[2]), float(par_value[3])\n",
    "    lat_step, lon_step = float(par_value[4]), float(par_value[5])\n",
    "\n",
    "    if data.shape[1] == width and data.shape[0] == length:\n",
    "        lon_tmp = np.linspace(upper_left_lon,\n",
    "                              upper_left_lon + lon_step * width, width)\n",
    "        lat_tmp = np.linspace(upper_left_lat,\n",
    "                              upper_left_lat + lat_step * length, length)\n",
    "        lons, lats = np.meshgrid(lon_tmp, lat_tmp)\n",
    "\n",
    "        lons = lons.reshape((-1, 1))\n",
    "        lats = lats.reshape((-1, 1))\n",
    "        data = data.reshape((-1, 1))\n",
    "\n",
    "        not_nan = ~np.isnan(data)\n",
    "        data = data[not_nan].reshape((-1, 1))\n",
    "        lons = lons[not_nan].reshape((-1, 1))\n",
    "        lats = lats[not_nan].reshape((-1, 1))\n",
    "\n",
    "        out_data = np.hstack((lons, lats, data))\n",
    "        print('Writing data to {}'.format(out_file))\n",
    "        np.savetxt(out_file, out_data, fmt='%4f')\n",
    "        print('done.')\n",
    "    else:\n",
    "        print('error data.')\n",
    "\n",
    "\n",
    "def register_cmy_cmap():\n",
    "    # cmy\n",
    "    # Default cyclic colormap from isce/mdx, provided by Piyush Agram, Jan 2020\n",
    "    # generate the color list\n",
    "    rgbs = np.zeros((256, 3), dtype=np.uint8)\n",
    "\n",
    "    for kk in range(85):\n",
    "        rgbs[kk, 0] = kk * 3\n",
    "        rgbs[kk, 1] = 255 - kk * 3\n",
    "        rgbs[kk, 2] = 255\n",
    "\n",
    "    rgbs[85:170, 0] = rgbs[0:85, 2]\n",
    "    rgbs[85:170, 1] = rgbs[0:85, 0]\n",
    "    rgbs[85:170, 2] = rgbs[0:85, 1]\n",
    "\n",
    "    rgbs[170:255, 0] = rgbs[0:85, 1]\n",
    "    rgbs[170:255, 1] = rgbs[0:85, 2]\n",
    "    rgbs[170:255, 2] = rgbs[0:85, 0]\n",
    "\n",
    "    rgbs[255, 0] = 0\n",
    "    rgbs[255, 1] = 255\n",
    "    rgbs[255, 2] = 255\n",
    "\n",
    "    #     rgbs = np.roll(rgbs, int(256/2-214), axis=0)  # shift green to the center\n",
    "    rgbs = np.flipud(\n",
    "        rgbs)  # flip up-down so that orange is in the later half (positive)\n",
    "\n",
    "    # color list --> colormap object\n",
    "    colormap = LinearSegmentedColormap.from_list('cmy', rgbs / 255., N=2560)\n",
    "    register_cmap(name='cmy', cmap=colormap)\n",
    "\n",
    "\n",
    "register_cmy_cmap()\n",
    "\n",
    "\n",
    "def plot_colorbar(data, cmap, out_dir, figsize, nbins):\n",
    "    data[data == 0] = np.nan\n",
    "    vmin = np.nanmin(data)\n",
    "    vmax = np.nanmax(data)\n",
    "    fig, cax = plt.subplots(figsize=figsize)\n",
    "    norm = mpl.colors.Normalize(vmin=vmin, vmax=vmax)\n",
    "    cmap = plt.get_cmap(cmap)\n",
    "    cbar = mpl.colorbar.ColorbarBase(cax,\n",
    "                                     cmap=cmap,\n",
    "                                     norm=norm,\n",
    "                                     orientation='vertical')\n",
    "    cbar.locator = mpl.ticker.MaxNLocator(nbins=nbins)\n",
    "    cbar.update_ticks()\n",
    "    cbar.ax.tick_params(which='both', labelsize=12)\n",
    "    fig.patch.set_facecolor('white')\n",
    "    fig.patch.set_alpha(0.5)\n",
    "    out_file = os.path.join(out_dir, 'colorbar.png')\n",
    "    fig.savefig(out_file,\n",
    "                bbox_inches='tight',\n",
    "                facecolor=fig.get_facecolor(),\n",
    "                dpi=300)\n",
    "\n",
    "\n",
    "def plot_img(data, cmap, out_dir, dem_data=None):\n",
    "    data[data == 0] = np.nan\n",
    "    vmin = np.nanmin(data)\n",
    "    vmax = np.nanmax(data)\n",
    "    fig = plt.figure(frameon=False)\n",
    "    ax = fig.add_axes([0., 0., 1., 1.])\n",
    "    ax.set_axis_off()\n",
    "    cmap = plt.get_cmap(cmap)\n",
    "    if dem_data is None:\n",
    "        ax.imshow(data, aspect='auto', vmax=vmax, vmin=vmin, cmap=cmap)\n",
    "    else:\n",
    "        ls = LightSource(azdeg=315, altdeg=45)\n",
    "        dem_shade = ls.shade(dem_data, cmap=plt.get_cmap('gray'))\n",
    "        ax.imshow(dem_shade, zorder=0)\n",
    "        ax.imshow(data,\n",
    "                  aspect='auto',\n",
    "                  vmax=vmax,\n",
    "                  vmin=vmin,\n",
    "                  cmap=cmap,\n",
    "                  zorder=1,\n",
    "                  alpha=0.5)\n",
    "    out_file = os.path.join(out_dir, 'img.png')\n",
    "    fig.savefig(out_file,\n",
    "                pad_inches=0.0,\n",
    "                transparent=True,\n",
    "                interpolation='nearest',\n",
    "                dpi=600)\n",
    "\n",
    "\n",
    "def write_kmz(lon_lat,\n",
    "              data,\n",
    "              out_file,\n",
    "              dem_data=None,\n",
    "              cmap='jet',\n",
    "              figsize=(0.18, 3.6),\n",
    "              nbins=7):\n",
    "    file = os.path.abspath(out_file)\n",
    "    if file.endswith('.kmz'):\n",
    "        file = file[:-4]\n",
    "    out_dir = os.path.dirname(file)\n",
    "\n",
    "    plot_colorbar(data, cmap, out_dir, figsize=figsize, nbins=nbins)\n",
    "    plot_img(data, cmap, out_dir, dem_data=dem_data)\n",
    "\n",
    "    south, north, west, east = lon_lat\n",
    "\n",
    "    doc = KML.kml(KML.Folder(KML.name(os.path.basename(file))))\n",
    "    img_displayed = KML.GroundOverlay(\n",
    "        KML.name(os.path.basename('img')),\n",
    "        KML.Icon(KML.href(os.path.basename('img.png'))),\n",
    "        KML.LatLonBox(KML.north(str(north)), KML.south(str(south)),\n",
    "                      KML.east(str(east)), KML.west(str(west))))\n",
    "    doc.Folder.append(img_displayed)\n",
    "\n",
    "    legend = KML.ScreenOverlay(\n",
    "        KML.name('colorbar'),\n",
    "        KML.Icon(KML.href(os.path.basename('colorbar.png')),\n",
    "                 KML.viewBoundScale(0.75)),\n",
    "        KML.overlayXY(\n",
    "            x=\"0.0\",\n",
    "            y=\"1\",\n",
    "            xunits=\"fraction\",\n",
    "            yunits=\"fraction\",\n",
    "        ), KML.screenXY(\n",
    "            x=\"0.0\",\n",
    "            y=\"1\",\n",
    "            xunits=\"fraction\",\n",
    "            yunits=\"fraction\",\n",
    "        ),\n",
    "        KML.rotationXY(\n",
    "            x=\"0.\",\n",
    "            y=\"1.\",\n",
    "            xunits=\"fraction\",\n",
    "            yunits=\"fraction\",\n",
    "        ), KML.size(\n",
    "            x=\"0\",\n",
    "            y=\"250\",\n",
    "            xunits=\"pixel\",\n",
    "            yunits=\"pixel\",\n",
    "        ), KML.visibility(1), KML.open(0))\n",
    "\n",
    "    doc.Folder.append(legend)\n",
    "\n",
    "    kml_str = etree.tostring(doc, pretty_print=True)\n",
    "    kml_name = file + '.kml'\n",
    "    with open(kml_name, 'wb') as f:\n",
    "        f.write(kml_str)\n",
    "\n",
    "    kmz_name = file + '.kmz'\n",
    "    with zipfile.ZipFile(kmz_name, 'w') as f:\n",
    "        os.chdir(out_dir)\n",
    "        f.write(os.path.basename(kml_name))\n",
    "        os.remove(os.path.basename(kml_name))\n",
    "        f.write('img.png')\n",
    "        os.remove('img.png')\n",
    "        f.write('colorbar.png')\n",
    "        os.remove('colorbar.png')"
   ]
  },
  {
   "cell_type": "markdown",
   "metadata": {},
   "source": [
    "## read unwrapped data"
   ]
  },
  {
   "cell_type": "code",
   "execution_count": null,
   "metadata": {
    "ExecuteTime": {
     "end_time": "2020-12-17T11:04:00.018210Z",
     "start_time": "2020-12-17T11:03:58.531601Z"
    },
    "scrolled": true
   },
   "outputs": [],
   "source": [
    "os.chdir(r'C:\\thorly\\Files\\Python\\colorbar\\hy_des_stacking')\n",
    "\n",
    "data = read_gamma('geo_ph_rate', 3462, 2347, 'float32')\n",
    "disp = -data * 5.6 / (4 * np.pi)\n",
    "plot_data(disp, cmap='cmy', title='geo_rate')"
   ]
  },
  {
   "cell_type": "markdown",
   "metadata": {},
   "source": [
    "## read coherence"
   ]
  },
  {
   "cell_type": "code",
   "execution_count": null,
   "metadata": {
    "ExecuteTime": {
     "end_time": "2020-09-27T12:18:14.504000Z",
     "start_time": "2020-09-27T12:18:12.894962Z"
    },
    "scrolled": false
   },
   "outputs": [],
   "source": [
    "data = read_gamma('20160109-20160214.utm.cc', 2612, 4000, 'float32')\n",
    "data[data == 0] = np.nan\n",
    "plot_data(data, cmap='gray', title='geo_cc')"
   ]
  },
  {
   "cell_type": "markdown",
   "metadata": {},
   "source": [
    "## read interferogram"
   ]
  },
  {
   "cell_type": "code",
   "execution_count": null,
   "metadata": {
    "ExecuteTime": {
     "end_time": "2020-09-22T12:37:51.694122Z",
     "start_time": "2020-09-22T12:37:51.532456Z"
    }
   },
   "outputs": [],
   "source": [
    "data = read_gamma('20160109-20160214.diff.int.sm', 428, 1171, 'complex64')\n",
    "# cmy is recommanded for interferogram\n",
    "plot_data(np.angle(data), cmap='cmy', title='int')"
   ]
  },
  {
   "cell_type": "markdown",
   "metadata": {},
   "source": [
    "## wrap data"
   ]
  },
  {
   "cell_type": "code",
   "execution_count": null,
   "metadata": {
    "ExecuteTime": {
     "end_time": "2020-12-17T11:11:42.913465Z",
     "start_time": "2020-12-17T11:11:41.334759Z"
    },
    "scrolled": false
   },
   "outputs": [],
   "source": [
    "data = read_gamma('geo_ph_rate', 3462, 2347, 'float32')\n",
    "wrapped_data = wrap_data(data, wrap_range=[-np.pi, np.pi])\n",
    "# cmy is recommanded for interferogram\n",
    "plot_data(wrapped_data, cmap='cmy', title='geo_ifg')"
   ]
  },
  {
   "cell_type": "markdown",
   "metadata": {},
   "source": [
    "## mask data using coherence"
   ]
  },
  {
   "cell_type": "code",
   "execution_count": null,
   "metadata": {
    "ExecuteTime": {
     "end_time": "2020-09-27T12:20:03.521626Z",
     "start_time": "2020-09-27T12:20:01.791625Z"
    }
   },
   "outputs": [],
   "source": [
    "masked_data = mask_data('20160109-20160214.diff.utm.unw', 2612, 4000,\n",
    "                        'float32', '20160109-20160214.utm.cc', 0.3)\n",
    "wrapped_data = wrap_data(masked_data, wrap_range=[-np.pi, np.pi])\n",
    "plot_data(wrapped_data, cmap='jet', title='masked unw')"
   ]
  },
  {
   "cell_type": "markdown",
   "metadata": {},
   "source": [
    "## data2xyz"
   ]
  },
  {
   "cell_type": "code",
   "execution_count": null,
   "metadata": {
    "ExecuteTime": {
     "end_time": "2020-09-27T12:31:59.923010Z",
     "start_time": "2020-09-27T12:31:59.749971Z"
    }
   },
   "outputs": [],
   "source": [
    "data2xyz(wrapped_data, 'dem_seg.par', out_file='ifg.txt', data_type='float32')"
   ]
  },
  {
   "cell_type": "markdown",
   "metadata": {},
   "source": [
    "## data2kmz"
   ]
  },
  {
   "cell_type": "code",
   "execution_count": null,
   "metadata": {
    "ExecuteTime": {
     "end_time": "2020-12-17T11:32:57.295832Z",
     "start_time": "2020-12-17T11:32:46.637936Z"
    },
    "scrolled": false
   },
   "outputs": [],
   "source": [
    "# lon_lat = [22.25673796, 23.3681578, 120.0711309, 120.796888056]\n",
    "# lon_lat = get_lon_lat('dem_seg.par')\n",
    "# write_kmz(lon_lat, wrapped_data, r'D:\\读取GAMMA结果\\wrapped_data1', cmap='jet_r')\n",
    "\n",
    "# using dem as background image\n",
    "lon_lat = get_lon_lat('dem_seg.par')\n",
    "dem_data = read_gamma('dem_seg', 3462, 2347, 'float32')\n",
    "write_kmz(lon_lat, wrapped_data, r'wrap_03', dem_data=dem_data, cmap='cmy')"
   ]
  },
  {
   "cell_type": "code",
   "execution_count": null,
   "metadata": {},
   "outputs": [],
   "source": []
  }
 ],
 "metadata": {
  "kernelspec": {
   "display_name": "Python 3",
   "language": "python",
   "name": "python3"
  },
  "language_info": {
   "codemirror_mode": {
    "name": "ipython",
    "version": 3
   },
   "file_extension": ".py",
   "mimetype": "text/x-python",
   "name": "python",
   "nbconvert_exporter": "python",
   "pygments_lexer": "ipython3",
   "version": "3.7.4"
  },
  "toc": {
   "base_numbering": 1,
   "nav_menu": {},
   "number_sections": true,
   "sideBar": true,
   "skip_h1_title": false,
   "title_cell": "Table of Contents",
   "title_sidebar": "Contents",
   "toc_cell": false,
   "toc_position": {
    "height": "calc(100% - 180px)",
    "left": "10px",
    "top": "150px",
    "width": "279.2px"
   },
   "toc_section_display": true,
   "toc_window_display": true
  },
  "varInspector": {
   "cols": {
    "lenName": 16,
    "lenType": 16,
    "lenVar": 40
   },
   "kernels_config": {
    "python": {
     "delete_cmd_postfix": "",
     "delete_cmd_prefix": "del ",
     "library": "var_list.py",
     "varRefreshCmd": "print(var_dic_list())"
    },
    "r": {
     "delete_cmd_postfix": ") ",
     "delete_cmd_prefix": "rm(",
     "library": "var_list.r",
     "varRefreshCmd": "cat(var_dic_list()) "
    }
   },
   "types_to_exclude": [
    "module",
    "function",
    "builtin_function_or_method",
    "instance",
    "_Feature"
   ],
   "window_display": false
  }
 },
 "nbformat": 4,
 "nbformat_minor": 4
}
