{
 "cells": [
  {
   "cell_type": "markdown",
   "metadata": {},
   "source": [
    "# isce2"
   ]
  },
  {
   "cell_type": "markdown",
   "metadata": {},
   "source": [
    "## prepare data"
   ]
  },
  {
   "cell_type": "code",
   "execution_count": null,
   "metadata": {
    "ExecuteTime": {
     "end_time": "2020-07-23T01:13:37.817159Z",
     "start_time": "2020-07-23T01:13:37.813541Z"
    }
   },
   "outputs": [],
   "source": [
    "import os\n",
    "os.chdir('/media/ly/文件/isce_cat')"
   ]
  },
  {
   "cell_type": "code",
   "execution_count": null,
   "metadata": {
    "ExecuteTime": {
     "end_time": "2020-04-01T07:04:15.736730Z",
     "start_time": "2020-04-01T07:04:15.180202Z"
    }
   },
   "outputs": [],
   "source": [
    "# os.chdir('/media/ly/文件/xsc/isce_stack/DEM/')\n",
    "# !fixImageXml.py -i demLat_N30_N33_Lon_E101_E105.dem.wgs84 -f\n",
    "# os.chdir('/media/ly/文件/xsc/isce_stack/')"
   ]
  },
  {
   "cell_type": "code",
   "execution_count": null,
   "metadata": {
    "ExecuteTime": {
     "end_time": "2020-06-01T07:42:46.940902Z",
     "start_time": "2020-06-01T07:42:46.278418Z"
    },
    "scrolled": true
   },
   "outputs": [],
   "source": [
    "# !stackSentinel.py -h"
   ]
  },
  {
   "cell_type": "code",
   "execution_count": null,
   "metadata": {
    "ExecuteTime": {
     "end_time": "2020-07-23T01:13:42.558083Z",
     "start_time": "2020-07-23T01:13:41.562065Z"
    },
    "scrolled": true
   },
   "outputs": [],
   "source": [
    "# !stackSentinel.py -s slc -d DEM/demLat_N30_N33_Lon_E101_E105.dem.wgs84 -o aux/aux_poeorb/ -a aux/aux_cal/ -b '31.569715 31.577582 103.412374 103.419046' -W interferogram -C geometry -r 15 -z 5 -f 0.5 -c 4\n",
    "# !stackSentinel.py -s slc -d DEM/demLat_N30_N33_Lon_E101_E105.dem.wgs84 -o aux/aux_poeorb/ -a aux/aux_cal/ -b '31.569715 31.577582 103.412374 103.419046' -W interferogram -C geometry -r 7 -z 2 -f 0.5 -c 4\n",
    "!stackSentinel.py -s zip -d dem/demLat_N27_N32_Lon_E100_E106.dem.wgs84 -o orbits/ -a aux_cal/ -b '30.780067 31.130474 102.589458 102.850073' -W interferogram -C geometry -r 20 -z 5 -f 0.5 -c 1"
   ]
  },
  {
   "cell_type": "markdown",
   "metadata": {},
   "source": [
    "## run stack"
   ]
  },
  {
   "cell_type": "code",
   "execution_count": null,
   "metadata": {
    "ExecuteTime": {
     "end_time": "2020-07-23T01:13:48.705576Z",
     "start_time": "2020-07-23T01:13:48.701539Z"
    }
   },
   "outputs": [],
   "source": [
    "os.chdir('/media/ly/文件/isce_cat/run_files/')"
   ]
  },
  {
   "cell_type": "code",
   "execution_count": null,
   "metadata": {
    "ExecuteTime": {
     "end_time": "2020-07-23T01:27:15.299581Z",
     "start_time": "2020-07-23T01:13:51.177642Z"
    },
    "scrolled": true
   },
   "outputs": [],
   "source": [
    "!./run_1_unpack_slc_topo_master"
   ]
  },
  {
   "cell_type": "code",
   "execution_count": null,
   "metadata": {
    "ExecuteTime": {
     "end_time": "2020-07-23T01:31:09.314062Z",
     "start_time": "2020-07-23T01:31:07.467257Z"
    },
    "scrolled": true
   },
   "outputs": [],
   "source": [
    "!./run_2_average_baseline"
   ]
  },
  {
   "cell_type": "code",
   "execution_count": null,
   "metadata": {
    "ExecuteTime": {
     "end_time": "2020-07-23T01:35:24.390205Z",
     "start_time": "2020-07-23T01:31:13.206267Z"
    },
    "scrolled": true
   },
   "outputs": [],
   "source": [
    "!./run_3_geo2rdr_resample"
   ]
  },
  {
   "cell_type": "code",
   "execution_count": null,
   "metadata": {
    "ExecuteTime": {
     "end_time": "2020-07-23T01:37:03.311315Z",
     "start_time": "2020-07-23T01:37:02.115227Z"
    }
   },
   "outputs": [],
   "source": [
    "!./run_4_extract_stack_valid_region"
   ]
  },
  {
   "cell_type": "code",
   "execution_count": null,
   "metadata": {
    "ExecuteTime": {
     "end_time": "2020-07-23T01:38:16.810573Z",
     "start_time": "2020-07-23T01:37:11.092125Z"
    },
    "scrolled": true
   },
   "outputs": [],
   "source": [
    "!./run_5_merge_master_slave_slc"
   ]
  },
  {
   "cell_type": "code",
   "execution_count": null,
   "metadata": {
    "ExecuteTime": {
     "end_time": "2020-07-23T01:40:49.665531Z",
     "start_time": "2020-07-23T01:39:45.857369Z"
    },
    "scrolled": true
   },
   "outputs": [],
   "source": [
    "!./run_6_merge_burst_igram"
   ]
  },
  {
   "cell_type": "code",
   "execution_count": null,
   "metadata": {
    "ExecuteTime": {
     "end_time": "2020-07-23T01:43:02.216105Z",
     "start_time": "2020-07-23T01:41:40.272566Z"
    },
    "scrolled": true
   },
   "outputs": [],
   "source": [
    "!./run_7_filter_coherence"
   ]
  },
  {
   "cell_type": "code",
   "execution_count": null,
   "metadata": {
    "ExecuteTime": {
     "end_time": "2020-07-23T01:44:12.908112Z",
     "start_time": "2020-07-23T01:43:19.894922Z"
    },
    "scrolled": true
   },
   "outputs": [],
   "source": [
    "!./run_8_unwrap"
   ]
  },
  {
   "cell_type": "markdown",
   "metadata": {},
   "source": [
    "## prep files for MintPy"
   ]
  },
  {
   "cell_type": "code",
   "execution_count": null,
   "metadata": {},
   "outputs": [],
   "source": [
    "# directory need to copy\n",
    "# baselines  master  merged (geom_master interferograms)\n",
    "\n",
    "import os\n",
    "import glob\n",
    "import shutil\n",
    "\n",
    "def copy_files(stack_path, save_path):\n",
    "    # copy baselines\n",
    "    baselines_src = os.path.join(stack_path, 'baselines')\n",
    "    baselines_dst = os.path.join(save_path, 'baselines')\n",
    "    if os.path.isdir(baselines_src):\n",
    "        shutil.copytree(baselines_src, baselines_dst)\n",
    "    \n",
    "    # copy master\n",
    "    master_src = os.path.join(stack_path, 'master')\n",
    "    master_dst = os.path.join(save_path, 'master')\n",
    "    if os.path.isdir(master_src):\n",
    "        shutil.copytree(master_src, master_dst)\n",
    "    \n",
    "    # copy merged/geom_master\n",
    "    merged_dst = os.path.join(save_path, 'merged')\n",
    "    os.mkdir(merged_dst)\n",
    "    geom_master_src = os.path.join(stack_path, 'merged', 'geom_master')\n",
    "    geom_master_dst = os.path.join(merged_dst, 'geom_master')\n",
    "    if os.path.isdir(geom_master_src):\n",
    "        shutil.copytree(geom_master_src, geom_master_dst)\n",
    "    \n",
    "    # copy merged/interferograms\n",
    "    files = [\n",
    "        'filt_fine.cor', 'filt_fine.cor.vrt', 'filt_fine.cor.xml',\n",
    "        'filt_fine.unw', 'filt_fine.unw.vrt', 'filt_fine.unw.xml',\n",
    "        'filt_fine.unw.conncomp', 'filt_fine.unw.conncomp.vrt', 'filt_fine.unw.conncomp.xml'\n",
    "    ]\n",
    "    interferograms_dst = os.path.join(merged_dst, 'interferograms')\n",
    "    os.mkdir(interferograms_dst)\n",
    "    interferograms_src = os.path.join(stack_path, 'merged', 'interferograms')\n",
    "    ifgs = os.listdir(interferograms_src)\n",
    "    if ifgs:\n",
    "        for ifg in ifgs:\n",
    "            ifg_src = os.path.join(interferograms_src, ifg)\n",
    "            ifg_dst = os.path.join(interferograms_dst, ifg)\n",
    "            os.mkdir(ifg_dst)\n",
    "            for file in files:\n",
    "                file_src = os.path.join(ifg_src, file)\n",
    "                file_dst = os.path.join(ifg_dst, file)\n",
    "                shutil.copy(file_src, file_dst)"
   ]
  },
  {
   "cell_type": "code",
   "execution_count": null,
   "metadata": {},
   "outputs": [],
   "source": [
    "stack_path = '/media/ly/文件/res2'\n",
    "save_path = '/media/ly/file/sc1/isce_stack'\n",
    "copy_files(stack_path, save_path)"
   ]
  },
  {
   "cell_type": "markdown",
   "metadata": {},
   "source": [
    "## quickview"
   ]
  },
  {
   "cell_type": "code",
   "execution_count": null,
   "metadata": {
    "ExecuteTime": {
     "end_time": "2020-07-30T11:53:56.419219Z",
     "start_time": "2020-07-30T11:53:56.264160Z"
    },
    "code_folding": [
     5,
     15,
     24
    ],
    "scrolled": true
   },
   "outputs": [],
   "source": [
    "# %matplotlib inline\n",
    "import matplotlib\n",
    "matplotlib.use('Agg') \n",
    "from osgeo import gdal\n",
    "import matplotlib.pyplot as plt\n",
    "import numpy as np\n",
    "import glob\n",
    "\n",
    "\n",
    "def view_unw(unws, out_dir):\n",
    "    if unws:\n",
    "        if not os.path.isdir(out_dir):\n",
    "            os.mkdir(out_dir)\n",
    "        for unw in unws:\n",
    "            ds = gdal.Open(unw, gdal.GA_ReadOnly)\n",
    "            data = ds.GetRasterBand(2).ReadAsArray()\n",
    "            ds = None\n",
    "            fig,ax = plt.subplots(figsize=(11,10))\n",
    "            m = np.max(np.abs(data))\n",
    "            im = ax.imshow(data, cmap='jet', vmin=-m, vmax=m)\n",
    "            fig.colorbar(im)\n",
    "            ax.set_title('unwraped')\n",
    "            unw_name = unw.split('/')[-2] + '_unw'\n",
    "            fig.savefig(os.path.join(out_dir, unw_name))\n",
    "    else:\n",
    "        print('no unw found.')\n",
    "\n",
    "    \n",
    "def view_ifg(ifgs, out_dir):\n",
    "    if ifgs:\n",
    "        if not os.path.isdir(out_dir):\n",
    "            os.mkdir(out_dir)\n",
    "        for ifg in ifgs:\n",
    "            ds = gdal.Open(ifg, gdal.GA_ReadOnly)\n",
    "            data = ds.GetRasterBand(1).ReadAsArray()\n",
    "            ds = None\n",
    "            fig,ax = plt.subplots(figsize=(11,10))\n",
    "            im = ax.imshow(np.angle(data), cmap='jet')\n",
    "            fig.colorbar(im)\n",
    "            ax.set_title('interferogram')\n",
    "            ifg_name = ifg.split('/')[-2] + '_ifg'\n",
    "            fig.savefig(os.path.join(out_dir, ifg_name))\n",
    "    else:\n",
    "        print('no ifgs found.')\n",
    "\n",
    "    \n",
    "def view_cor(cors, out_dir):\n",
    "    if cors:\n",
    "        if not os.path.isdir(out_dir):\n",
    "            os.mkdir(out_dir)\n",
    "        for cor in cors:\n",
    "            ds = gdal.Open(cor, gdal.GA_ReadOnly)\n",
    "            data = ds.GetRasterBand(1).ReadAsArray()\n",
    "            ds = None\n",
    "            fig,ax = plt.subplots(figsize=(11,10))\n",
    "            im = ax.imshow((data), cmap='gray')\n",
    "            fig.colorbar(im)\n",
    "            ax.set_title('coherence')\n",
    "            fig.savefig(out_file)\n",
    "            cor_name = ifg.split('/')[-2] + '_cor'\n",
    "            fig.savefig(os.path.join(out_dir, cor_name))\n",
    "    else:\n",
    "        print('no cors found.')\n"
   ]
  },
  {
   "cell_type": "code",
   "execution_count": null,
   "metadata": {},
   "outputs": [],
   "source": [
    "interferograms_dir = '/media/ly/文件/MintPy/xsc/isce_stack/stack_res_1/merged/interferograms'\n",
    "unws = glob.glob(interferograms_dir + '/*/filt_fine.unw.vrt')\n",
    "ifgs = glob.glob(interferograms_dir + '/*/filt_fine.int.vrt')\n",
    "cors = glob.glob(interferograms_dir + '/*/filt_fine.cor.vrt')\n",
    "\n",
    "out_dir = '/media/ly/文件/MintPy/xsc/isce_stack/stack_res_1/merged/quickview'\n",
    "\n",
    "view_unw(unws, out_dir)\n",
    "view_ifg(ifgs, out_dir)\n",
    "view_cor(cors, out_dir)"
   ]
  },
  {
   "cell_type": "markdown",
   "metadata": {},
   "source": [
    "## remove ifgs"
   ]
  },
  {
   "cell_type": "code",
   "execution_count": null,
   "metadata": {
    "ExecuteTime": {
     "end_time": "2020-07-30T12:09:37.178507Z",
     "start_time": "2020-07-30T12:09:37.146327Z"
    }
   },
   "outputs": [],
   "source": [
    "import os\n",
    "import shutil\n",
    "\n",
    "\n",
    "def remove_ifg(origin_ifgs_path, removed_ifgs_path, ifgs):\n",
    "    if not os.path.isdir(removed_ifgs_path):\n",
    "        os.mkdir(removed_ifgs_path)\n",
    "    for ifg in ifgs:\n",
    "        ifg_path = os.path.join(origin_ifgs_path, ifg)\n",
    "        if os.path.isdir(ifg_path):\n",
    "            shutil.move(ifg_path, removed_ifgs_path)\n",
    "        else:\n",
    "            print(ifg + ' not exists.')\n",
    "\n",
    "ifgs = [\n",
    "    '20170120_20170303','20170219_20170327','20170315_20170408','20170923_20171005','20170923_20171017',\n",
    "    '20170923_20171110','20171204_20180121','20180614_20180626','20181105_20181223','20190116_20190128',\n",
    "    '20190221_20190422','20190808_20190925','20190820_20190925','20190901_20190925','20190913_20190925',\n",
    "    '20190913_20191019','20190913_20191031','20191007_20191124','20191019_20191206','20191112_20191206',\n",
    "    '20191112_20200111','20191124_20200111','20200228_20200404','20200228_20200416','20200522_20200615',\n",
    "    '20200603_20200627'\n",
    "]\n",
    "\n",
    "origin_ifgs_path = '/media/ly/file/sc1/isce_stack/merged/interferograms'\n",
    "removed_ifgs_path = '/media/ly/file/sc1/isce_stack/merged/removed_ifgs'\n",
    "\n",
    "remove_ifg(origin_ifgs_path, removed_ifgs_path, ifgs)"
   ]
  },
  {
   "cell_type": "markdown",
   "metadata": {
    "ExecuteTime": {
     "end_time": "2020-03-26T10:37:00.996426Z",
     "start_time": "2020-03-26T10:37:00.994324Z"
    }
   },
   "source": [
    "# MintPy"
   ]
  },
  {
   "cell_type": "markdown",
   "metadata": {},
   "source": [
    "## run sbas"
   ]
  },
  {
   "cell_type": "code",
   "execution_count": null,
   "metadata": {
    "ExecuteTime": {
     "end_time": "2020-08-08T00:49:24.047605Z",
     "start_time": "2020-08-08T00:49:23.177540Z"
    }
   },
   "outputs": [],
   "source": [
    "%matplotlib inline\n",
    "import os\n",
    "import numpy as np\n",
    "import matplotlib.pyplot as plt\n",
    "from mintpy.objects import ifgramStack\n",
    "from mintpy.utils import plot as pp, utils as ut\n",
    "from mintpy import view, plot_network\n",
    "from skimage.transform import resize\n",
    "from mintpy.objects import timeseries\n",
    "from mintpy.utils import ptime, readfile, utils as ut\n",
    "from mintpy import view\n",
    "\n",
    "prj_dir = '/media/ly/文件/sc2/mintpy6'\n",
    "if not os.path.isdir(prj_dir):\n",
    "    os.mkdir(prj_dir)\n",
    "\n",
    "prj_file = 'sc26.txt'                    # configure file\n",
    "gacos_dir = '/media/ly/文件/sc2/GACOS'\n",
    "os.chdir(prj_dir)                       # work directory"
   ]
  },
  {
   "cell_type": "code",
   "execution_count": null,
   "metadata": {
    "ExecuteTime": {
     "end_time": "2020-07-30T03:45:47.315073Z",
     "start_time": "2020-07-30T03:45:47.261877Z"
    },
    "tags": []
   },
   "outputs": [],
   "source": [
    "config = \"\"\"##-------------------------------- MintPy -----------------------------##\n",
    "########## 1. Load Data (--load to exit after this step)\n",
    "## load_data.py -H to check more details and example inputs.\n",
    "mintpy.load.processor        = isce\n",
    "##---------for ISCE only:\n",
    "mintpy.load.metaFile         = ../isce_stack/master/IW*.xml\n",
    "mintpy.load.baselineDir      = ../isce_stack/baselines\n",
    "##---------interferogram datasets:\n",
    "mintpy.load.unwFile          = ../isce_stack/merged/interferograms/*/filt_*.unw\n",
    "mintpy.load.corFile          = ../isce_stack/merged/interferograms/*/filt_*.cor\n",
    "mintpy.load.connCompFile     = ../isce_stack/merged/interferograms/*/filt_*.unw.conncomp\n",
    "##---------geometry datasets:\n",
    "mintpy.load.demFile          = ../isce_stack/merged/geom_master/hgt.rdr\n",
    "mintpy.load.lookupYFile      = ../isce_stack/merged/geom_master/lat.rdr\n",
    "mintpy.load.lookupXFile      = ../isce_stack/merged/geom_master/lon.rdr\n",
    "mintpy.load.incAngleFile     = ../isce_stack/merged/geom_master/los.rdr\n",
    "mintpy.load.azAngleFile      = ../isce_stack/merged/geom_master/los.rdr\n",
    "mintpy.load.shadowMaskFile   = ../isce_stack/merged/geom_master/shadowMask.rdr\n",
    "mintpy.load.waterMaskFile    = None\n",
    "##---------subset (optional):\n",
    "mintpy.subset.lalo \t\t\t= 30.522521:30.915466,102.775720:103.124288\n",
    "\n",
    "########## 2. modify_network\n",
    "mintpy.network.keepMinSpanTree \t\t= yes  #[yes / no], auto for yes, keep interferograms in Min Span Tree network\n",
    "\n",
    "########## 3. reference_point\n",
    "\n",
    "########## 4. correct_unwrap_error (optional)\n",
    "\n",
    "########## 5. invert_network\n",
    "mintpy.networkInversion.minTempCoh  \t= 0.5 #[0.0-1.0], auto for 0.7, min temporal coherence for mask\n",
    "\n",
    "########## 6. correct_troposphere (optional and recommended)\n",
    "mintpy.troposphericDelay.method         = height_correlation   #[pyaps / height_correlation / no], auto for pyaps\n",
    "\n",
    "########## 7. deramp (optional)\n",
    "mintpy.deramp                           = linear\n",
    "\n",
    "########## 8. correct_topography (optional and recommended)\n",
    "\n",
    "########## 9.1 residual_RMS (root mean squares for noise evaluation)\n",
    "\n",
    "########## 9.2 reference_date\n",
    "\n",
    "########## 10. velocity\n",
    "\n",
    "########## 11.1 geocode (post-processing)\n",
    "\n",
    "########## 11.2 google_earth (post-processing)\n",
    "\n",
    "########## 11.3 hdfeos5 (post-processing)\n",
    "\n",
    "########## 11.4 plot\n",
    "\"\"\"\n",
    "# with open(prj_file, 'w+') as f:\n",
    "#     f.write(config)"
   ]
  },
  {
   "cell_type": "markdown",
   "metadata": {},
   "source": [
    "### load_data"
   ]
  },
  {
   "cell_type": "code",
   "execution_count": null,
   "metadata": {
    "ExecuteTime": {
     "end_time": "2020-08-02T02:41:45.337112Z",
     "start_time": "2020-08-02T02:36:34.718238Z"
    },
    "scrolled": true,
    "tags": []
   },
   "outputs": [],
   "source": [
    "!smallbaselineApp.py $prj_file --dostep load_data"
   ]
  },
  {
   "cell_type": "code",
   "execution_count": null,
   "metadata": {
    "ExecuteTime": {
     "end_time": "2020-08-02T02:41:47.176864Z",
     "start_time": "2020-08-02T02:41:45.342896Z"
    },
    "scrolled": true
   },
   "outputs": [],
   "source": [
    "view.main('./inputs/ifgramStack.h5 20170120_20170213 --nrows 1 --ncols 3'.split())"
   ]
  },
  {
   "cell_type": "code",
   "execution_count": null,
   "metadata": {
    "ExecuteTime": {
     "end_time": "2020-08-02T02:41:48.109404Z",
     "start_time": "2020-08-02T02:41:47.179203Z"
    },
    "scrolled": true
   },
   "outputs": [],
   "source": [
    "!info.py ./inputs/geometryRadar.h5 --compact"
   ]
  },
  {
   "cell_type": "code",
   "execution_count": null,
   "metadata": {
    "ExecuteTime": {
     "end_time": "2020-08-02T02:41:48.121011Z",
     "start_time": "2020-08-02T02:41:48.116720Z"
    },
    "scrolled": true
   },
   "outputs": [],
   "source": [
    "# view.main('./inputs/geometryRadar.h5 --notick --noaxis'.split())"
   ]
  },
  {
   "cell_type": "markdown",
   "metadata": {},
   "source": [
    "### modify_network"
   ]
  },
  {
   "cell_type": "code",
   "execution_count": null,
   "metadata": {
    "ExecuteTime": {
     "end_time": "2020-08-02T02:42:03.720703Z",
     "start_time": "2020-08-02T02:41:48.124627Z"
    },
    "scrolled": true
   },
   "outputs": [],
   "source": [
    "!smallbaselineApp.py $prj_file --dostep modify_network"
   ]
  },
  {
   "cell_type": "code",
   "execution_count": null,
   "metadata": {
    "ExecuteTime": {
     "end_time": "2020-08-02T02:42:07.134383Z",
     "start_time": "2020-08-02T02:42:03.726644Z"
    },
    "scrolled": true
   },
   "outputs": [],
   "source": [
    "plot_network.main(['./inputs/ifgramStack.h5'])"
   ]
  },
  {
   "cell_type": "markdown",
   "metadata": {},
   "source": [
    "### reference_point"
   ]
  },
  {
   "cell_type": "code",
   "execution_count": null,
   "metadata": {
    "ExecuteTime": {
     "end_time": "2020-08-02T02:42:21.225586Z",
     "start_time": "2020-08-02T02:42:07.136997Z"
    },
    "scrolled": true
   },
   "outputs": [],
   "source": [
    "!smallbaselineApp.py $prj_file --dostep reference_point"
   ]
  },
  {
   "cell_type": "code",
   "execution_count": null,
   "metadata": {
    "ExecuteTime": {
     "end_time": "2020-08-02T02:42:21.713049Z",
     "start_time": "2020-08-02T02:42:21.231097Z"
    },
    "scrolled": true
   },
   "outputs": [],
   "source": [
    "!info.py ./inputs/ifgramStack.h5 | egrep 'REF_'    # attribute related to the reference point"
   ]
  },
  {
   "cell_type": "markdown",
   "metadata": {},
   "source": [
    "### correct_unwrap_error"
   ]
  },
  {
   "cell_type": "code",
   "execution_count": null,
   "metadata": {
    "ExecuteTime": {
     "end_time": "2020-08-02T02:42:23.565685Z",
     "start_time": "2020-08-02T02:42:21.718924Z"
    },
    "scrolled": true
   },
   "outputs": [],
   "source": [
    "!smallbaselineApp.py $prj_file --dostep correct_unwrap_error"
   ]
  },
  {
   "cell_type": "markdown",
   "metadata": {},
   "source": [
    "### invert_network"
   ]
  },
  {
   "cell_type": "code",
   "execution_count": null,
   "metadata": {
    "ExecuteTime": {
     "end_time": "2020-08-02T02:49:57.293224Z",
     "start_time": "2020-08-02T02:49:54.420397Z"
    },
    "scrolled": true
   },
   "outputs": [],
   "source": [
    "!smallbaselineApp.py $prj_file --dostep invert_network"
   ]
  },
  {
   "cell_type": "code",
   "execution_count": null,
   "metadata": {
    "ExecuteTime": {
     "end_time": "2020-08-02T02:50:03.812415Z",
     "start_time": "2020-08-02T02:49:57.298788Z"
    },
    "scrolled": true
   },
   "outputs": [],
   "source": [
    "view.main('timeseries.h5 --wrap --wrap-range -5 5 -u cm --notitle --notick --noaxis'.split())"
   ]
  },
  {
   "cell_type": "code",
   "execution_count": null,
   "metadata": {
    "ExecuteTime": {
     "end_time": "2020-08-02T02:50:04.970066Z",
     "start_time": "2020-08-02T02:50:03.815271Z"
    },
    "scrolled": true
   },
   "outputs": [],
   "source": [
    "view.main('temporalCoherence.h5 --notick --noaxis --noverbose'.split())\n",
    "view.main('maskTempCoh.h5 --notick --noaxis --noverbose'.split())"
   ]
  },
  {
   "cell_type": "markdown",
   "metadata": {},
   "source": [
    "### get GACOS.h5"
   ]
  },
  {
   "cell_type": "code",
   "execution_count": null,
   "metadata": {
    "ExecuteTime": {
     "end_time": "2020-08-08T00:49:26.742622Z",
     "start_time": "2020-08-08T00:49:26.721950Z"
    },
    "code_folding": []
   },
   "outputs": [],
   "source": [
    "def get_geo_delay(fztd, geo_box, atr, inc_angle):\n",
    "    meta = readfile.read_attribute(fztd)\n",
    "    coord = ut.coordinate(meta)\n",
    "    box = coord.box_geo2pixel(geo_box)\n",
    "    phs = readfile.read(fztd, box=box)[0]\n",
    "    phs[phs == 0] = np.nan\n",
    "\n",
    "    # interpolation\n",
    "    out_shape = (int(atr['LENGTH']), int(atr['WIDTH']))\n",
    "    phs = resize(phs, out_shape, order=1, mode='constant', anti_aliasing=True, preserve_range=True)\n",
    "\n",
    "    phs /= np.cos(inc_angle * np.pi / 180)\n",
    "    phs -= phs[int(atr['REF_Y']), int(atr['REF_X'])]\n",
    "    phs *= -1\n",
    "    return phs\n",
    "\n",
    "\n",
    "def cal_delay(ts_file, geom_file, gacos_dir, out_file):\n",
    "    obj = timeseries(ts_file)\n",
    "    obj.open()\n",
    "    atr = readfile.read_attribute(ts_file)\n",
    "    # get box_box\n",
    "    pixel_box = (0, 0, int(atr['WIDTH']), int(atr['LENGTH']))\n",
    "    geo_box = ut.coordinate(atr).box_pixel2geo(pixel_box)\n",
    "    # get inc_angle\n",
    "    inc_angle = readfile.read(geom_file, datasetName='incidenceAngle')[0]\n",
    "    # get grib file list\n",
    "    fztd_list = [os.path.join(gacos_dir, '{}.ztd'.format(i)) for i in obj.dateList]\n",
    "    # get date\n",
    "    num_date = obj.numDate\n",
    "    tropo = np.zeros((num_date, obj.length, obj.width), dtype=np.float32)\n",
    "    prog_bar = ptime.progressBar(maxValue=num_date)\n",
    "    for i in range(num_date):\n",
    "        fztd = fztd_list[i]\n",
    "        tropo[i, :, :] = get_geo_delay(fztd, geo_box, atr, inc_angle)\n",
    "        prog_bar.update(i+1, suffix=os.path.basename(fztd))\n",
    "    prog_bar.close()\n",
    "    tropo -= np.tile(tropo[0, :, :], (num_date, 1, 1))\n",
    "    # write deley to h5 file\n",
    "    obj_out = timeseries(out_file)\n",
    "    obj_out.write2hdf5(data=tropo, dates=obj.dateList, metadata=atr, refFile=ts_file)"
   ]
  },
  {
   "cell_type": "code",
   "execution_count": null,
   "metadata": {
    "ExecuteTime": {
     "end_time": "2020-08-06T06:10:41.391231Z",
     "start_time": "2020-08-06T06:10:02.920513Z"
    }
   },
   "outputs": [],
   "source": [
    "out_file = os.path.join(prj_dir, 'inputs/GACOS.h5')\n",
    "ts_file = os.path.join(prj_dir, 'timeseries.h5')\n",
    "geom_file = os.path.join(prj_dir, 'inputs/geometryRadar.h5')\n",
    "\n",
    "# cal_delay(ts_file, geom_file, gacos_dir, out_file)"
   ]
  },
  {
   "cell_type": "markdown",
   "metadata": {},
   "source": [
    "### correct_troposphere"
   ]
  },
  {
   "cell_type": "code",
   "execution_count": null,
   "metadata": {
    "ExecuteTime": {
     "end_time": "2020-08-08T01:05:11.939506Z",
     "start_time": "2020-08-08T01:05:04.328273Z"
    },
    "scrolled": false
   },
   "outputs": [],
   "source": [
    "!diff.py timeseries.h5 inputs/GACOS.h5 -o timeseries_GACOS.h5"
   ]
  },
  {
   "cell_type": "code",
   "execution_count": null,
   "metadata": {
    "ExecuteTime": {
     "end_time": "2020-08-08T00:49:53.923864Z",
     "start_time": "2020-08-08T00:49:41.832738Z"
    },
    "scrolled": true
   },
   "outputs": [],
   "source": [
    "view.main('timeseries_GACOS.h5 --wrap --wrap-range -5 5 -u cm --notitle --notick --noaxis'.split())"
   ]
  },
  {
   "cell_type": "markdown",
   "metadata": {},
   "source": [
    "### deramp"
   ]
  },
  {
   "cell_type": "code",
   "execution_count": null,
   "metadata": {
    "ExecuteTime": {
     "end_time": "2020-08-02T02:50:17.558724Z",
     "start_time": "2020-08-02T02:50:14.165576Z"
    }
   },
   "outputs": [],
   "source": [
    "!remove_ramp.py timeseries_GACOS.h5 -m maskTempCoh.h5 -s quadratic"
   ]
  },
  {
   "cell_type": "markdown",
   "metadata": {},
   "source": [
    "### correct_topography"
   ]
  },
  {
   "cell_type": "code",
   "execution_count": null,
   "metadata": {
    "ExecuteTime": {
     "end_time": "2020-08-02T02:50:23.595256Z",
     "start_time": "2020-08-02T02:50:17.562809Z"
    },
    "scrolled": true
   },
   "outputs": [],
   "source": [
    "!dem_error.py timeseries_GACOS_ramp.h5 -t $prj_file"
   ]
  },
  {
   "cell_type": "code",
   "execution_count": null,
   "metadata": {
    "ExecuteTime": {
     "end_time": "2020-08-02T02:50:30.259252Z",
     "start_time": "2020-08-02T02:50:23.600782Z"
    },
    "scrolled": true
   },
   "outputs": [],
   "source": [
    "view.main('timeseries_GACOS_ramp_demErr.h5 --notitle --wrap --wrap-range -5 5 --notick --noaxis'.split())"
   ]
  },
  {
   "cell_type": "markdown",
   "metadata": {},
   "source": [
    "### residual_RMS"
   ]
  },
  {
   "cell_type": "code",
   "execution_count": null,
   "metadata": {
    "ExecuteTime": {
     "end_time": "2020-08-02T02:50:35.170956Z",
     "start_time": "2020-08-02T02:50:30.261581Z"
    },
    "scrolled": true
   },
   "outputs": [],
   "source": [
    "!timeseries_rms.py timeseriesResidual.h5  -m maskTempCoh.h5  --cutoff 3 -t $prj_file"
   ]
  },
  {
   "cell_type": "code",
   "execution_count": null,
   "metadata": {
    "ExecuteTime": {
     "end_time": "2020-08-02T02:50:35.310546Z",
     "start_time": "2020-08-02T02:50:35.176491Z"
    }
   },
   "outputs": [],
   "source": [
    "!head rms_timeseriesResidual_ramp.txt"
   ]
  },
  {
   "cell_type": "markdown",
   "metadata": {},
   "source": [
    "### reference_date"
   ]
  },
  {
   "cell_type": "code",
   "execution_count": null,
   "metadata": {
    "ExecuteTime": {
     "end_time": "2020-08-02T02:50:35.449658Z",
     "start_time": "2020-08-02T02:50:35.314498Z"
    }
   },
   "outputs": [],
   "source": [
    "!cat reference_date.txt    #auto selected optimal reference date."
   ]
  },
  {
   "cell_type": "code",
   "execution_count": null,
   "metadata": {
    "ExecuteTime": {
     "end_time": "2020-08-02T02:50:36.399824Z",
     "start_time": "2020-08-02T02:50:35.453825Z"
    }
   },
   "outputs": [],
   "source": [
    "## plot the RMS value\n",
    "from mintpy.timeseries_rms import plot_rms_bar\n",
    "txtContent = np.loadtxt('./rms_timeseriesResidual_ramp.txt', dtype=bytes).astype(str)\n",
    "rms_list = [float(i) for i in txtContent[:, 1]]\n",
    "date_list = [i for i in txtContent[:, 0]]\n",
    "fig, ax = plt.subplots(figsize=[10, 4])\n",
    "ax = plot_rms_bar(ax, date_list, rms_list)\n",
    "plt.show()"
   ]
  },
  {
   "cell_type": "code",
   "execution_count": null,
   "metadata": {
    "ExecuteTime": {
     "end_time": "2020-08-02T02:50:41.501109Z",
     "start_time": "2020-08-02T02:50:36.402770Z"
    },
    "scrolled": true
   },
   "outputs": [],
   "source": [
    "!reference_date.py -r reference_date.txt timeseries.h5 timeseries_GACOS.h5 timeseries_GACOS_ramp.h5 timeseries_GACOS_ramp_demErr.h5"
   ]
  },
  {
   "cell_type": "markdown",
   "metadata": {},
   "source": [
    "### velocity"
   ]
  },
  {
   "cell_type": "code",
   "execution_count": null,
   "metadata": {
    "ExecuteTime": {
     "end_time": "2020-08-02T02:50:43.173211Z",
     "start_time": "2020-08-02T02:50:41.507122Z"
    },
    "scrolled": true
   },
   "outputs": [],
   "source": [
    "!timeseries2velocity.py timeseries_GACOS_ramp_demErr.h5 -t $prj_file -o velocity_GACOS.h5 --update"
   ]
  },
  {
   "cell_type": "code",
   "execution_count": null,
   "metadata": {
    "ExecuteTime": {
     "end_time": "2020-08-02T02:50:46.904029Z",
     "start_time": "2020-08-02T02:50:43.179294Z"
    },
    "scrolled": true
   },
   "outputs": [],
   "source": [
    "view.main('velocity_GACOS.h5 --notick --noaxis --noverbose'.split())"
   ]
  },
  {
   "cell_type": "markdown",
   "metadata": {},
   "source": [
    "### geocode"
   ]
  },
  {
   "cell_type": "code",
   "execution_count": null,
   "metadata": {
    "ExecuteTime": {
     "end_time": "2020-08-02T02:50:52.044363Z",
     "start_time": "2020-08-02T02:50:46.906823Z"
    },
    "scrolled": true
   },
   "outputs": [],
   "source": [
    "!geocode.py -l ./inputs/geometryRadar.h5 -t $prj_file --outdir ./geo --update ./inputs/geometryRadar.h5 maskTempCoh.h5 temporalCoherence.h5 timeseries_GACOS_ramp_demErr.h5 velocity_GACOS.h5"
   ]
  },
  {
   "cell_type": "code",
   "execution_count": null,
   "metadata": {
    "ExecuteTime": {
     "end_time": "2020-08-02T02:50:53.619597Z",
     "start_time": "2020-08-02T02:50:52.049925Z"
    },
    "scrolled": true
   },
   "outputs": [],
   "source": [
    "view.main('./geo/geo_velocity_GACOS.h5 velocity --dem ./geo/geo_geometryRadar.h5 --figsize 12 12 --notick --noaxis'.split())"
   ]
  },
  {
   "cell_type": "markdown",
   "metadata": {},
   "source": [
    "### save kmz"
   ]
  },
  {
   "cell_type": "code",
   "execution_count": null,
   "metadata": {
    "ExecuteTime": {
     "end_time": "2020-08-02T02:51:04.607902Z",
     "start_time": "2020-08-02T02:50:53.621873Z"
    },
    "scrolled": true
   },
   "outputs": [],
   "source": [
    "!save_kmz.py ./geo/geo_velocity_GACOS.h5 -m ./geo/geo_maskTempCoh.h5 -u mm -v -60 60 -c jet -o ./geo/geo_velocity_GACOS"
   ]
  },
  {
   "cell_type": "code",
   "execution_count": null,
   "metadata": {
    "ExecuteTime": {
     "end_time": "2020-08-02T02:52:18.223760Z",
     "start_time": "2020-08-02T02:51:04.613307Z"
    },
    "scrolled": true
   },
   "outputs": [],
   "source": [
    "!save_kmz_timeseries.py ./geo/geo_timeseries_GACOS_ramp_demErr.h5 --steps 20 5 1 --cutoff 0 --vel ./geo/geo_velocity_GACOS.h5"
   ]
  },
  {
   "cell_type": "markdown",
   "metadata": {},
   "source": [
    "## post-processing"
   ]
  },
  {
   "cell_type": "markdown",
   "metadata": {},
   "source": [
    "### time-series displacement"
   ]
  },
  {
   "cell_type": "code",
   "execution_count": null,
   "metadata": {
    "ExecuteTime": {
     "end_time": "2020-08-02T02:52:18.250697Z",
     "start_time": "2020-08-02T02:52:18.230191Z"
    },
    "code_folding": [
     8,
     14,
     42
    ]
   },
   "outputs": [],
   "source": [
    "%matplotlib inline\n",
    "import os\n",
    "import datetime\n",
    "import numpy as np\n",
    "import matplotlib.pyplot as plt\n",
    "from mintpy.utils import utils as ut, plot as pp\n",
    "from mintpy.defaults.plot import *\n",
    "\n",
    "\n",
    "def datetime2str(datetime_list):\n",
    "    date_str = []\n",
    "    for d in datetime_list:\n",
    "        date_str.append(d.strftime('%Y%m%d'))\n",
    "    return date_str\n",
    "\n",
    "\n",
    "def compare_displacement(ys, xs, ts_files, figsize=(15,7), y_lim=[-100, 100]):\n",
    "    fig, ax = plt.subplots(figsize=figsize)\n",
    "    ax.set_title('time series displacement', fontsize=40)\n",
    "    ax.set_xlabel('date', fontsize=30)\n",
    "    ax.set_ylabel('displacrment (mm)', fontsize=30)\n",
    "    \n",
    "    ax.set_ylim(y_lim[0], y_lim[1])\n",
    "    ax.set_aspect('0.2')\n",
    "    ax.minorticks_on()\n",
    "    ax.xaxis.grid(True, which='both')\n",
    "    ax.xaxis.set_tick_params(rotation=30, labelsize=15)\n",
    "    ax.yaxis.grid(True, which='major')\n",
    "    ax.yaxis.set_tick_params(rotation=0, labelsize=15)\n",
    "    ax.set_xmargin(0.02)\n",
    "    \n",
    "    for ts_file in ts_files:\n",
    "        for y, x in zip(ys, xs):\n",
    "            date, dis = ut.read_timeseries_yx(y=y, x=x, ts_file=ts_file)\n",
    "            date_str = datetime2str(date)\n",
    "            disp_type = ts_file.split('_')[-3]\n",
    "            label = disp_type + f\" Point({y},{x})\"\n",
    "            ax.plot(date_str, dis * 1000, label=label, marker='o')\n",
    "            ax.xaxis.set_ticks(date_str[::4])\n",
    "    ax.legend(loc='best', fontsize=20, ncol=2)\n",
    "    fig.show()\n",
    "    \n",
    "    \n",
    "def plot_displacement(ys, xs, tsfile, figsize=(15,7), y_lim=[-100, 100]):\n",
    "    fig, ax = plt.subplots(figsize=figsize)\n",
    "    ax.set_title('time series displacement', fontsize=40)\n",
    "    ax.set_xlabel('date', fontsize=30)\n",
    "    ax.set_ylabel('displacrment (mm)', fontsize=30)\n",
    "\n",
    "    ax.set_ylim(y_lim[0], y_lim[1])\n",
    "    ax.set_aspect('0.2')\n",
    "    ax.minorticks_on()\n",
    "    ax.xaxis.grid(True, which='both')\n",
    "    ax.xaxis.set_tick_params(rotation=30, labelsize=15)\n",
    "    ax.yaxis.grid(True, which='major')\n",
    "    ax.yaxis.set_tick_params(rotation=0, labelsize=15)\n",
    "    ax.set_xmargin(0.02)\n",
    "\n",
    "    for y, x in zip(ys, xs):\n",
    "        date, dis = ut.read_timeseries_yx(y=y, x=x, ts_file=tsfile)\n",
    "        date_str = datetime2str(date)\n",
    "        label = \"Point ({}, {})\".format(y, x)\n",
    "        ax.plot(date_str, dis * 1000, label=label, marker='o')\n",
    "        ax.xaxis.set_ticks(date_str[::4])\n",
    "    ax.legend(loc='best', fontsize=20, ncol=2)\n",
    "    fig.show()\n",
    "#     fig.savefig('disp.png', dpi=600)\n",
    "    "
   ]
  },
  {
   "cell_type": "code",
   "execution_count": null,
   "metadata": {
    "ExecuteTime": {
     "end_time": "2020-08-02T02:52:18.347835Z",
     "start_time": "2020-08-02T02:52:18.253828Z"
    },
    "code_folding": [],
    "scrolled": false
   },
   "outputs": [],
   "source": [
    "proj_dir = '/media/ly/文件/sc2/mintpy6/'\n",
    "    \n",
    "ts_files = [\n",
    "    os.path.join(proj_dir, 'geo0.5/geo_timeseries_tropHgt_ramp_demErr.h5'),\n",
    "    os.path.join(proj_dir, 'geo/geo_timeseries_GACOS_ramp_demErr.h5')\n",
    "]\n",
    "ys =[520]\n",
    "xs = [1100]\n",
    "\n",
    "# compare_displacement(ys, xs, ts_files, figsize=(25, 15), y_lim=[-200, 100])\n",
    "\n",
    "plot_displacement(ys, xs, ts_files[0], figsize=(25, 15), y_lim=[-200, 20])"
   ]
  },
  {
   "cell_type": "markdown",
   "metadata": {},
   "source": [
    "### vel2xyz"
   ]
  },
  {
   "cell_type": "code",
   "execution_count": null,
   "metadata": {
    "ExecuteTime": {
     "end_time": "2020-08-02T02:52:18.443123Z",
     "start_time": "2020-08-02T02:52:18.351990Z"
    },
    "code_folding": [
     6,
     36
    ],
    "scrolled": true
   },
   "outputs": [],
   "source": [
    "import os\n",
    "import random\n",
    "import numpy as np\n",
    "from mintpy.utils import readfile\n",
    "\n",
    "\n",
    "def vel2xyz(mask_file, vel_file, xyz_file):\n",
    "    mask, atr = readfile.read(mask_file)\n",
    "    mask = np.asarray(mask)\n",
    "\n",
    "    vel, atr = readfile.read(vel_file)\n",
    "    vel = np.asarray(vel)\n",
    "\n",
    "    lon = float(atr['X_FIRST'])\n",
    "    lon_step = float(atr['X_STEP'])\n",
    "\n",
    "    lat = float(atr['Y_FIRST'])\n",
    "    lat_step = float(atr['Y_STEP'])\n",
    "\n",
    "    lon_tmp = np.linspace(lon, lon + lon_step * vel.shape[1], vel.shape[1])\n",
    "    lat_tmp = np.linspace(lat, lat + lat_step * vel.shape[0], vel.shape[0])\n",
    "\n",
    "    lons, lats = np.meshgrid(lon_tmp, lat_tmp)\n",
    "\n",
    "    lons = lons[mask].reshape((-1, 1))\n",
    "    lats = lats[mask].reshape((-1, 1))\n",
    "    vel = vel[mask].reshape((-1, 1)) * 1000\n",
    "    print('v_max : ', np.max(vel))\n",
    "    print('v_min : ', np.min(vel))\n",
    "    print('number of points : ', vel.shape[0])\n",
    "\n",
    "    vels = np.concatenate([lons, lats, vel], axis=1)\n",
    "    print('writing data to {}'.format(xyz_file))\n",
    "    np.savetxt(xyz_file, vels, fmt='%4f')\n",
    "    print('done.\\n')\n",
    "\n",
    "    \n",
    "def random_downsample(xyz_file, percent):\n",
    "    if os.path.isfile(xyz_file):\n",
    "        data = np.loadtxt(xyz_file)\n",
    "        point_num = data.shape[0]\n",
    "        index = random.sample(range(point_num), int(point_num * percent))\n",
    "        \n",
    "        base_name = os.path.basename(xyz_file)\n",
    "        dir_name = os.path.dirname(xyz_file)\n",
    "        out_name = base_name.replace('.', '_ds.')\n",
    "        out_file = os.path.join(dir_name, out_name)\n",
    "        out_data = data[index, :]\n",
    "        print('v_max : ', np.max(out_data))\n",
    "        print('v_min : ', np.min(out_data))\n",
    "        print('number of points : ', out_data.shape[0])\n",
    "        print('writing data to {}'.format(out_file))\n",
    "        np.savetxt(out_file, out_data, fmt='%4f')\n",
    "        print('done.')\n"
   ]
  },
  {
   "cell_type": "code",
   "execution_count": null,
   "metadata": {
    "ExecuteTime": {
     "end_time": "2020-08-02T02:52:18.530452Z",
     "start_time": "2020-08-02T02:52:18.447411Z"
    }
   },
   "outputs": [],
   "source": [
    "geo_dir = '/media/ly/文件/MintPy/xsc/mintpy/geo'\n",
    "\n",
    "mask_file = os.path.join(geo_dir, 'geo_maskTempCoh.h5')\n",
    "vel_file = os.path.join(geo_dir, 'geo_velocity.h5')\n",
    "\n",
    "out_vel_file = os.path.join(geo_dir, 'vel.txt')\n",
    "\n",
    "vel2xyz(mask_file, vel_file, out_vel_file)\n",
    "random_downsample(out_vel_file, 0.8)"
   ]
  },
  {
   "cell_type": "markdown",
   "metadata": {},
   "source": [
    "### prepare data for `make_kmz_timeseries.py` and `make_kmz.py`"
   ]
  },
  {
   "cell_type": "code",
   "execution_count": null,
   "metadata": {},
   "outputs": [],
   "source": [
    "import h5py\n",
    "import numpy as np\n",
    "from mintpy.utils import readfile\n",
    "\n",
    "def get_date(ts_file):\n",
    "    date_out = [0, 0, 0]\n",
    "    with h5py.File(ts_file, 'r') as f:\n",
    "        date = f['date'].value\n",
    "        for d in date:\n",
    "            date_out.append(int(d))\n",
    "    return np.asarray(date_out, np.float64)\n",
    "        \n",
    "\n",
    "def prep_data_for_kmz(mask_file, vel_file, ts_file, out_vel_file, out_ts_file):\n",
    "    mask, atr = readfile.read(mask_file)\n",
    "    mask = np.asarray(mask)\n",
    "    \n",
    "    vel, atr = readfile.read(vel_file)\n",
    "    vel = np.asarray(vel) * 1000\n",
    "    \n",
    "    date = get_date(ts_file)\n",
    "    ts, atr = readfile.read(ts_file)\n",
    "    ts = np.asarray(ts)\n",
    "    ts = ts.reshape((date.shape[0] - 3, -1, 1)) * 1000\n",
    "\n",
    "    lon = float(atr['X_FIRST'])\n",
    "    lon_step = float(atr['X_STEP'])\n",
    "\n",
    "    lat = float(atr['Y_FIRST'])\n",
    "    lat_step = float(atr['Y_STEP'])\n",
    "\n",
    "    lon_tmp = np.linspace(lon, lon + lon_step * vel.shape[1], vel.shape[1])\n",
    "    lat_tmp = np.linspace(lat, lat + lat_step * vel.shape[0], vel.shape[0])\n",
    "\n",
    "    lons, lats = np.meshgrid(lon_tmp, lat_tmp)\n",
    "\n",
    "    lons = lons.reshape((-1, 1))\n",
    "    lats = lats.reshape((-1, 1))\n",
    "    vels = vel.reshape((-1, 1))\n",
    "    mask = mask.reshape((-1, 1))\n",
    "\n",
    "#     not_nan = ~np.isnan(vels)\n",
    "\n",
    "    lons = lons[mask].reshape((-1, 1))\n",
    "    lats = lats[mask].reshape((-1, 1))\n",
    "    vels = vels[mask].reshape((-1, 1))\n",
    "\n",
    "    llv = np.hstack((lons, lats, vels))\n",
    "    # save lon, lat, velocity\n",
    "    print('writing data to {}'.format(out_vel_file))\n",
    "    np.savetxt(out_vel_file, llv, fmt='%4f')\n",
    "    print('done.')\n",
    "\n",
    "    llvs = llv\n",
    "    for i in range(ts.shape[0]):\n",
    "        data = ts[i]\n",
    "        llvs = np.hstack((llvs, data[mask].reshape((-1, 1))))\n",
    "    \n",
    "    tmp = llvs[:, 3:]\n",
    "    tmp = tmp - tmp[:, 0].reshape((-1, 1))\n",
    "    tmp = np.hstack((llv, tmp))\n",
    "    \n",
    "    llvs = np.vstack((date, tmp))\n",
    "    \n",
    "    # save lon, lat, vel, disp\n",
    "    print('writing data to {}'.format(out_ts_file))\n",
    "    np.savetxt(out_ts_file, llvs, fmt='%4f')\n",
    "    print('done.')\n"
   ]
  },
  {
   "cell_type": "code",
   "execution_count": null,
   "metadata": {},
   "outputs": [],
   "source": [
    "geo_dir = '/media/ly/文件/MintPy/xsc/mintpy/geo'\n",
    "\n",
    "mask_file = os.path.join(geo_dir, 'geo_maskTempCoh.h5')\n",
    "vel_file = os.path.join(geo_dir, 'geo_velocity.h5')\n",
    "ts_file = os.path.join(geo_dir, 'geo_timeseries_tropHgt_ramp_demErr.h5')\n",
    "\n",
    "out_vel_file = os.path.join(geo_dir, 'vels.txt')\n",
    "out_ts_file = os.path.join(geo_dir, 'ts.txt')\n",
    "\n",
    "prep_data_for_kmz(mask_file, vel_file, ts_file, out_vel_file, out_ts_file)"
   ]
  },
  {
   "cell_type": "markdown",
   "metadata": {},
   "source": [
    "### transection"
   ]
  },
  {
   "cell_type": "code",
   "execution_count": null,
   "metadata": {
    "ExecuteTime": {
     "end_time": "2020-08-02T02:52:18.593888Z",
     "start_time": "2020-08-02T02:52:18.534733Z"
    },
    "code_folding": []
   },
   "outputs": [],
   "source": [
    "%matplotlib inline\n",
    "import os\n",
    "import matplotlib.pyplot as plt\n",
    "from mintpy.plot_transection import transectionViewer\n",
    "\n",
    "\n",
    "def plot_transection(fname='./velocity.h5', start_yx=None, end_yx=None):\n",
    "    cmd = 'plot_transection.py {} --noverbose --figsize 9 4 '.format(fname)\n",
    "    if start_yx is not None:\n",
    "        cmd += ' --start-yx {} {}'.format(start_yx[0], start_yx[1])\n",
    "    if end_yx is not None:\n",
    "        cmd += ' --end-yx {} {}'.format(end_yx[0], end_yx[1])\n",
    "    print(cmd)\n",
    "    obj = transectionViewer(cmd)\n",
    "    obj.configure()\n",
    "    obj.plot()\n",
    "    return obj"
   ]
  },
  {
   "cell_type": "code",
   "execution_count": null,
   "metadata": {
    "ExecuteTime": {
     "end_time": "2020-08-02T02:52:18.682034Z",
     "start_time": "2020-08-02T02:52:18.598841Z"
    },
    "scrolled": false
   },
   "outputs": [],
   "source": [
    "# proj_dir = '/media/ly/文件/xsc/mintpy/'\n",
    "# os.chdir(proj_dir)\n",
    "# obj = plot_transection('./geo/geo_velocity.h5', start_yx=[712, 2400], end_yx=[724, 2435])"
   ]
  },
  {
   "cell_type": "code",
   "execution_count": null,
   "metadata": {},
   "outputs": [],
   "source": []
  }
 ],
 "metadata": {
  "kernelspec": {
   "display_name": "Python 3",
   "language": "python",
   "name": "python3"
  },
  "language_info": {
   "codemirror_mode": {
    "name": "ipython",
    "version": 3
   },
   "file_extension": ".py",
   "mimetype": "text/x-python",
   "name": "python",
   "nbconvert_exporter": "python",
   "pygments_lexer": "ipython3",
   "version": "3.6.9"
  },
  "notify_time": "0",
  "toc": {
   "base_numbering": 1,
   "nav_menu": {},
   "number_sections": true,
   "sideBar": true,
   "skip_h1_title": false,
   "title_cell": "Table of Contents",
   "title_sidebar": "Contents",
   "toc_cell": false,
   "toc_position": {
    "height": "calc(100% - 180px)",
    "left": "10px",
    "top": "150px",
    "width": "248.667px"
   },
   "toc_section_display": true,
   "toc_window_display": true
  },
  "varInspector": {
   "cols": {
    "lenName": 16,
    "lenType": 16,
    "lenVar": 40
   },
   "kernels_config": {
    "python": {
     "delete_cmd_postfix": "",
     "delete_cmd_prefix": "del ",
     "library": "var_list.py",
     "varRefreshCmd": "print(var_dic_list())"
    },
    "r": {
     "delete_cmd_postfix": ") ",
     "delete_cmd_prefix": "rm(",
     "library": "var_list.r",
     "varRefreshCmd": "cat(var_dic_list()) "
    }
   },
   "types_to_exclude": [
    "module",
    "function",
    "builtin_function_or_method",
    "instance",
    "_Feature"
   ],
   "window_display": false
  }
 },
 "nbformat": 4,
 "nbformat_minor": 4
}