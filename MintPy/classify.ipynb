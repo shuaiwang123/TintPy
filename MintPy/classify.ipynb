{
 "cells": [
  {
   "cell_type": "markdown",
   "metadata": {},
   "source": [
    "## all functions"
   ]
  },
  {
   "cell_type": "code",
   "execution_count": null,
   "metadata": {
    "ExecuteTime": {
     "end_time": "2020-09-25T12:37:07.300895Z",
     "start_time": "2020-09-25T12:37:06.932217Z"
    }
   },
   "outputs": [],
   "source": [
    "import os\n",
    "import numpy as np\n",
    "from xml.dom.minidom import parse\n",
    "from shapely.geometry import asPolygon\n",
    "import glob\n",
    "import shutil\n",
    "import zipfile\n",
    "\n",
    "\n",
    "# ------------------------------classify by county------------------------------\n",
    "def kml2polygon(kml_file):\n",
    "    # unzip kmz to get kml\n",
    "    if kml_file.endswith('.kmz'):\n",
    "        dir_name = os.path.dirname(kml_file)\n",
    "        with zipfile.ZipFile(kml_file, 'r') as f:\n",
    "            files = f.namelist()\n",
    "            f.extract(files[0], dir_name)\n",
    "        kml_file = os.path.join(dir_name, 'doc.kml')\n",
    "\n",
    "    domTree = parse(kml_file)\n",
    "    rootNode = domTree.documentElement\n",
    "    Placemarks = rootNode.getElementsByTagName('Placemark')\n",
    "\n",
    "    polygon_dict = {}\n",
    "    j = 0\n",
    "\n",
    "    for Placemark in Placemarks:\n",
    "        name = Placemark.getElementsByTagName('name')[0].childNodes[0].data\n",
    "        ploygon = Placemark.getElementsByTagName('Polygon')[0]\n",
    "        outerBoundaryIs = ploygon.getElementsByTagName('outerBoundaryIs')[0]\n",
    "        LinearRing = outerBoundaryIs.getElementsByTagName('LinearRing')[0]\n",
    "        coordinates = LinearRing.getElementsByTagName(\n",
    "            'coordinates')[0].childNodes[0].data\n",
    "        lon_lat = [i.split(',')[0:2] for i in coordinates.strip().split(' ')]\n",
    "        polygon_dict[name] = np.asarray(lon_lat, dtype='float64')\n",
    "        j += 1\n",
    "    return polygon_dict\n",
    "\n",
    "\n",
    "def intersect(point, s_point, e_point):\n",
    "    if s_point[1] == e_point[\n",
    "            1]:  # parallel and coincident with the ray，s_point coincides with s_point\n",
    "        return False\n",
    "    if s_point[1] > point[1] and e_point[1] > point[\n",
    "            1]:  # line segment is above the ray\n",
    "        return False\n",
    "    if s_point[1] < point[1] and e_point[1] < point[\n",
    "            1]:  # line segment under the ray\n",
    "        return False\n",
    "    if s_point[1] == point[\n",
    "            1] and e_point[1] > point[1]:  # point coincides with s_point\n",
    "        return False\n",
    "    if e_point[1] == point[\n",
    "            1] and s_point[1] > point[1]:  # point coincides with e_point\n",
    "        return False\n",
    "    # line segment is to the left of the ray\n",
    "    if s_point[0] < point[0] and e_point[0] < point[0]:\n",
    "        return False\n",
    "\n",
    "    xseg = e_point[0]-(e_point[0]-s_point[0])*(e_point[1]-point[1]) / \\\n",
    "        (e_point[1]-s_point[1])  # find the intersection\n",
    "    if xseg < point[0]:  # intersection is to the left of point\n",
    "        return False\n",
    "    return True\n",
    "\n",
    "\n",
    "def inpolygon(point, polygon):\n",
    "    num = 0  # number of intersection\n",
    "    for i in range(len(polygon) - 1):\n",
    "        if intersect(point, polygon[i], polygon[i + 1]):\n",
    "            num += 1\n",
    "    return True if num % 2 == 1 else False\n",
    "\n",
    "\n",
    "def get_centroid(txt):\n",
    "    data = np.loadtxt(txt)\n",
    "    lon_lat = data[1:, 1:3]\n",
    "    polygon = asPolygon(lon_lat)\n",
    "    return np.asarray(polygon.centroid)\n",
    "\n",
    "\n",
    "def get_center(txt):\n",
    "    data = np.loadtxt(txt)\n",
    "    lon = data[1:, 1]\n",
    "    lat = data[1:, 2]\n",
    "    lon_mean = np.mean(lon)\n",
    "    lat_mean = np.mean(lat)\n",
    "    return [lon_mean, lat_mean]\n",
    "\n",
    "\n",
    "# ------------------------------classify by county------------------------------\n",
    "\n",
    "\n",
    "# ------------------------------classify by velocity------------------------------\n",
    "def load_data(ts_file):\n",
    "    try:\n",
    "        data = np.loadtxt(ts_file)\n",
    "        vel = data[1:, 3]\n",
    "        return vel\n",
    "    except:\n",
    "        return [0]\n",
    "\n",
    "\n",
    "def judge_class(vel, filter):\n",
    "    min_vel = np.min(vel)\n",
    "    max_vel = np.max(vel)\n",
    "    positive_num = np.where(vel >= 0)[0].size\n",
    "    negative_num = np.where(vel <= 0)[0].size\n",
    "    positive_rate = positive_num / vel.size\n",
    "    negative_rate = negative_num / vel.size\n",
    "    if positive_rate > negative_rate:\n",
    "        for i in range(len(filter) - 1):\n",
    "            min_f = filter[i]\n",
    "            max_f = filter[i + 1]\n",
    "            if max_vel >= min_f and max_vel < max_f:\n",
    "                return str(max_f)\n",
    "            elif max_vel < filter[0]:\n",
    "                return str(filter[0])\n",
    "            elif max_vel > filter[-1]:\n",
    "                return str(filter[-1])\n",
    "    else:\n",
    "        for i in range(len(filter) - 1):\n",
    "            min_f = filter[i]\n",
    "            max_f = filter[i + 1]\n",
    "            if min_vel >= min_f and min_vel < max_f:\n",
    "                return str(min_f)\n",
    "            elif min_vel < filter[0]:\n",
    "                return str(filter[0])\n",
    "            elif min_vel > filter[-1]:\n",
    "                return str(filter[-1])\n",
    "\n",
    "\n",
    "# ------------------------------classify by velocity------------------------------"
   ]
  },
  {
   "cell_type": "markdown",
   "metadata": {},
   "source": [
    "## classify by county"
   ]
  },
  {
   "cell_type": "code",
   "execution_count": null,
   "metadata": {
    "ExecuteTime": {
     "end_time": "2020-09-24T06:37:07.636755Z",
     "start_time": "2020-09-24T06:35:18.863359Z"
    },
    "scrolled": true
   },
   "outputs": [],
   "source": [
    "county = kml2polygon('/media/ly/文件/sc_prj/Sentinel-1/按县分级/所有县.kmz')\n",
    "txts = glob.glob(\n",
    "    os.path.join('/media/ly/文件/sc_prj/Sentinel-1/按县分级/有序号', '*.txt'))\n",
    "\n",
    "save_path = '/media/ly/文件/sc_prj/Sentinel-1/按县分级/按县分类'\n",
    "\n",
    "kmz_dir = '/media/ly/文件/sc_prj/Sentinel-1/按县分级/升降轨合并_all'\n",
    "\n",
    "for txt in txts:\n",
    "    for key, value in county.items():\n",
    "        # create dir\n",
    "        dir_name = os.path.join(save_path, key)\n",
    "        if not os.path.isdir(dir_name):\n",
    "            os.mkdir(dir_name)\n",
    "        # get centroid\n",
    "        # centroid = get_centroid(txt)\n",
    "        centroid = get_center(txt)\n",
    "        # judet\n",
    "        if inpolygon(centroid, value):\n",
    "            name = os.path.basename(txt)[:-4]\n",
    "            kmz = os.path.join(kmz_dir, name + '.kmz')\n",
    "            if os.path.isfile(kmz):\n",
    "                shutil.move(kmz, dir_name)"
   ]
  },
  {
   "cell_type": "markdown",
   "metadata": {},
   "source": [
    "## classify by track direction"
   ]
  },
  {
   "cell_type": "code",
   "execution_count": null,
   "metadata": {
    "ExecuteTime": {
     "end_time": "2020-09-24T06:37:40.578577Z",
     "start_time": "2020-09-24T06:37:33.973335Z"
    },
    "scrolled": true
   },
   "outputs": [],
   "source": [
    "path = '/media/ly/文件/sc_prj/Sentinel-1/按县分级/按县分类'\n",
    "\n",
    "kmzs = glob.glob(path + '/*/*.kmz')\n",
    "\n",
    "des = list(range(1, 441)) + list(range(813, 879))\n",
    "\n",
    "asc = list(range(441, 813))\n",
    "\n",
    "asc_num = 0\n",
    "des_num = 0\n",
    "asc_des_num = 0\n",
    "\n",
    "\n",
    "for kmz in kmzs:\n",
    "    dir_name = os.path.dirname(kmz)\n",
    "\n",
    "    asc_dir = os.path.join(dir_name, '升轨')\n",
    "    if not os.path.isdir(asc_dir):\n",
    "        os.mkdir(asc_dir)\n",
    "    des_dir = os.path.join(dir_name, '降轨')\n",
    "    if not os.path.isdir(des_dir):\n",
    "        os.mkdir(des_dir)\n",
    "    asc_des_dir = os.path.join(dir_name, '升降轨')\n",
    "    if not os.path.isdir(asc_des_dir):\n",
    "        os.mkdir(asc_des_dir)\n",
    "\n",
    "    colorbar_num = 0\n",
    "    with zipfile.ZipFile(kmz, 'r') as f:\n",
    "        files = f.namelist()\n",
    "        for file in files:\n",
    "            if 'colorbar' in file:\n",
    "                colorbar_num += 1\n",
    "\n",
    "    if colorbar_num >= 2:\n",
    "        shutil.move(kmz, asc_des_dir)\n",
    "        asc_des_num += 1\n",
    "    else:\n",
    "        name = int(os.path.basename(kmz)[:-4])\n",
    "        if name in des:\n",
    "            shutil.move(kmz, des_dir)\n",
    "            des_num += 1\n",
    "        if name in asc:\n",
    "            shutil.move(kmz, asc_dir)\n",
    "            asc_num += 1\n",
    "            \n",
    "print('asc:', asc_num)\n",
    "print('des:', des_num)\n",
    "print('asc_des', asc_des_num)"
   ]
  },
  {
   "cell_type": "markdown",
   "metadata": {},
   "source": [
    "## classify by velocity"
   ]
  },
  {
   "cell_type": "markdown",
   "metadata": {},
   "source": [
    "### rename"
   ]
  },
  {
   "cell_type": "code",
   "execution_count": null,
   "metadata": {
    "ExecuteTime": {
     "end_time": "2020-09-25T12:37:49.549384Z",
     "start_time": "2020-09-25T12:37:49.519295Z"
    }
   },
   "outputs": [],
   "source": [
    "dir_name = '/media/ly/文件/sc_prj/Sentinel-1/result_last/cut_res/cut-221'\n",
    "\n",
    "files = glob.glob(dir_name + '/*.txt')\n",
    "for f in files:\n",
    "    new_name = str(files.index(f) + 887) + '.txt'\n",
    "    path = os.path.join(dir_name, new_name)\n",
    "\n",
    "    os.rename(f, path)"
   ]
  },
  {
   "cell_type": "markdown",
   "metadata": {},
   "source": [
    "### classify and make kmz"
   ]
  },
  {
   "cell_type": "code",
   "execution_count": null,
   "metadata": {
    "ExecuteTime": {
     "end_time": "2020-09-25T12:57:37.562291Z",
     "start_time": "2020-09-25T12:56:32.949158Z"
    },
    "scrolled": true
   },
   "outputs": [],
   "source": [
    "def make_kmz_all(ts_dir, filter, kmz_scripts):\n",
    "    files = glob.glob(os.path.join(ts_dir, '*.txt'))\n",
    "    for f in files:\n",
    "        vel = load_data(f)\n",
    "        if len(vel) > 1:\n",
    "            name = judge_class(vel, filter)\n",
    "            kmz_script = os.path.join(kmz_scripts,\n",
    "                                      f\"make_kmz_timeseries{name}.py\")\n",
    "            js_sctipt = os.path.join(kmz_scripts, 'dygraph-combined.js')\n",
    "            out_kmz = os.path.join(ts_dir, os.path.basename(f)[:-4])\n",
    "            print(f\"\\rprocessing {files.index(f) + 1}/{len(files)}\",\n",
    "                  end=\" \",\n",
    "                  flush=True)\n",
    "            cmd_str = f\"python3 '{kmz_script}' -t '{f}' -j '{js_sctipt}' -o '{out_kmz}' -s 0.5\"\n",
    "            os.system(cmd_str)\n",
    "\n",
    "\n",
    "filter = sorted(\n",
    "    [-60, -50, -40, -30, -20, -15, -10, 0, 10, 15, 20, 30, 40, 50, 60])\n",
    "ts_dir = '/media/ly/文件/sc_prj/Sentinel-1/result_last/cut_res/cut22-23'\n",
    "kmz_scripts = '/media/ly/文件/sc_prj/Sentinel-1/result_last/cut_res/make_kmz'\n",
    "\n",
    "make_kmz_all(ts_dir, filter, kmz_scripts)"
   ]
  }
 ],
 "metadata": {
  "kernelspec": {
   "display_name": "Python 3",
   "language": "python",
   "name": "python3"
  },
  "language_info": {
   "codemirror_mode": {
    "name": "ipython",
    "version": 3
   },
   "file_extension": ".py",
   "mimetype": "text/x-python",
   "name": "python",
   "nbconvert_exporter": "python",
   "pygments_lexer": "ipython3",
   "version": "3.6.9"
  },
  "toc": {
   "base_numbering": 1,
   "nav_menu": {},
   "number_sections": true,
   "sideBar": true,
   "skip_h1_title": false,
   "title_cell": "Table of Contents",
   "title_sidebar": "Contents",
   "toc_cell": false,
   "toc_position": {},
   "toc_section_display": true,
   "toc_window_display": true
  },
  "varInspector": {
   "cols": {
    "lenName": 16,
    "lenType": 16,
    "lenVar": 40
   },
   "kernels_config": {
    "python": {
     "delete_cmd_postfix": "",
     "delete_cmd_prefix": "del ",
     "library": "var_list.py",
     "varRefreshCmd": "print(var_dic_list())"
    },
    "r": {
     "delete_cmd_postfix": ") ",
     "delete_cmd_prefix": "rm(",
     "library": "var_list.r",
     "varRefreshCmd": "cat(var_dic_list()) "
    }
   },
   "types_to_exclude": [
    "module",
    "function",
    "builtin_function_or_method",
    "instance",
    "_Feature"
   ],
   "window_display": false
  }
 },
 "nbformat": 4,
 "nbformat_minor": 2
}
