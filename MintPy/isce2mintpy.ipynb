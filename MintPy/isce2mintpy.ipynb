{
 "cells": [
  {
   "cell_type": "markdown",
   "metadata": {},
   "source": [
    "# isce2"
   ]
  },
  {
   "cell_type": "markdown",
   "metadata": {},
   "source": [
    "## prepare data"
   ]
  },
  {
   "cell_type": "code",
   "execution_count": null,
   "metadata": {
    "ExecuteTime": {
     "end_time": "2020-08-02T12:43:23.293954Z",
     "start_time": "2020-08-02T12:43:23.290704Z"
    }
   },
   "outputs": [],
   "source": [
    "import os\n",
    "os.chdir('/media/ly/文件/sc5/isce_stack')"
   ]
  },
  {
   "cell_type": "code",
   "execution_count": null,
   "metadata": {
    "ExecuteTime": {
     "end_time": "2020-04-01T07:04:15.736730Z",
     "start_time": "2020-04-01T07:04:15.180202Z"
    }
   },
   "outputs": [],
   "source": [
    "# !dem.py -a stitch -b 29 31 100 103 -s 1 -r -l -c\n",
    "# os.chdir('/media/ly/文件/xsc/isce_stack/DEM/')\n",
    "# !fixImageXml.py -i demLat_N30_N33_Lon_E101_E105.dem.wgs84 -f\n",
    "# os.chdir('/media/ly/文件/xsc/isce_stack/')"
   ]
  },
  {
   "cell_type": "code",
   "execution_count": null,
   "metadata": {
    "ExecuteTime": {
     "end_time": "2020-06-01T07:42:46.940902Z",
     "start_time": "2020-06-01T07:42:46.278418Z"
    },
    "scrolled": true
   },
   "outputs": [],
   "source": [
    "# !stackSentinel.py -h"
   ]
  },
  {
   "cell_type": "code",
   "execution_count": null,
   "metadata": {
    "ExecuteTime": {
     "end_time": "2020-08-02T12:43:26.484060Z",
     "start_time": "2020-08-02T12:43:25.097497Z"
    },
    "scrolled": true
   },
   "outputs": [],
   "source": [
    "!stackSentinel.py -s ./../data/slc -d ./../data/dem/demLat_N29_N31_Lon_E101_E103.dem.wgs84 -a ./../data/aux_cal -o ./../data/orbits -b '29.435983 29.986283 102.037699 102.240680' -W interferogram -C geometry -r 20 -z 4 -f 0.6 -c 4"
   ]
  },
  {
   "cell_type": "markdown",
   "metadata": {},
   "source": [
    "## run stack"
   ]
  },
  {
   "cell_type": "code",
   "execution_count": null,
   "metadata": {
    "ExecuteTime": {
     "end_time": "2020-08-02T12:43:33.100807Z",
     "start_time": "2020-08-02T12:43:33.095279Z"
    }
   },
   "outputs": [],
   "source": [
    "os.chdir('/media/ly/文件/sc5/isce_stack/run_files')"
   ]
  },
  {
   "cell_type": "code",
   "execution_count": null,
   "metadata": {
    "ExecuteTime": {
     "end_time": "2020-08-02T13:10:48.970523Z",
     "start_time": "2020-08-02T12:43:40.471387Z"
    },
    "scrolled": true
   },
   "outputs": [],
   "source": [
    "!./run_1_unpack_slc_topo_master"
   ]
  },
  {
   "cell_type": "code",
   "execution_count": null,
   "metadata": {
    "ExecuteTime": {
     "end_time": "2020-08-02T13:12:32.297345Z",
     "start_time": "2020-08-02T13:10:48.994308Z"
    },
    "scrolled": true
   },
   "outputs": [],
   "source": [
    "!./run_2_average_baseline"
   ]
  },
  {
   "cell_type": "code",
   "execution_count": null,
   "metadata": {
    "ExecuteTime": {
     "end_time": "2020-08-02T17:02:34.098041Z",
     "start_time": "2020-08-02T13:12:32.315598Z"
    },
    "scrolled": true
   },
   "outputs": [],
   "source": [
    "!./run_3_geo2rdr_resample"
   ]
  },
  {
   "cell_type": "code",
   "execution_count": null,
   "metadata": {
    "ExecuteTime": {
     "end_time": "2020-08-02T17:03:13.624038Z",
     "start_time": "2020-08-02T17:02:34.114801Z"
    }
   },
   "outputs": [],
   "source": [
    "!./run_4_extract_stack_valid_region"
   ]
  },
  {
   "cell_type": "code",
   "execution_count": null,
   "metadata": {
    "ExecuteTime": {
     "end_time": "2020-08-02T17:04:38.729730Z",
     "start_time": "2020-08-02T17:03:13.646776Z"
    },
    "scrolled": true
   },
   "outputs": [],
   "source": [
    "!./run_5_merge_master_slave_slc"
   ]
  },
  {
   "cell_type": "code",
   "execution_count": null,
   "metadata": {
    "ExecuteTime": {
     "end_time": "2020-08-02T18:21:14.250512Z",
     "start_time": "2020-08-02T17:04:38.747885Z"
    },
    "scrolled": true
   },
   "outputs": [],
   "source": [
    "!./run_6_merge_burst_igram"
   ]
  },
  {
   "cell_type": "code",
   "execution_count": null,
   "metadata": {
    "ExecuteTime": {
     "end_time": "2020-08-03T01:47:18.549083Z",
     "start_time": "2020-08-02T22:36:04.042039Z"
    },
    "scrolled": true
   },
   "outputs": [],
   "source": [
    "!./run_7_filter_coherence"
   ]
  },
  {
   "cell_type": "code",
   "execution_count": null,
   "metadata": {
    "ExecuteTime": {
     "end_time": "2020-08-03T05:28:19.954552Z",
     "start_time": "2020-08-03T01:47:18.580626Z"
    },
    "scrolled": true
   },
   "outputs": [],
   "source": [
    "!./run_8_unwrap"
   ]
  },
  {
   "cell_type": "markdown",
   "metadata": {},
   "source": [
    "## prepare files for MintPy"
   ]
  },
  {
   "cell_type": "code",
   "execution_count": null,
   "metadata": {},
   "outputs": [],
   "source": [
    "# directory need to copy\n",
    "# baselines  master  merged (geom_master interferograms)\n",
    "\n",
    "import os\n",
    "import glob\n",
    "import shutil\n",
    "\n",
    "def copy_files(stack_path, save_path):\n",
    "    # copy baselines\n",
    "    baselines_src = os.path.join(stack_path, 'baselines')\n",
    "    baselines_dst = os.path.join(save_path, 'baselines')\n",
    "    if os.path.isdir(baselines_src):\n",
    "        shutil.copytree(baselines_src, baselines_dst)\n",
    "    \n",
    "    # copy master\n",
    "    master_src = os.path.join(stack_path, 'master')\n",
    "    master_dst = os.path.join(save_path, 'master')\n",
    "    if os.path.isdir(master_src):\n",
    "        shutil.copytree(master_src, master_dst)\n",
    "    \n",
    "    # copy merged/geom_master\n",
    "    merged_dst = os.path.join(save_path, 'merged')\n",
    "    os.mkdir(merged_dst)\n",
    "    geom_master_src = os.path.join(stack_path, 'merged', 'geom_master')\n",
    "    geom_master_dst = os.path.join(merged_dst, 'geom_master')\n",
    "    if os.path.isdir(geom_master_src):\n",
    "        shutil.copytree(geom_master_src, geom_master_dst)\n",
    "    \n",
    "    # copy merged/interferograms\n",
    "    files = [\n",
    "        'filt_fine.cor', 'filt_fine.cor.vrt', 'filt_fine.cor.xml',\n",
    "        'filt_fine.unw', 'filt_fine.unw.vrt', 'filt_fine.unw.xml',\n",
    "        'filt_fine.unw.conncomp', 'filt_fine.unw.conncomp.vrt', 'filt_fine.unw.conncomp.xml'\n",
    "    ]\n",
    "    interferograms_dst = os.path.join(merged_dst, 'interferograms')\n",
    "    os.mkdir(interferograms_dst)\n",
    "    interferograms_src = os.path.join(stack_path, 'merged', 'interferograms')\n",
    "    ifgs = os.listdir(interferograms_src)\n",
    "    if ifgs:\n",
    "        for ifg in ifgs:\n",
    "            ifg_src = os.path.join(interferograms_src, ifg)\n",
    "            ifg_dst = os.path.join(interferograms_dst, ifg)\n",
    "            os.mkdir(ifg_dst)\n",
    "            for file in files:\n",
    "                file_src = os.path.join(ifg_src, file)\n",
    "                file_dst = os.path.join(ifg_dst, file)\n",
    "                shutil.copy(file_src, file_dst)"
   ]
  },
  {
   "cell_type": "code",
   "execution_count": null,
   "metadata": {},
   "outputs": [],
   "source": [
    "stack_path = '/media/ly/文件/res2'\n",
    "save_path = '/media/ly/file/sc1/isce_stack'\n",
    "copy_files(stack_path, save_path)"
   ]
  },
  {
   "cell_type": "markdown",
   "metadata": {},
   "source": [
    "## quickview"
   ]
  },
  {
   "cell_type": "code",
   "execution_count": null,
   "metadata": {
    "ExecuteTime": {
     "end_time": "2020-08-12T14:27:26.882453Z",
     "start_time": "2020-08-12T14:27:26.861745Z"
    },
    "code_folding": [
     9
    ],
    "scrolled": true
   },
   "outputs": [],
   "source": [
    "%matplotlib inline\n",
    "from osgeo import gdal\n",
    "import matplotlib.pyplot as plt\n",
    "import numpy as np\n",
    "import glob\n",
    "import os\n",
    "\n",
    "\n",
    "def view_unw(unws, out_dir):\n",
    "    if unws:\n",
    "        if not os.path.isdir(out_dir):\n",
    "            os.mkdir(out_dir)\n",
    "        for unw in unws:\n",
    "            ds = gdal.Open(unw, gdal.GA_ReadOnly)\n",
    "            data = ds.GetRasterBand(2).ReadAsArray()\n",
    "            ds = None\n",
    "            fig,ax = plt.subplots(figsize=(11,10))\n",
    "            m = np.max(np.abs(data))\n",
    "            im = ax.imshow(data, cmap='jet', vmin=-m, vmax=m)\n",
    "            fig.colorbar(im)\n",
    "            ax.set_title('unwraped')\n",
    "            unw_name = unw.split('/')[-2] + '_unw'\n",
    "            fig.savefig(os.path.join(out_dir, unw_name))\n",
    "    else:\n",
    "        print('no unw found.')\n",
    "\n",
    "    \n",
    "def view_ifg(ifgs, out_dir):\n",
    "    if ifgs:\n",
    "        if not os.path.isdir(out_dir):\n",
    "            os.mkdir(out_dir)\n",
    "        for ifg in ifgs:\n",
    "            ds = gdal.Open(ifg, gdal.GA_ReadOnly)\n",
    "            data = ds.GetRasterBand(1).ReadAsArray()\n",
    "            ds = None\n",
    "            fig,ax = plt.subplots(figsize=(11,10))\n",
    "            im = ax.imshow(np.angle(data), cmap='jet')\n",
    "            fig.colorbar(im)\n",
    "            ax.set_title('interferogram')\n",
    "            ifg_name = ifg.split('/')[-2] + '_ifg'\n",
    "            fig.savefig(os.path.join(out_dir, ifg_name))\n",
    "    else:\n",
    "        print('no ifgs found.')\n",
    "\n",
    "    \n",
    "def view_cor(cors, out_dir):\n",
    "    if cors:\n",
    "        if not os.path.isdir(out_dir):\n",
    "            os.mkdir(out_dir)\n",
    "        for cor in cors:\n",
    "            ds = gdal.Open(cor, gdal.GA_ReadOnly)\n",
    "            data = ds.GetRasterBand(1).ReadAsArray()\n",
    "            ds = None\n",
    "            fig,ax = plt.subplots(figsize=(11,10))\n",
    "            im = ax.imshow((data), cmap='gray')\n",
    "            fig.colorbar(im)\n",
    "            ax.set_title('coherence')\n",
    "            cor_name = cor.split('/')[-2] + '_cor'\n",
    "            fig.savefig(os.path.join(out_dir, cor_name))\n",
    "    else:\n",
    "        print('no cors found.')"
   ]
  },
  {
   "cell_type": "code",
   "execution_count": null,
   "metadata": {
    "ExecuteTime": {
     "end_time": "2020-08-12T14:27:38.083354Z",
     "start_time": "2020-08-12T14:27:37.985473Z"
    },
    "scrolled": true
   },
   "outputs": [],
   "source": [
    "interferograms_dir = '/media/ly/文件/MintPy/xsc/isce_stack/stack_res_1/merged/interferograms'\n",
    "unws = glob.glob(interferograms_dir + '/*/filt_fine.unw.vrt')\n",
    "ifgs = glob.glob(interferograms_dir + '/*/filt_fine.int.vrt')\n",
    "cors = glob.glob(interferograms_dir + '/*/filt_fine.cor.vrt')\n",
    "\n",
    "out_dir = '/media/ly/文件/MintPy/xsc/isce_stack/stack_res_1/merged/quickview'\n",
    "\n",
    "view_unw(unws, out_dir)\n",
    "view_ifg(ifgs, out_dir)\n",
    "view_cor(cors, out_dir)"
   ]
  },
  {
   "cell_type": "markdown",
   "metadata": {},
   "source": [
    "## remove ifgs"
   ]
  },
  {
   "cell_type": "code",
   "execution_count": null,
   "metadata": {
    "ExecuteTime": {
     "end_time": "2020-07-30T12:09:37.178507Z",
     "start_time": "2020-07-30T12:09:37.146327Z"
    }
   },
   "outputs": [],
   "source": [
    "import os\n",
    "import shutil\n",
    "\n",
    "\n",
    "def remove_ifg(origin_ifgs_path, removed_ifgs_path, ifgs):\n",
    "    if not os.path.isdir(removed_ifgs_path):\n",
    "        os.mkdir(removed_ifgs_path)\n",
    "    for ifg in ifgs:\n",
    "        ifg_path = os.path.join(origin_ifgs_path, ifg)\n",
    "        if os.path.isdir(ifg_path):\n",
    "            shutil.move(ifg_path, removed_ifgs_path)\n",
    "        else:\n",
    "            print(ifg + ' not exists.')\n",
    "\n",
    "ifgs = [\n",
    "    '20170120_20170303','20170219_20170327','20170315_20170408','20170923_20171005','20170923_20171017',\n",
    "    '20170923_20171110','20171204_20180121','20180614_20180626','20181105_20181223','20190116_20190128',\n",
    "    '20190221_20190422','20190808_20190925','20190820_20190925','20190901_20190925','20190913_20190925',\n",
    "    '20190913_20191019','20190913_20191031','20191007_20191124','20191019_20191206','20191112_20191206',\n",
    "    '20191112_20200111','20191124_20200111','20200228_20200404','20200228_20200416','20200522_20200615',\n",
    "    '20200603_20200627'\n",
    "]\n",
    "\n",
    "origin_ifgs_path = '/media/ly/file/sc1/isce_stack/merged/interferograms'\n",
    "removed_ifgs_path = '/media/ly/file/sc1/isce_stack/merged/removed_ifgs'\n",
    "\n",
    "remove_ifg(origin_ifgs_path, removed_ifgs_path, ifgs)"
   ]
  },
  {
   "cell_type": "markdown",
   "metadata": {
    "ExecuteTime": {
     "end_time": "2020-03-26T10:37:00.996426Z",
     "start_time": "2020-03-26T10:37:00.994324Z"
    }
   },
   "source": [
    "# MintPy"
   ]
  },
  {
   "cell_type": "markdown",
   "metadata": {},
   "source": [
    "## run sbas"
   ]
  },
  {
   "cell_type": "code",
   "execution_count": null,
   "metadata": {
    "ExecuteTime": {
     "end_time": "2020-08-10T10:03:01.020991Z",
     "start_time": "2020-08-10T10:03:01.010830Z"
    }
   },
   "outputs": [],
   "source": [
    "%matplotlib inline\n",
    "import os\n",
    "import numpy as np\n",
    "import matplotlib.pyplot as plt\n",
    "from mintpy.objects import ifgramStack\n",
    "from mintpy.utils import plot as pp, utils as ut\n",
    "from mintpy import view, plot_network\n",
    "\n",
    "prj_dir = '/media/ly/文件/sc2/mintpy6'\n",
    "if not os.path.isdir(prj_dir):\n",
    "    os.mkdir(prj_dir)\n",
    "\n",
    "os.chdir(prj_dir)                        # work directory\n",
    "prj_file = 'sc26.txt'                    # configure file"
   ]
  },
  {
   "cell_type": "code",
   "execution_count": null,
   "metadata": {
    "ExecuteTime": {
     "end_time": "2020-08-05T10:35:09.028834Z",
     "start_time": "2020-08-05T10:35:09.022458Z"
    },
    "tags": []
   },
   "outputs": [],
   "source": [
    "config = \"\"\"##-------------------------------- MintPy -----------------------------##\n",
    "########## 1. Load Data (--load to exit after this step)\n",
    "## load_data.py -H to check more details and example inputs.\n",
    "mintpy.load.processor        = isce\n",
    "##---------for ISCE only:\n",
    "mintpy.load.metaFile         = ../isce_stack/master/IW*.xml\n",
    "mintpy.load.baselineDir      = ../isce_stack/baselines\n",
    "##---------interferogram datasets:\n",
    "mintpy.load.unwFile          = ../isce_stack/merged/interferograms/*/filt_*.unw\n",
    "mintpy.load.corFile          = ../isce_stack/merged/interferograms/*/filt_*.cor\n",
    "mintpy.load.connCompFile     = ../isce_stack/merged/interferograms/*/filt_*.unw.conncomp\n",
    "##---------geometry datasets:\n",
    "mintpy.load.demFile          = ../isce_stack/merged/geom_master/hgt.rdr\n",
    "mintpy.load.lookupYFile      = ../isce_stack/merged/geom_master/lat.rdr\n",
    "mintpy.load.lookupXFile      = ../isce_stack/merged/geom_master/lon.rdr\n",
    "mintpy.load.incAngleFile     = ../isce_stack/merged/geom_master/los.rdr\n",
    "mintpy.load.azAngleFile      = ../isce_stack/merged/geom_master/los.rdr\n",
    "mintpy.load.shadowMaskFile   = ../isce_stack/merged/geom_master/shadowMask.rdr\n",
    "mintpy.load.waterMaskFile    = None\n",
    "##---------subset (optional):\n",
    "mintpy.subset.yx   = 2000:3188,1000:2464    #[1800:2000,700:800 / no], auto for no\n",
    "\n",
    "########## 2. modify_network\n",
    "mintpy.network.keepMinSpanTree \t\t= yes  #[yes / no], auto for yes, keep interferograms in Min Span Tree network\n",
    "\n",
    "########## 3. reference_point\n",
    "\n",
    "########## 4. correct_unwrap_error (optional)\n",
    "\n",
    "########## 5. invert_network\n",
    "mintpy.networkInversion.minTempCoh  \t= 0.5 #[0.0-1.0], auto for 0.7, min temporal coherence for mask\n",
    "\n",
    "########## 6. correct_troposphere (optional and recommended)\n",
    "mintpy.troposphericDelay.method         = height_correlation   #[pyaps / height_correlation / no], auto for pyaps\n",
    "\n",
    "########## 7. deramp (optional)\n",
    "mintpy.deramp                           = linear\n",
    "\n",
    "########## 8. correct_topography (optional and recommended)\n",
    "\n",
    "########## 9.1 residual_RMS (root mean squares for noise evaluation)\n",
    "\n",
    "########## 9.2 reference_date\n",
    "\n",
    "########## 10. velocity\n",
    "\n",
    "########## 11.1 geocode (post-processing)\n",
    "\n",
    "########## 11.2 google_earth (post-processing)\n",
    "\n",
    "########## 11.3 hdfeos5 (post-processing)\n",
    "\n",
    "########## 11.4 plot\n",
    "\"\"\"\n",
    "\n",
    "# with open(prj_file, 'w+') as f:\n",
    "#     f.write(config)"
   ]
  },
  {
   "cell_type": "markdown",
   "metadata": {},
   "source": [
    "### load_data"
   ]
  },
  {
   "cell_type": "code",
   "execution_count": null,
   "metadata": {
    "ExecuteTime": {
     "end_time": "2020-08-06T02:52:21.849515Z",
     "start_time": "2020-08-06T02:45:39.830054Z"
    },
    "scrolled": true,
    "tags": []
   },
   "outputs": [],
   "source": [
    "!smallbaselineApp.py $prj_file --dostep load_data"
   ]
  },
  {
   "cell_type": "code",
   "execution_count": null,
   "metadata": {
    "ExecuteTime": {
     "end_time": "2020-08-10T06:20:38.575777Z",
     "start_time": "2020-08-10T06:20:37.127083Z"
    },
    "scrolled": true
   },
   "outputs": [],
   "source": [
    "view.main('./inputs/ifgramStack.h5 20170120_20170303 --nrows 1 --ncols 3'.split())"
   ]
  },
  {
   "cell_type": "code",
   "execution_count": null,
   "metadata": {
    "ExecuteTime": {
     "end_time": "2020-08-06T02:54:30.767656Z",
     "start_time": "2020-08-06T02:54:30.248651Z"
    },
    "scrolled": true
   },
   "outputs": [],
   "source": [
    "!info.py ./inputs/geometryRadar.h5 --compact"
   ]
  },
  {
   "cell_type": "code",
   "execution_count": null,
   "metadata": {
    "ExecuteTime": {
     "end_time": "2020-08-06T02:54:30.775435Z",
     "start_time": "2020-08-06T02:54:30.771509Z"
    },
    "scrolled": true
   },
   "outputs": [],
   "source": [
    "# view.main('./inputs/geometryRadar.h5 --notick --noaxis'.split())"
   ]
  },
  {
   "cell_type": "markdown",
   "metadata": {},
   "source": [
    "### modify_network"
   ]
  },
  {
   "cell_type": "code",
   "execution_count": null,
   "metadata": {
    "ExecuteTime": {
     "end_time": "2020-08-06T02:54:56.473265Z",
     "start_time": "2020-08-06T02:54:30.777322Z"
    },
    "scrolled": true
   },
   "outputs": [],
   "source": [
    "!smallbaselineApp.py $prj_file --dostep modify_network"
   ]
  },
  {
   "cell_type": "code",
   "execution_count": null,
   "metadata": {
    "ExecuteTime": {
     "end_time": "2020-08-06T02:55:04.347596Z",
     "start_time": "2020-08-06T02:54:56.475023Z"
    },
    "scrolled": true
   },
   "outputs": [],
   "source": [
    "plot_network.main(['./inputs/ifgramStack.h5'])"
   ]
  },
  {
   "cell_type": "markdown",
   "metadata": {},
   "source": [
    "### reference_point"
   ]
  },
  {
   "cell_type": "code",
   "execution_count": null,
   "metadata": {
    "ExecuteTime": {
     "end_time": "2020-08-06T02:55:10.892530Z",
     "start_time": "2020-08-06T02:55:04.349696Z"
    },
    "scrolled": true
   },
   "outputs": [],
   "source": [
    "!smallbaselineApp.py $prj_file --dostep reference_point"
   ]
  },
  {
   "cell_type": "code",
   "execution_count": null,
   "metadata": {
    "ExecuteTime": {
     "end_time": "2020-08-06T02:55:11.369548Z",
     "start_time": "2020-08-06T02:55:10.895836Z"
    },
    "scrolled": true
   },
   "outputs": [],
   "source": [
    "!info.py ./inputs/ifgramStack.h5 | egrep 'REF_'    # attribute related to the reference point"
   ]
  },
  {
   "cell_type": "markdown",
   "metadata": {},
   "source": [
    "### correct_unwrap_error"
   ]
  },
  {
   "cell_type": "code",
   "execution_count": null,
   "metadata": {
    "ExecuteTime": {
     "end_time": "2020-08-06T02:55:12.914747Z",
     "start_time": "2020-08-06T02:55:11.374584Z"
    },
    "scrolled": true
   },
   "outputs": [],
   "source": [
    "!smallbaselineApp.py $prj_file --dostep correct_unwrap_error"
   ]
  },
  {
   "cell_type": "markdown",
   "metadata": {},
   "source": [
    "### invert_network"
   ]
  },
  {
   "cell_type": "code",
   "execution_count": null,
   "metadata": {
    "ExecuteTime": {
     "end_time": "2020-08-10T09:52:19.867115Z",
     "start_time": "2020-08-10T09:52:17.426431Z"
    },
    "scrolled": true
   },
   "outputs": [],
   "source": [
    "!smallbaselineApp.py $prj_file --dostep invert_network"
   ]
  },
  {
   "cell_type": "code",
   "execution_count": null,
   "metadata": {
    "ExecuteTime": {
     "end_time": "2020-08-10T09:52:30.008534Z",
     "start_time": "2020-08-10T09:52:19.870684Z"
    },
    "scrolled": true
   },
   "outputs": [],
   "source": [
    "view.main('timeseries.h5 --wrap --wrap-range -5 5 -u cm --notitle --notick --noaxis'.split())"
   ]
  },
  {
   "cell_type": "code",
   "execution_count": null,
   "metadata": {
    "ExecuteTime": {
     "end_time": "2020-08-10T10:03:05.492868Z",
     "start_time": "2020-08-10T10:03:04.580547Z"
    },
    "scrolled": true
   },
   "outputs": [],
   "source": [
    "view.main('temporalCoherence.h5 --notick --noaxis --noverbose'.split())\n",
    "view.main('maskTempCoh.h5 --notick --noaxis --noverbose'.split())"
   ]
  },
  {
   "cell_type": "markdown",
   "metadata": {},
   "source": [
    "### correct_troposphere"
   ]
  },
  {
   "cell_type": "code",
   "execution_count": null,
   "metadata": {
    "ExecuteTime": {
     "end_time": "2020-08-10T09:52:33.167450Z",
     "start_time": "2020-08-10T09:52:31.023160Z"
    },
    "scrolled": true
   },
   "outputs": [],
   "source": [
    "!smallbaselineApp.py $prj_file --dostep correct_troposphere"
   ]
  },
  {
   "cell_type": "code",
   "execution_count": null,
   "metadata": {
    "ExecuteTime": {
     "end_time": "2020-08-10T09:52:43.304770Z",
     "start_time": "2020-08-10T09:52:33.172244Z"
    },
    "scrolled": true
   },
   "outputs": [],
   "source": [
    "view.main('timeseries_tropHgt.h5 --wrap --wrap-range -5 5 -u cm --notitle --notick --noaxis'.split())"
   ]
  },
  {
   "cell_type": "markdown",
   "metadata": {},
   "source": [
    "### deramp"
   ]
  },
  {
   "cell_type": "code",
   "execution_count": null,
   "metadata": {
    "ExecuteTime": {
     "end_time": "2020-08-10T09:52:52.730677Z",
     "start_time": "2020-08-10T09:52:43.306802Z"
    },
    "scrolled": true
   },
   "outputs": [],
   "source": [
    "!smallbaselineApp.py $prj_file --dostep deramp"
   ]
  },
  {
   "cell_type": "markdown",
   "metadata": {},
   "source": [
    "### correct_topography"
   ]
  },
  {
   "cell_type": "code",
   "execution_count": null,
   "metadata": {
    "ExecuteTime": {
     "end_time": "2020-08-10T09:55:53.454707Z",
     "start_time": "2020-08-10T09:52:52.733850Z"
    },
    "scrolled": true
   },
   "outputs": [],
   "source": [
    "!smallbaselineApp.py $prj_file --dostep correct_topography"
   ]
  },
  {
   "cell_type": "code",
   "execution_count": null,
   "metadata": {
    "ExecuteTime": {
     "end_time": "2020-08-10T09:56:02.935911Z",
     "start_time": "2020-08-10T09:55:53.459895Z"
    },
    "scrolled": true
   },
   "outputs": [],
   "source": [
    "view.main('timeseries_tropHgt_ramp_demErr.h5 --notitle --wrap --wrap-range -5 5 --notick --noaxis'.split())"
   ]
  },
  {
   "cell_type": "markdown",
   "metadata": {},
   "source": [
    "### residual_RMS"
   ]
  },
  {
   "cell_type": "code",
   "execution_count": null,
   "metadata": {
    "ExecuteTime": {
     "end_time": "2020-08-10T09:56:15.305561Z",
     "start_time": "2020-08-10T09:56:02.939355Z"
    },
    "scrolled": true
   },
   "outputs": [],
   "source": [
    "!smallbaselineApp.py $prj_file --dostep residual_RMS"
   ]
  },
  {
   "cell_type": "code",
   "execution_count": null,
   "metadata": {
    "ExecuteTime": {
     "end_time": "2020-08-10T09:56:15.439293Z",
     "start_time": "2020-08-10T09:56:15.309881Z"
    }
   },
   "outputs": [],
   "source": [
    "!head rms_timeseriesResidual_ramp.txt"
   ]
  },
  {
   "cell_type": "markdown",
   "metadata": {},
   "source": [
    "### reference_date"
   ]
  },
  {
   "cell_type": "code",
   "execution_count": null,
   "metadata": {
    "ExecuteTime": {
     "end_time": "2020-08-10T09:56:15.573925Z",
     "start_time": "2020-08-10T09:56:15.442265Z"
    }
   },
   "outputs": [],
   "source": [
    "!cat reference_date.txt    #auto selected optimal reference date."
   ]
  },
  {
   "cell_type": "code",
   "execution_count": null,
   "metadata": {
    "ExecuteTime": {
     "end_time": "2020-08-10T09:56:16.119871Z",
     "start_time": "2020-08-10T09:56:15.577534Z"
    },
    "scrolled": true
   },
   "outputs": [],
   "source": [
    "## plot the RMS value\n",
    "from mintpy.timeseries_rms import plot_rms_bar\n",
    "txtContent = np.loadtxt('./rms_timeseriesResidual_ramp.txt', dtype=bytes).astype(str)\n",
    "rms_list = [float(i) for i in txtContent[:, 1]]\n",
    "date_list = [i for i in txtContent[:, 0]]\n",
    "fig, ax = plt.subplots(figsize=[10, 4])\n",
    "ax = plot_rms_bar(ax, date_list, rms_list)\n",
    "plt.show()"
   ]
  },
  {
   "cell_type": "code",
   "execution_count": null,
   "metadata": {
    "ExecuteTime": {
     "end_time": "2020-08-10T09:56:21.840662Z",
     "start_time": "2020-08-10T09:56:16.122074Z"
    },
    "scrolled": true
   },
   "outputs": [],
   "source": [
    "!smallbaselineApp.py $prj_file --dostep reference_date"
   ]
  },
  {
   "cell_type": "markdown",
   "metadata": {},
   "source": [
    "### velocity"
   ]
  },
  {
   "cell_type": "code",
   "execution_count": null,
   "metadata": {
    "ExecuteTime": {
     "end_time": "2020-08-10T09:56:25.752327Z",
     "start_time": "2020-08-10T09:56:21.843857Z"
    },
    "scrolled": true
   },
   "outputs": [],
   "source": [
    "!smallbaselineApp.py $prj_file --dostep velocity"
   ]
  },
  {
   "cell_type": "code",
   "execution_count": null,
   "metadata": {
    "ExecuteTime": {
     "end_time": "2020-08-10T09:56:26.222523Z",
     "start_time": "2020-08-10T09:56:25.755981Z"
    },
    "scrolled": true
   },
   "outputs": [],
   "source": [
    "!info.py velocity.h5 --compact"
   ]
  },
  {
   "cell_type": "code",
   "execution_count": null,
   "metadata": {
    "ExecuteTime": {
     "end_time": "2020-08-10T09:56:26.916252Z",
     "start_time": "2020-08-10T09:56:26.226965Z"
    },
    "scrolled": false
   },
   "outputs": [],
   "source": [
    "view.main('velocity.h5 --notick --noaxis --noverbose'.split())"
   ]
  },
  {
   "cell_type": "markdown",
   "metadata": {},
   "source": [
    "### geocode"
   ]
  },
  {
   "cell_type": "code",
   "execution_count": null,
   "metadata": {
    "ExecuteTime": {
     "end_time": "2020-08-10T09:56:43.897137Z",
     "start_time": "2020-08-10T09:56:26.917829Z"
    },
    "scrolled": true
   },
   "outputs": [],
   "source": [
    "!smallbaselineApp.py $prj_file --dostep geocode"
   ]
  },
  {
   "cell_type": "code",
   "execution_count": null,
   "metadata": {
    "ExecuteTime": {
     "end_time": "2020-08-10T09:56:46.148464Z",
     "start_time": "2020-08-10T09:56:43.900856Z"
    },
    "scrolled": true
   },
   "outputs": [],
   "source": [
    "view.main('./geo/geo_velocity.h5 velocity --dem ./geo/geo_geometryRadar.h5 --figsize 12 12 --notick --noaxis'.split())"
   ]
  },
  {
   "cell_type": "markdown",
   "metadata": {
    "ExecuteTime": {
     "end_time": "2020-03-27T03:29:41.434092Z",
     "start_time": "2020-03-27T03:29:41.430786Z"
    }
   },
   "source": [
    "### google_earth"
   ]
  },
  {
   "cell_type": "code",
   "execution_count": null,
   "metadata": {
    "ExecuteTime": {
     "end_time": "2020-08-10T09:56:46.152341Z",
     "start_time": "2020-08-10T09:56:46.150028Z"
    },
    "scrolled": true
   },
   "outputs": [],
   "source": [
    "# !smallbaselineApp.py $prj_file --dostep google_earth"
   ]
  },
  {
   "cell_type": "markdown",
   "metadata": {},
   "source": [
    "### save kmz"
   ]
  },
  {
   "cell_type": "code",
   "execution_count": null,
   "metadata": {
    "ExecuteTime": {
     "end_time": "2020-08-10T09:56:46.164178Z",
     "start_time": "2020-08-10T09:56:46.153714Z"
    },
    "code_folding": []
   },
   "outputs": [],
   "source": [
    "# !save_kmz.py -h"
   ]
  },
  {
   "cell_type": "code",
   "execution_count": null,
   "metadata": {
    "ExecuteTime": {
     "end_time": "2020-08-10T09:56:58.113635Z",
     "start_time": "2020-08-10T09:56:46.167876Z"
    }
   },
   "outputs": [],
   "source": [
    "!save_kmz.py ./geo/geo_velocity.h5 -u mm  --noreference -v -60 60 -c jet -o ./geo/geo_velocity_mm"
   ]
  },
  {
   "cell_type": "code",
   "execution_count": null,
   "metadata": {
    "ExecuteTime": {
     "end_time": "2020-08-10T09:56:58.123612Z",
     "start_time": "2020-08-10T09:56:58.117760Z"
    },
    "scrolled": true
   },
   "outputs": [],
   "source": [
    "# !save_kmz_timeseries.py -h"
   ]
  },
  {
   "cell_type": "code",
   "execution_count": null,
   "metadata": {
    "ExecuteTime": {
     "end_time": "2020-08-10T09:56:58.173238Z",
     "start_time": "2020-08-10T09:56:58.131719Z"
    },
    "scrolled": true
   },
   "outputs": [],
   "source": [
    "# !save_kmz_timeseries.py ./geo/geo_timeseries_tropHgt_ramp_demErr.h5 --steps 20 5 2"
   ]
  },
  {
   "cell_type": "markdown",
   "metadata": {},
   "source": [
    "### plot_smallbaselineApp"
   ]
  },
  {
   "cell_type": "code",
   "execution_count": null,
   "metadata": {
    "ExecuteTime": {
     "end_time": "2020-08-10T09:56:58.182949Z",
     "start_time": "2020-08-10T09:56:58.178038Z"
    },
    "code_folding": []
   },
   "outputs": [],
   "source": [
    "# !plot_smallbaselineApp.sh"
   ]
  },
  {
   "cell_type": "markdown",
   "metadata": {},
   "source": [
    "## post-processing"
   ]
  },
  {
   "cell_type": "markdown",
   "metadata": {},
   "source": [
    "### time-series displacement"
   ]
  },
  {
   "cell_type": "code",
   "execution_count": null,
   "metadata": {
    "ExecuteTime": {
     "end_time": "2020-08-12T13:50:39.731919Z",
     "start_time": "2020-08-12T13:50:39.700620Z"
    },
    "code_folding": [
     16,
     43
    ]
   },
   "outputs": [],
   "source": [
    "%matplotlib inline\n",
    "import os\n",
    "import datetime\n",
    "import numpy as np\n",
    "import matplotlib.pyplot as plt\n",
    "from mintpy.utils import utils as ut, plot as pp\n",
    "from mintpy.defaults.plot import *\n",
    "\n",
    "\n",
    "def datetime2str(datetime_list):\n",
    "    date_str = []\n",
    "    for d in datetime_list:\n",
    "        date_str.append(d.strftime('%Y%m%d'))\n",
    "    return date_str\n",
    "\n",
    "\n",
    "def compare_displacement(ys, xs, ts_files, figsize=(15,7), y_lim=[-100, 100]):\n",
    "    fig, ax = plt.subplots(figsize=figsize)\n",
    "    ax.set_title('time series displacement', fontsize=40)\n",
    "    ax.set_xlabel('date', fontsize=30)\n",
    "    ax.set_ylabel('displacrment (mm)', fontsize=30)\n",
    "    \n",
    "    ax.set_ylim(y_lim[0], y_lim[1])\n",
    "    ax.set_aspect('0.2')\n",
    "    ax.minorticks_on()\n",
    "    ax.xaxis.grid(True, which='both')\n",
    "    ax.xaxis.set_tick_params(rotation=30, labelsize=15)\n",
    "    ax.yaxis.grid(True, which='major')\n",
    "    ax.yaxis.set_tick_params(rotation=0, labelsize=15)\n",
    "    ax.set_xmargin(0.02)\n",
    "    \n",
    "    for ts_file in ts_files:\n",
    "        for y, x in zip(ys, xs):\n",
    "            date, dis = ut.read_timeseries_yx(y=y, x=x, ts_file=ts_file)\n",
    "            date_str = datetime2str(date)\n",
    "            disp_type = ts_file.split('_')[-3]\n",
    "            label = disp_type + f\" Point({y},{x})\"\n",
    "            ax.plot(date_str, dis * 1000, label=label, marker='o')\n",
    "            ax.xaxis.set_ticks(date_str[::4])\n",
    "    ax.legend(loc='best', fontsize=20, ncol=2)\n",
    "    fig.show()\n",
    "    \n",
    "    \n",
    "def plot_displacement(ys, xs, tsfile, figsize=(15,7), y_lim=[-100, 100]):\n",
    "    fig, ax = plt.subplots(figsize=figsize)\n",
    "    ax.set_title('time series displacement', fontsize=40)\n",
    "    ax.set_xlabel('date', fontsize=30)\n",
    "    ax.set_ylabel('displacrment (mm)', fontsize=30)\n",
    "\n",
    "    ax.set_ylim(y_lim[0], y_lim[1])\n",
    "    ax.set_aspect('0.2')\n",
    "    ax.minorticks_on()\n",
    "    ax.xaxis.grid(True, which='both')\n",
    "    ax.xaxis.set_tick_params(rotation=30, labelsize=15)\n",
    "    ax.yaxis.grid(True, which='major')\n",
    "    ax.yaxis.set_tick_params(rotation=0, labelsize=15)\n",
    "    ax.set_xmargin(0.02)\n",
    "\n",
    "    for y, x in zip(ys, xs):\n",
    "        date, dis = ut.read_timeseries_yx(y=y, x=x, ts_file=tsfile)\n",
    "        date_str = datetime2str(date)\n",
    "        label = \"Point ({}, {})\".format(y, x)\n",
    "        ax.plot(date_str, dis * 1000, label=label, marker='o')\n",
    "        ax.xaxis.set_ticks(date_str[::4])\n",
    "    ax.legend(loc='best', fontsize=20, ncol=2)\n",
    "    fig.show()\n",
    "#     fig.savefig('disp.png', dpi=600)\n",
    "    "
   ]
  },
  {
   "cell_type": "code",
   "execution_count": null,
   "metadata": {
    "ExecuteTime": {
     "end_time": "2020-08-12T13:50:42.331815Z",
     "start_time": "2020-08-12T13:50:41.554275Z"
    },
    "code_folding": [],
    "scrolled": false
   },
   "outputs": [],
   "source": [
    "proj_dir = '/media/ly/文件/sc2/mintpy6/'\n",
    "    \n",
    "ts_files = [\n",
    "    os.path.join(proj_dir, 'geo0.5/geo_timeseries_tropHgt_ramp_demErr.h5'),\n",
    "    os.path.join(proj_dir, 'geo/geo_timeseries_GACOS_ramp_demErr.h5')\n",
    "]\n",
    "ys =[520]\n",
    "xs = [1100]\n",
    "\n",
    "# compare_displacement(ys, xs, ts_files, figsize=(25, 15), y_lim=[-200, 100])\n",
    "\n",
    "plot_displacement(ys, xs, ts_files[0], figsize=(25, 15), y_lim=[-200, 20])"
   ]
  },
  {
   "cell_type": "markdown",
   "metadata": {},
   "source": [
    "### vel2xyz"
   ]
  },
  {
   "cell_type": "code",
   "execution_count": null,
   "metadata": {
    "ExecuteTime": {
     "end_time": "2020-08-12T13:42:16.034673Z",
     "start_time": "2020-08-12T13:42:16.015878Z"
    },
    "code_folding": [],
    "scrolled": true
   },
   "outputs": [],
   "source": [
    "import os\n",
    "import random\n",
    "import numpy as np\n",
    "from mintpy.utils import readfile\n",
    "\n",
    "\n",
    "def vel2xyz(mask_file, vel_file, xyz_file):\n",
    "    mask, atr = readfile.read(mask_file)\n",
    "    mask = np.asarray(mask)\n",
    "\n",
    "    vel, atr = readfile.read(vel_file)\n",
    "    vel = np.asarray(vel)\n",
    "\n",
    "    lon = float(atr['X_FIRST'])\n",
    "    lon_step = float(atr['X_STEP'])\n",
    "\n",
    "    lat = float(atr['Y_FIRST'])\n",
    "    lat_step = float(atr['Y_STEP'])\n",
    "\n",
    "    lon_tmp = np.linspace(lon, lon + lon_step * vel.shape[1], vel.shape[1])\n",
    "    lat_tmp = np.linspace(lat, lat + lat_step * vel.shape[0], vel.shape[0])\n",
    "\n",
    "    lons, lats = np.meshgrid(lon_tmp, lat_tmp)\n",
    "\n",
    "    lons = lons[mask].reshape((-1, 1))\n",
    "    lats = lats[mask].reshape((-1, 1))\n",
    "    vel = vel[mask].reshape((-1, 1)) * 1000\n",
    "    print('v_max : ', np.max(vel))\n",
    "    print('v_min : ', np.min(vel))\n",
    "    print('number of points : ', vel.shape[0])\n",
    "\n",
    "    vels = np.concatenate([lons, lats, vel], axis=1)\n",
    "    print('writing data to {}'.format(xyz_file))\n",
    "    np.savetxt(xyz_file, vels, fmt='%4f')\n",
    "    print('done.\\n')\n",
    "\n",
    "    \n",
    "def random_downsample(xyz_file, percent):\n",
    "    if os.path.isfile(xyz_file):\n",
    "        data = np.loadtxt(xyz_file)\n",
    "        point_num = data.shape[0]\n",
    "        index = random.sample(range(point_num), int(point_num * percent))\n",
    "        \n",
    "        base_name = os.path.basename(xyz_file)\n",
    "        dir_name = os.path.dirname(xyz_file)\n",
    "        out_name = base_name.replace('.', '_ds.')\n",
    "        out_file = os.path.join(dir_name, out_name)\n",
    "        out_data = data[index, :]\n",
    "        print('v_max : ', np.max(out_data))\n",
    "        print('v_min : ', np.min(out_data))\n",
    "        print('number of points : ', out_data.shape[0])\n",
    "        print('writing data to {}'.format(out_file))\n",
    "        np.savetxt(out_file, out_data, fmt='%4f')\n",
    "        print('done.')\n"
   ]
  },
  {
   "cell_type": "code",
   "execution_count": null,
   "metadata": {
    "ExecuteTime": {
     "end_time": "2020-08-12T13:42:18.100639Z",
     "start_time": "2020-08-12T13:42:17.820135Z"
    },
    "scrolled": true
   },
   "outputs": [],
   "source": [
    "geo_dir = '/media/ly/文件/MintPy/xsc/mintpy/geo'\n",
    "\n",
    "mask_file = os.path.join(geo_dir, 'geo_maskTempCoh.h5')\n",
    "vel_file = os.path.join(geo_dir, 'geo_velocity.h5')\n",
    "\n",
    "out_vel_file = os.path.join(geo_dir, 'vel.txt')\n",
    "\n",
    "vel2xyz(mask_file, vel_file, out_vel_file)\n",
    "random_downsample(out_vel_file, 0.8)"
   ]
  },
  {
   "cell_type": "markdown",
   "metadata": {},
   "source": [
    "### prepare data for `make_kmz_timeseries.py` and `make_kmz.py`"
   ]
  },
  {
   "cell_type": "code",
   "execution_count": null,
   "metadata": {
    "ExecuteTime": {
     "end_time": "2020-08-12T13:38:27.021398Z",
     "start_time": "2020-08-12T13:38:27.004030Z"
    },
    "code_folding": [
     4,
     13
    ]
   },
   "outputs": [],
   "source": [
    "import h5py\n",
    "import numpy as np\n",
    "from mintpy.utils import readfile\n",
    "\n",
    "def get_date(ts_file):\n",
    "    date_out = [0, 0, 0]\n",
    "    with h5py.File(ts_file, 'r') as f:\n",
    "        date = f['date'].value\n",
    "        for d in date:\n",
    "            date_out.append(int(d))\n",
    "    return np.asarray(date_out, np.float64)\n",
    "        \n",
    "\n",
    "def prep_data_for_kmz(mask_file, vel_file, ts_file, out_vel_file, out_ts_file):\n",
    "    mask, atr = readfile.read(mask_file)\n",
    "    mask = np.asarray(mask)\n",
    "    \n",
    "    vel, atr = readfile.read(vel_file)\n",
    "    vel = np.asarray(vel) * 1000\n",
    "    \n",
    "    date = get_date(ts_file)\n",
    "    ts, atr = readfile.read(ts_file)\n",
    "    ts = np.asarray(ts)\n",
    "    ts = ts.reshape((date.shape[0] - 3, -1, 1)) * 1000\n",
    "\n",
    "    lon = float(atr['X_FIRST'])\n",
    "    lon_step = float(atr['X_STEP'])\n",
    "\n",
    "    lat = float(atr['Y_FIRST'])\n",
    "    lat_step = float(atr['Y_STEP'])\n",
    "\n",
    "    lon_tmp = np.linspace(lon, lon + lon_step * vel.shape[1], vel.shape[1])\n",
    "    lat_tmp = np.linspace(lat, lat + lat_step * vel.shape[0], vel.shape[0])\n",
    "\n",
    "    lons, lats = np.meshgrid(lon_tmp, lat_tmp)\n",
    "\n",
    "    lons = lons.reshape((-1, 1))\n",
    "    lats = lats.reshape((-1, 1))\n",
    "    vels = vel.reshape((-1, 1))\n",
    "    mask = mask.reshape((-1, 1))\n",
    "\n",
    "#     not_nan = ~np.isnan(vels)\n",
    "\n",
    "    lons = lons[mask].reshape((-1, 1))\n",
    "    lats = lats[mask].reshape((-1, 1))\n",
    "    vels = vels[mask].reshape((-1, 1))\n",
    "\n",
    "    llv = np.hstack((lons, lats, vels))\n",
    "    # save lon, lat, velocity\n",
    "    print('writing data to {}'.format(out_vel_file))\n",
    "    np.savetxt(out_vel_file, llv, fmt='%4f')\n",
    "    print('done.')\n",
    "\n",
    "    llvs = llv\n",
    "    for i in range(ts.shape[0]):\n",
    "        data = ts[i]\n",
    "        llvs = np.hstack((llvs, data[mask].reshape((-1, 1))))\n",
    "    \n",
    "    tmp = llvs[:, 3:]\n",
    "    tmp = tmp - tmp[:, 0].reshape((-1, 1))\n",
    "    tmp = np.hstack((llv, tmp))\n",
    "    \n",
    "    llvs = np.vstack((date, tmp))\n",
    "    \n",
    "    # save lon, lat, vel, disp\n",
    "    print('writing data to {}'.format(out_ts_file))\n",
    "    np.savetxt(out_ts_file, llvs, fmt='%4f')\n",
    "    print('done.')\n"
   ]
  },
  {
   "cell_type": "code",
   "execution_count": null,
   "metadata": {
    "ExecuteTime": {
     "end_time": "2020-08-12T13:38:29.210287Z",
     "start_time": "2020-08-12T13:38:28.484026Z"
    }
   },
   "outputs": [],
   "source": [
    "geo_dir = '/media/ly/文件/MintPy/xsc/mintpy/geo'\n",
    "\n",
    "mask_file = os.path.join(geo_dir, 'geo_maskTempCoh.h5')\n",
    "vel_file = os.path.join(geo_dir, 'geo_velocity.h5')\n",
    "ts_file = os.path.join(geo_dir, 'geo_timeseries_tropHgt_ramp_demErr.h5')\n",
    "\n",
    "out_vel_file = os.path.join(geo_dir, 'vels.txt')\n",
    "out_ts_file = os.path.join(geo_dir, 'ts.txt')\n",
    "\n",
    "prep_data_for_kmz(mask_file, vel_file, ts_file, out_vel_file, out_ts_file)"
   ]
  },
  {
   "cell_type": "markdown",
   "metadata": {},
   "source": [
    "### transection"
   ]
  },
  {
   "cell_type": "code",
   "execution_count": null,
   "metadata": {
    "ExecuteTime": {
     "end_time": "2020-08-10T09:56:58.270178Z",
     "start_time": "2020-08-10T09:56:58.257739Z"
    },
    "code_folding": []
   },
   "outputs": [],
   "source": [
    "%matplotlib inline\n",
    "import os\n",
    "import matplotlib.pyplot as plt\n",
    "from mintpy.plot_transection import transectionViewer\n",
    "\n",
    "\n",
    "def plot_transection(fname='./velocity.h5', start_yx=None, end_yx=None):\n",
    "    cmd = 'plot_transection.py {} --noverbose --figsize 9 4 '.format(fname)\n",
    "    if start_yx is not None:\n",
    "        cmd += ' --start-yx {} {}'.format(start_yx[0], start_yx[1])\n",
    "    if end_yx is not None:\n",
    "        cmd += ' --end-yx {} {}'.format(end_yx[0], end_yx[1])\n",
    "    print(cmd)\n",
    "    obj = transectionViewer(cmd)\n",
    "    obj.configure()\n",
    "    obj.plot()\n",
    "    return obj"
   ]
  },
  {
   "cell_type": "code",
   "execution_count": null,
   "metadata": {
    "ExecuteTime": {
     "end_time": "2020-08-10T09:56:58.278509Z",
     "start_time": "2020-08-10T09:56:58.274368Z"
    },
    "scrolled": false
   },
   "outputs": [],
   "source": [
    "# proj_dir = '/media/ly/file/sc1/4/'\n",
    "# os.chdir(proj_dir)\n",
    "# obj = plot_transection('./geo/geo_velocity.h5', start_yx=[316, 160], end_yx=[293, 198])"
   ]
  },
  {
   "cell_type": "code",
   "execution_count": null,
   "metadata": {
    "ExecuteTime": {
     "end_time": "2020-07-31T03:00:15.945521Z",
     "start_time": "2020-07-31T03:00:15.611131Z"
    }
   },
   "outputs": [],
   "source": []
  }
 ],
 "metadata": {
  "kernelspec": {
   "display_name": "Python 3",
   "language": "python",
   "name": "python3"
  },
  "language_info": {
   "codemirror_mode": {
    "name": "ipython",
    "version": 3
   },
   "file_extension": ".py",
   "mimetype": "text/x-python",
   "name": "python",
   "nbconvert_exporter": "python",
   "pygments_lexer": "ipython3",
   "version": "3.6.9"
  },
  "notify_time": "0",
  "toc": {
   "base_numbering": 1,
   "nav_menu": {},
   "number_sections": true,
   "sideBar": true,
   "skip_h1_title": false,
   "title_cell": "Table of Contents",
   "title_sidebar": "Contents",
   "toc_cell": false,
   "toc_position": {
    "height": "calc(100% - 180px)",
    "left": "10px",
    "top": "150px",
    "width": "248.667px"
   },
   "toc_section_display": true,
   "toc_window_display": true
  },
  "varInspector": {
   "cols": {
    "lenName": 16,
    "lenType": 16,
    "lenVar": 40
   },
   "kernels_config": {
    "python": {
     "delete_cmd_postfix": "",
     "delete_cmd_prefix": "del ",
     "library": "var_list.py",
     "varRefreshCmd": "print(var_dic_list())"
    },
    "r": {
     "delete_cmd_postfix": ") ",
     "delete_cmd_prefix": "rm(",
     "library": "var_list.r",
     "varRefreshCmd": "cat(var_dic_list()) "
    }
   },
   "types_to_exclude": [
    "module",
    "function",
    "builtin_function_or_method",
    "instance",
    "_Feature"
   ],
   "window_display": false
  }
 },
 "nbformat": 4,
 "nbformat_minor": 4
}