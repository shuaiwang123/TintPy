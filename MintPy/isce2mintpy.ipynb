{
 "cells": [
  {
   "cell_type": "markdown",
   "metadata": {},
   "source": [
    "# isce2"
   ]
  },
  {
   "cell_type": "markdown",
   "metadata": {},
   "source": [
    "## prepare data"
   ]
  },
  {
   "cell_type": "code",
   "execution_count": null,
   "metadata": {
    "ExecuteTime": {
     "end_time": "2020-08-02T12:43:23.293954Z",
     "start_time": "2020-08-02T12:43:23.290704Z"
    }
   },
   "outputs": [],
   "source": [
    "import os\n",
    "os.chdir('/media/ly/文件/sc5/isce_stack')"
   ]
  },
  {
   "cell_type": "code",
   "execution_count": null,
   "metadata": {
    "ExecuteTime": {
     "end_time": "2020-04-01T07:04:15.736730Z",
     "start_time": "2020-04-01T07:04:15.180202Z"
    }
   },
   "outputs": [],
   "source": [
    "# !dem.py -a stitch -b 29 31 100 103 -s 1 -r -l -c\n",
    "# os.chdir('/media/ly/文件/xsc/isce_stack/DEM/')\n",
    "# !fixImageXml.py -i demLat_N30_N33_Lon_E101_E105.dem.wgs84 -f\n",
    "# os.chdir('/media/ly/文件/xsc/isce_stack/')"
   ]
  },
  {
   "cell_type": "code",
   "execution_count": null,
   "metadata": {
    "ExecuteTime": {
     "end_time": "2020-06-01T07:42:46.940902Z",
     "start_time": "2020-06-01T07:42:46.278418Z"
    },
    "scrolled": true
   },
   "outputs": [],
   "source": [
    "# !stackSentinel.py -h"
   ]
  },
  {
   "cell_type": "code",
   "execution_count": null,
   "metadata": {
    "ExecuteTime": {
     "end_time": "2020-08-02T12:43:26.484060Z",
     "start_time": "2020-08-02T12:43:25.097497Z"
    },
    "scrolled": true
   },
   "outputs": [],
   "source": [
    "!stackSentinel.py -s ./../data/slc -d ./../data/dem/demLat_N29_N31_Lon_E101_E103.dem.wgs84 -a ./../data/aux_cal -o ./../data/orbits -b '29.435983 29.986283 102.037699 102.240680' -W interferogram -C geometry -r 20 -z 4 -f 0.6 -c 4"
   ]
  },
  {
   "cell_type": "markdown",
   "metadata": {},
   "source": [
    "## run stack"
   ]
  },
  {
   "cell_type": "code",
   "execution_count": null,
   "metadata": {
    "ExecuteTime": {
     "end_time": "2020-08-02T12:43:33.100807Z",
     "start_time": "2020-08-02T12:43:33.095279Z"
    }
   },
   "outputs": [],
   "source": [
    "os.chdir('/media/ly/文件/sc5/isce_stack/run_files')"
   ]
  },
  {
   "cell_type": "code",
   "execution_count": null,
   "metadata": {
    "ExecuteTime": {
     "end_time": "2020-08-02T13:10:48.970523Z",
     "start_time": "2020-08-02T12:43:40.471387Z"
    },
    "scrolled": true
   },
   "outputs": [],
   "source": [
    "!./run_1_unpack_slc_topo_master"
   ]
  },
  {
   "cell_type": "code",
   "execution_count": null,
   "metadata": {
    "ExecuteTime": {
     "end_time": "2020-08-02T13:12:32.297345Z",
     "start_time": "2020-08-02T13:10:48.994308Z"
    },
    "scrolled": true
   },
   "outputs": [],
   "source": [
    "!./run_2_average_baseline"
   ]
  },
  {
   "cell_type": "code",
   "execution_count": null,
   "metadata": {
    "ExecuteTime": {
     "end_time": "2020-08-02T17:02:34.098041Z",
     "start_time": "2020-08-02T13:12:32.315598Z"
    },
    "scrolled": true
   },
   "outputs": [],
   "source": [
    "!./run_3_geo2rdr_resample"
   ]
  },
  {
   "cell_type": "code",
   "execution_count": null,
   "metadata": {
    "ExecuteTime": {
     "end_time": "2020-08-02T17:03:13.624038Z",
     "start_time": "2020-08-02T17:02:34.114801Z"
    }
   },
   "outputs": [],
   "source": [
    "!./run_4_extract_stack_valid_region"
   ]
  },
  {
   "cell_type": "code",
   "execution_count": null,
   "metadata": {
    "ExecuteTime": {
     "end_time": "2020-08-02T17:04:38.729730Z",
     "start_time": "2020-08-02T17:03:13.646776Z"
    },
    "scrolled": true
   },
   "outputs": [],
   "source": [
    "!./run_5_merge_master_slave_slc"
   ]
  },
  {
   "cell_type": "code",
   "execution_count": null,
   "metadata": {
    "ExecuteTime": {
     "end_time": "2020-08-02T18:21:14.250512Z",
     "start_time": "2020-08-02T17:04:38.747885Z"
    },
    "scrolled": true
   },
   "outputs": [],
   "source": [
    "!./run_6_merge_burst_igram"
   ]
  },
  {
   "cell_type": "code",
   "execution_count": null,
   "metadata": {
    "ExecuteTime": {
     "end_time": "2020-08-03T01:47:18.549083Z",
     "start_time": "2020-08-02T22:36:04.042039Z"
    },
    "scrolled": true
   },
   "outputs": [],
   "source": [
    "!./run_7_filter_coherence"
   ]
  },
  {
   "cell_type": "code",
   "execution_count": null,
   "metadata": {
    "ExecuteTime": {
     "end_time": "2020-08-03T05:28:19.954552Z",
     "start_time": "2020-08-03T01:47:18.580626Z"
    },
    "scrolled": true
   },
   "outputs": [],
   "source": [
    "!./run_8_unwrap"
   ]
  },
  {
   "cell_type": "markdown",
   "metadata": {},
   "source": [
    "## prepare files for MintPy"
   ]
  },
  {
   "cell_type": "code",
   "execution_count": null,
   "metadata": {},
   "outputs": [],
   "source": [
    "# Copy necessary files processed by stackSentinel.py for MintPy\n",
    "import os\n",
    "import shutil\n",
    "import sys\n",
    "\n",
    "\n",
    "def copy_files(stack_dir, save_dir):\n",
    "    if not os.path.isdir(save_dir):\n",
    "        os.mkdir(save_dir)\n",
    "    # copy baselines\n",
    "    baselines_src = os.path.join(stack_dir, 'baselines')\n",
    "    baselines_dst = os.path.join(save_dir, 'baselines')\n",
    "    if os.path.isdir(baselines_src):\n",
    "        print('copy baselines...')\n",
    "        shutil.copytree(baselines_src, baselines_dst)\n",
    "        print('done.')\n",
    "\n",
    "    # copy reference\n",
    "    master_src = os.path.join(stack_dir, 'reference')\n",
    "    master_dst = os.path.join(save_dir, 'reference')\n",
    "    if os.path.isdir(master_src):\n",
    "        print('copy reference...')\n",
    "        shutil.copytree(master_src, master_dst)\n",
    "        print('done.')\n",
    "\n",
    "    # copy merged/geom_reference\n",
    "    merged_dst = os.path.join(save_dir, 'merged')\n",
    "    os.mkdir(merged_dst)\n",
    "    geom_master_src = os.path.join(stack_dir, 'merged', 'geom_reference')\n",
    "    geom_master_dst = os.path.join(merged_dst, 'geom_reference')\n",
    "    if os.path.isdir(geom_master_src):\n",
    "        print('copy merged/geom_reference...')\n",
    "        shutil.copytree(geom_master_src, geom_master_dst)\n",
    "        print('done.')\n",
    "\n",
    "    # copy merged/interferograms\n",
    "    files = [\n",
    "        'filt_fine.cor', 'filt_fine.cor.vrt', 'filt_fine.cor.xml',\n",
    "        'filt_fine.unw', 'filt_fine.unw.vrt', 'filt_fine.unw.xml',\n",
    "        'filt_fine.unw.conncomp', 'filt_fine.unw.conncomp.vrt',\n",
    "        'filt_fine.unw.conncomp.xml'\n",
    "    ]\n",
    "    interferograms_dst = os.path.join(merged_dst, 'interferograms')\n",
    "    os.mkdir(interferograms_dst)\n",
    "    interferograms_src = os.path.join(stack_dir, 'merged', 'interferograms')\n",
    "    ifgs = os.listdir(interferograms_src)\n",
    "    if ifgs:\n",
    "        for ifg in ifgs:\n",
    "            sys.stdout.write(\n",
    "                f\"\\rcopy merged/interferograms {ifgs.index(ifg) + 1}/{len(ifgs)}\",\n",
    "            )\n",
    "            sys.stdout.flush()\n",
    "            ifg_src = os.path.join(interferograms_src, ifg)\n",
    "            ifg_dst = os.path.join(interferograms_dst, ifg)\n",
    "            os.mkdir(ifg_dst)\n",
    "            for f in files:\n",
    "                file_src = os.path.join(ifg_src, f)\n",
    "                file_dst = os.path.join(ifg_dst, f)\n",
    "                if os.path.isfile(file_src):\n",
    "                    shutil.copy(file_src, file_dst)\n",
    "                else:\n",
    "                    print(f\"{file_src} doesn't exist.\")\n",
    "        print('\\ndone.')"
   ]
  },
  {
   "cell_type": "code",
   "execution_count": null,
   "metadata": {},
   "outputs": [],
   "source": [
    "stack_path = '/media/ly/文件/res2'\n",
    "save_path = '/media/ly/file/sc1/isce_stack'\n",
    "copy_files(stack_path, save_path)"
   ]
  },
  {
   "cell_type": "markdown",
   "metadata": {},
   "source": [
    "## quickview"
   ]
  },
  {
   "cell_type": "code",
   "execution_count": null,
   "metadata": {
    "ExecuteTime": {
     "end_time": "2020-09-11T15:51:27.915302Z",
     "start_time": "2020-09-11T15:51:27.521997Z"
    },
    "code_folding": [],
    "scrolled": true
   },
   "outputs": [],
   "source": [
    "from osgeo import gdal\n",
    "import matplotlib\n",
    "matplotlib.use('agg')\n",
    "import matplotlib.pyplot as plt\n",
    "plt.rcParams['figure.max_open_warning']=False\n",
    "from matplotlib.colors import LightSource\n",
    "import numpy as np\n",
    "import glob\n",
    "import os\n",
    "\n",
    "\n",
    "def read_hgt(hgt_file):\n",
    "    ds = gdal.Open(hgt_file, gdal.GA_ReadOnly)\n",
    "    data = ds.GetRasterBand(1).ReadAsArray()\n",
    "    ds = None\n",
    "    return data\n",
    "\n",
    "\n",
    "def view_unw(unws, hgt_file, out_dir):\n",
    "    if unws:\n",
    "        if not os.path.isdir(out_dir):\n",
    "            os.mkdir(out_dir)\n",
    "        for unw in unws:\n",
    "            print(f\"\\rquickview of unws: {unws.index(unw) + 1}/{len(unws)}\", end=\" \", flush=True)\n",
    "            ds = gdal.Open(unw, gdal.GA_ReadOnly)\n",
    "            data = ds.GetRasterBand(2).ReadAsArray()\n",
    "            ds = None\n",
    "            fig,ax = plt.subplots(figsize=(11,10))\n",
    "            hgt = read_hgt(hgt_file)\n",
    "            ls = LightSource()\n",
    "            hgt_shade = ls.shade(hgt, cmap=plt.get_cmap('gray'))\n",
    "            ax.imshow(hgt_shade, zorder=0)\n",
    "            m = np.max(np.abs(data))\n",
    "            im = ax.imshow(data, cmap='jet', vmin=-m, vmax=m, zorder=1, alpha=0.7)\n",
    "            fig.colorbar(im)\n",
    "            ax.set_title('unwraped')\n",
    "            unw_name = unw.split('/')[-2] + '_unw'\n",
    "            fig.savefig(os.path.join(out_dir, unw_name), bbox_inches='tight')\n",
    "        print('\\ndone.')\n",
    "        plt.close('all')\n",
    "    else:\n",
    "        print('no unws found.')\n",
    "\n",
    "    \n",
    "def view_ifg(ifgs, hgt_file, out_dir):\n",
    "    if ifgs:\n",
    "        if not os.path.isdir(out_dir):\n",
    "            os.mkdir(out_dir)\n",
    "        for ifg in ifgs:\n",
    "            print(f\"\\rquickview of ifgs: {ifgs.index(ifg) + 1}/{len(ifgs)}\", end=\" \", flush=True)\n",
    "            ds = gdal.Open(ifg, gdal.GA_ReadOnly)\n",
    "            data = ds.GetRasterBand(1).ReadAsArray()\n",
    "            ds = None\n",
    "            fig,ax = plt.subplots(figsize=(11,10))\n",
    "            hgt = read_hgt(hgt_file)\n",
    "            ls = LightSource()\n",
    "            hgt_shade = ls.shade(hgt, cmap=plt.get_cmap('gray'))\n",
    "            ax.imshow(hgt_shade, zorder=0)\n",
    "            im = ax.imshow(np.angle(data), cmap='jet', zorder=1, alpha=0.7)\n",
    "            fig.colorbar(im)\n",
    "            ax.set_title('interferogram')\n",
    "            ifg_name = ifg.split('/')[-2] + '_ifg'\n",
    "            fig.savefig(os.path.join(out_dir, ifg_name), bbox_inches='tight')\n",
    "        print('\\ndone.')\n",
    "        plt.close('all')\n",
    "    else:\n",
    "        print('no ifgs found.')\n",
    "\n",
    "    \n",
    "def view_cor(cors, hgt_file, out_dir):\n",
    "    if cors:\n",
    "        if not os.path.isdir(out_dir):\n",
    "            os.mkdir(out_dir)\n",
    "        for cor in cors:\n",
    "            print(f\"\\rquickview of cors: {cors.index(cor) + 1}/{len(cors)}\", end=\" \", flush=True)\n",
    "            ds = gdal.Open(cor, gdal.GA_ReadOnly)\n",
    "            data = ds.GetRasterBand(1).ReadAsArray()\n",
    "            ds = None\n",
    "            fig,ax = plt.subplots(figsize=(11,10))\n",
    "            hgt = read_hgt(hgt_file)\n",
    "            ls = LightSource()\n",
    "            hgt_shade = ls.shade(hgt, cmap=plt.get_cmap('gray'))\n",
    "            ax.imshow(hgt_shade, zorder=0)\n",
    "            im = ax.imshow((data), cmap='gray', zorder=1, alpha=0.7)\n",
    "            fig.colorbar(im)\n",
    "            ax.set_title('coherence')\n",
    "            cor_name = cor.split('/')[-2] + '_cor'\n",
    "            fig.savefig(os.path.join(out_dir, cor_name), bbox_inches='tight')\n",
    "        print('\\ndone.')\n",
    "        plt.close('all')\n",
    "    else:\n",
    "        print('no cors found.')"
   ]
  },
  {
   "cell_type": "code",
   "execution_count": null,
   "metadata": {
    "ExecuteTime": {
     "end_time": "2020-09-11T15:52:09.107074Z",
     "start_time": "2020-09-11T15:51:49.054144Z"
    },
    "scrolled": true
   },
   "outputs": [],
   "source": [
    "interferograms_dir = '/media/ly/isce_stack/merged/interferograms'\n",
    "unws = glob.glob(interferograms_dir + '/*/filt_fine.unw.vrt')\n",
    "ifgs = glob.glob(interferograms_dir + '/*/filt_fine.int.vrt')\n",
    "cors = glob.glob(interferograms_dir + '/*/filt_fine.cor.vrt')\n",
    "\n",
    "hgt_file = '/media/ly/isce_stack/merged/geom_reference/hgt.rdr'\n",
    "\n",
    "out_dir = '/media/ly/isce_stack/merged/quickview'\n",
    "\n",
    "view_unw(unws, hgt_file, out_dir)\n",
    "view_ifg(ifgs, hgt_file, out_dir)\n",
    "view_cor(cors, hgt_file, out_dir)"
   ]
  },
  {
   "cell_type": "markdown",
   "metadata": {
    "ExecuteTime": {
     "end_time": "2020-03-26T10:37:00.996426Z",
     "start_time": "2020-03-26T10:37:00.994324Z"
    }
   },
   "source": [
    "# MintPy"
   ]
  },
  {
   "cell_type": "markdown",
   "metadata": {},
   "source": [
    "## configure file"
   ]
  },
  {
   "cell_type": "code",
   "execution_count": null,
   "metadata": {
    "ExecuteTime": {
     "end_time": "2020-08-10T10:03:01.020991Z",
     "start_time": "2020-08-10T10:03:01.010830Z"
    }
   },
   "outputs": [],
   "source": [
    "%matplotlib inline\n",
    "import os\n",
    "import numpy as np\n",
    "import matplotlib.pyplot as plt\n",
    "from mintpy.objects import ifgramStack\n",
    "from mintpy.utils import plot as pp, utils as ut\n",
    "from mintpy import view, plot_network\n",
    "\n",
    "prj_dir = '/media/ly/文件/sc2/mintpy6'\n",
    "if not os.path.isdir(prj_dir):\n",
    "    os.mkdir(prj_dir)\n",
    "\n",
    "os.chdir(prj_dir)                        # work directory\n",
    "prj_file = 'sc26.txt'                    # configure file"
   ]
  },
  {
   "cell_type": "code",
   "execution_count": null,
   "metadata": {
    "ExecuteTime": {
     "end_time": "2020-08-05T10:35:09.028834Z",
     "start_time": "2020-08-05T10:35:09.022458Z"
    },
    "tags": []
   },
   "outputs": [],
   "source": [
    "config = \"\"\"##-------------------------------- MintPy -----------------------------##\n",
    "########## 1. Load Data (--load to exit after this step)\n",
    "## load_data.py -H to check more details and example inputs.\n",
    "mintpy.load.processor        = isce\n",
    "##---------for ISCE only:\n",
    "mintpy.load.metaFile         = ../isce_stack/reference/IW*.xml\n",
    "mintpy.load.baselineDir      = ../isce_stack/baselines\n",
    "##---------interferogram datasets:\n",
    "mintpy.load.unwFile          = ../isce_stack/merged/interferograms/*/filt_*.unw\n",
    "mintpy.load.corFile          = ../isce_stack/merged/interferograms/*/filt_*.cor\n",
    "mintpy.load.connCompFile     = ../isce_stack/merged/interferograms/*/filt_*.unw.conncomp\n",
    "##---------geometry datasets:\n",
    "mintpy.load.demFile          = ../isce_stack/merged/geom_reference/hgt.rdr\n",
    "mintpy.load.lookupYFile      = ../isce_stack/merged/geom_reference/lat.rdr\n",
    "mintpy.load.lookupXFile      = ../isce_stack/merged/geom_reference/lon.rdr\n",
    "mintpy.load.incAngleFile     = ../isce_stack/merged/geom_reference/los.rdr\n",
    "mintpy.load.azAngleFile      = ../isce_stack/merged/geom_reference/los.rdr\n",
    "mintpy.load.shadowMaskFile   = ../isce_stack/merged/geom_reference/shadowMask.rdr\n",
    "mintpy.load.waterMaskFile    = None\n",
    "##---------subset (optional):\n",
    "mintpy.subset.yx   = 2000:3188,1000:2464    #[1800:2000,700:800 / no], auto for no\n",
    "\n",
    "########## 2. modify_network\n",
    "mintpy.network.keepMinSpanTree \t\t= yes  #[yes / no], auto for yes, keep interferograms in Min Span Tree network\n",
    "\n",
    "########## 3. reference_point\n",
    "\n",
    "########## 4. correct_unwrap_error (optional)\n",
    "\n",
    "########## 5. invert_network\n",
    "mintpy.networkInversion.minTempCoh  \t= 0.5 #[0.0-1.0], auto for 0.7, min temporal coherence for mask\n",
    "\n",
    "########## 6. correct_troposphere (optional and recommended)\n",
    "mintpy.troposphericDelay.method         = height_correlation   #[pyaps / height_correlation / no], auto for pyaps\n",
    "\n",
    "########## 7. deramp (optional)\n",
    "mintpy.deramp                           = linear\n",
    "\n",
    "########## 8. correct_topography (optional and recommended)\n",
    "\n",
    "########## 9.1 residual_RMS (root mean squares for noise evaluation)\n",
    "\n",
    "########## 9.2 reference_date\n",
    "\n",
    "########## 10. velocity\n",
    "\n",
    "########## 11.1 geocode (post-processing)\n",
    "\n",
    "########## 11.2 google_earth (post-processing)\n",
    "\n",
    "########## 11.3 hdfeos5 (post-processing)\n",
    "\n",
    "########## 11.4 plot\n",
    "\"\"\"\n",
    "\n",
    "with open(prj_file, 'w+') as f:\n",
    "    f.write(config)"
   ]
  },
  {
   "cell_type": "markdown",
   "metadata": {},
   "source": [
    "## load_data"
   ]
  },
  {
   "cell_type": "code",
   "execution_count": null,
   "metadata": {
    "ExecuteTime": {
     "end_time": "2020-08-06T02:52:21.849515Z",
     "start_time": "2020-08-06T02:45:39.830054Z"
    },
    "scrolled": true,
    "tags": []
   },
   "outputs": [],
   "source": [
    "!smallbaselineApp.py $prj_file --dostep load_data"
   ]
  },
  {
   "cell_type": "code",
   "execution_count": null,
   "metadata": {
    "ExecuteTime": {
     "end_time": "2020-08-10T06:20:38.575777Z",
     "start_time": "2020-08-10T06:20:37.127083Z"
    },
    "scrolled": true
   },
   "outputs": [],
   "source": [
    "view.main('./inputs/ifgramStack.h5 20170120_20170303 --nrows 1 --ncols 3'.split())"
   ]
  },
  {
   "cell_type": "code",
   "execution_count": null,
   "metadata": {
    "ExecuteTime": {
     "end_time": "2020-08-06T02:54:30.767656Z",
     "start_time": "2020-08-06T02:54:30.248651Z"
    },
    "scrolled": true
   },
   "outputs": [],
   "source": [
    "# !info.py ./inputs/geometryRadar.h5 --compact"
   ]
  },
  {
   "cell_type": "code",
   "execution_count": null,
   "metadata": {
    "ExecuteTime": {
     "end_time": "2020-08-06T02:54:30.775435Z",
     "start_time": "2020-08-06T02:54:30.771509Z"
    },
    "scrolled": true
   },
   "outputs": [],
   "source": [
    "# view.main('./inputs/geometryRadar.h5 --notick --noaxis'.split())"
   ]
  },
  {
   "cell_type": "markdown",
   "metadata": {},
   "source": [
    "## modify_network"
   ]
  },
  {
   "cell_type": "code",
   "execution_count": null,
   "metadata": {
    "ExecuteTime": {
     "end_time": "2020-08-06T02:54:56.473265Z",
     "start_time": "2020-08-06T02:54:30.777322Z"
    },
    "scrolled": true
   },
   "outputs": [],
   "source": [
    "!smallbaselineApp.py $prj_file --dostep modify_network"
   ]
  },
  {
   "cell_type": "code",
   "execution_count": null,
   "metadata": {
    "ExecuteTime": {
     "end_time": "2020-08-06T02:55:04.347596Z",
     "start_time": "2020-08-06T02:54:56.475023Z"
    },
    "scrolled": true
   },
   "outputs": [],
   "source": [
    "plot_network.main(['./inputs/ifgramStack.h5'])"
   ]
  },
  {
   "cell_type": "markdown",
   "metadata": {},
   "source": [
    "## reference_point"
   ]
  },
  {
   "cell_type": "code",
   "execution_count": null,
   "metadata": {
    "ExecuteTime": {
     "end_time": "2020-08-06T02:55:10.892530Z",
     "start_time": "2020-08-06T02:55:04.349696Z"
    },
    "scrolled": true
   },
   "outputs": [],
   "source": [
    "!smallbaselineApp.py $prj_file --dostep reference_point"
   ]
  },
  {
   "cell_type": "code",
   "execution_count": null,
   "metadata": {
    "ExecuteTime": {
     "end_time": "2020-08-06T02:55:11.369548Z",
     "start_time": "2020-08-06T02:55:10.895836Z"
    },
    "scrolled": true
   },
   "outputs": [],
   "source": [
    "!info.py ./inputs/ifgramStack.h5 | egrep 'REF_'"
   ]
  },
  {
   "cell_type": "markdown",
   "metadata": {},
   "source": [
    "## correct_unwrap_error"
   ]
  },
  {
   "cell_type": "code",
   "execution_count": null,
   "metadata": {
    "ExecuteTime": {
     "end_time": "2020-08-06T02:55:12.914747Z",
     "start_time": "2020-08-06T02:55:11.374584Z"
    },
    "scrolled": true
   },
   "outputs": [],
   "source": [
    "!smallbaselineApp.py $prj_file --dostep correct_unwrap_error"
   ]
  },
  {
   "cell_type": "markdown",
   "metadata": {},
   "source": [
    "## invert_network"
   ]
  },
  {
   "cell_type": "code",
   "execution_count": null,
   "metadata": {
    "ExecuteTime": {
     "end_time": "2020-08-10T09:52:19.867115Z",
     "start_time": "2020-08-10T09:52:17.426431Z"
    },
    "scrolled": true
   },
   "outputs": [],
   "source": [
    "!smallbaselineApp.py $prj_file --dostep invert_network"
   ]
  },
  {
   "cell_type": "code",
   "execution_count": null,
   "metadata": {
    "ExecuteTime": {
     "end_time": "2020-08-10T09:52:30.008534Z",
     "start_time": "2020-08-10T09:52:19.870684Z"
    },
    "scrolled": true
   },
   "outputs": [],
   "source": [
    "view.main('timeseries.h5 --wrap --wrap-range -5 5 -u cm --notitle --notick --noaxis'.split())"
   ]
  },
  {
   "cell_type": "code",
   "execution_count": null,
   "metadata": {
    "ExecuteTime": {
     "end_time": "2020-08-10T10:03:05.492868Z",
     "start_time": "2020-08-10T10:03:04.580547Z"
    },
    "scrolled": true
   },
   "outputs": [],
   "source": [
    "view.main('temporalCoherence.h5 --notick --noaxis --noverbose'.split())\n",
    "view.main('maskTempCoh.h5 --notick --noaxis --noverbose'.split())"
   ]
  },
  {
   "cell_type": "markdown",
   "metadata": {},
   "source": [
    "## correct_troposphere"
   ]
  },
  {
   "cell_type": "code",
   "execution_count": null,
   "metadata": {
    "ExecuteTime": {
     "end_time": "2020-08-10T09:52:33.167450Z",
     "start_time": "2020-08-10T09:52:31.023160Z"
    },
    "scrolled": true
   },
   "outputs": [],
   "source": [
    "!smallbaselineApp.py $prj_file --dostep correct_troposphere"
   ]
  },
  {
   "cell_type": "code",
   "execution_count": null,
   "metadata": {
    "ExecuteTime": {
     "end_time": "2020-08-10T09:52:43.304770Z",
     "start_time": "2020-08-10T09:52:33.172244Z"
    },
    "scrolled": true
   },
   "outputs": [],
   "source": [
    "view.main('timeseries_tropHgt.h5 --wrap --wrap-range -5 5 -u cm --notitle --notick --noaxis'.split())"
   ]
  },
  {
   "cell_type": "markdown",
   "metadata": {},
   "source": [
    "## deramp"
   ]
  },
  {
   "cell_type": "code",
   "execution_count": null,
   "metadata": {
    "ExecuteTime": {
     "end_time": "2020-08-10T09:52:52.730677Z",
     "start_time": "2020-08-10T09:52:43.306802Z"
    },
    "scrolled": true
   },
   "outputs": [],
   "source": [
    "!smallbaselineApp.py $prj_file --dostep deramp"
   ]
  },
  {
   "cell_type": "markdown",
   "metadata": {},
   "source": [
    "## correct_topography"
   ]
  },
  {
   "cell_type": "code",
   "execution_count": null,
   "metadata": {
    "ExecuteTime": {
     "end_time": "2020-08-10T09:55:53.454707Z",
     "start_time": "2020-08-10T09:52:52.733850Z"
    },
    "scrolled": true
   },
   "outputs": [],
   "source": [
    "!smallbaselineApp.py $prj_file --dostep correct_topography"
   ]
  },
  {
   "cell_type": "code",
   "execution_count": null,
   "metadata": {
    "ExecuteTime": {
     "end_time": "2020-08-10T09:56:02.935911Z",
     "start_time": "2020-08-10T09:55:53.459895Z"
    },
    "scrolled": true
   },
   "outputs": [],
   "source": [
    "view.main('timeseries_tropHgt_ramp_demErr.h5 --notitle --wrap --wrap-range -5 5 --notick --noaxis'.split())"
   ]
  },
  {
   "cell_type": "markdown",
   "metadata": {},
   "source": [
    "## residual_RMS"
   ]
  },
  {
   "cell_type": "code",
   "execution_count": null,
   "metadata": {
    "ExecuteTime": {
     "end_time": "2020-08-10T09:56:15.305561Z",
     "start_time": "2020-08-10T09:56:02.939355Z"
    },
    "scrolled": true
   },
   "outputs": [],
   "source": [
    "!smallbaselineApp.py $prj_file --dostep residual_RMS"
   ]
  },
  {
   "cell_type": "code",
   "execution_count": null,
   "metadata": {
    "ExecuteTime": {
     "end_time": "2020-08-10T09:56:15.439293Z",
     "start_time": "2020-08-10T09:56:15.309881Z"
    }
   },
   "outputs": [],
   "source": [
    "!head rms_timeseriesResidual_ramp.txt"
   ]
  },
  {
   "cell_type": "markdown",
   "metadata": {},
   "source": [
    "## reference_date"
   ]
  },
  {
   "cell_type": "code",
   "execution_count": null,
   "metadata": {
    "ExecuteTime": {
     "end_time": "2020-08-10T09:56:15.573925Z",
     "start_time": "2020-08-10T09:56:15.442265Z"
    }
   },
   "outputs": [],
   "source": [
    "!cat reference_date.txt    #auto selected optimal reference date."
   ]
  },
  {
   "cell_type": "code",
   "execution_count": null,
   "metadata": {
    "ExecuteTime": {
     "end_time": "2020-08-10T09:56:16.119871Z",
     "start_time": "2020-08-10T09:56:15.577534Z"
    },
    "scrolled": true
   },
   "outputs": [],
   "source": [
    "## plot the RMS value\n",
    "from mintpy.timeseries_rms import plot_rms_bar\n",
    "txtContent = np.loadtxt('./rms_timeseriesResidual_ramp.txt', dtype=bytes).astype(str)\n",
    "rms_list = [float(i) for i in txtContent[:, 1]]\n",
    "date_list = [i for i in txtContent[:, 0]]\n",
    "fig, ax = plt.subplots(figsize=[10, 4])\n",
    "ax = plot_rms_bar(ax, date_list, rms_list)\n",
    "plt.show()"
   ]
  },
  {
   "cell_type": "code",
   "execution_count": null,
   "metadata": {
    "ExecuteTime": {
     "end_time": "2020-08-10T09:56:21.840662Z",
     "start_time": "2020-08-10T09:56:16.122074Z"
    },
    "scrolled": true
   },
   "outputs": [],
   "source": [
    "!smallbaselineApp.py $prj_file --dostep reference_date"
   ]
  },
  {
   "cell_type": "markdown",
   "metadata": {},
   "source": [
    "## velocity"
   ]
  },
  {
   "cell_type": "code",
   "execution_count": null,
   "metadata": {
    "ExecuteTime": {
     "end_time": "2020-08-10T09:56:25.752327Z",
     "start_time": "2020-08-10T09:56:21.843857Z"
    },
    "scrolled": true
   },
   "outputs": [],
   "source": [
    "!smallbaselineApp.py $prj_file --dostep velocity"
   ]
  },
  {
   "cell_type": "code",
   "execution_count": null,
   "metadata": {
    "ExecuteTime": {
     "end_time": "2020-08-10T09:56:26.222523Z",
     "start_time": "2020-08-10T09:56:25.755981Z"
    },
    "scrolled": true
   },
   "outputs": [],
   "source": [
    "!info.py velocity.h5 --compact"
   ]
  },
  {
   "cell_type": "code",
   "execution_count": null,
   "metadata": {
    "ExecuteTime": {
     "end_time": "2020-08-10T09:56:26.916252Z",
     "start_time": "2020-08-10T09:56:26.226965Z"
    },
    "scrolled": false
   },
   "outputs": [],
   "source": [
    "view.main('velocity.h5 --notick --noaxis --noverbose'.split())"
   ]
  },
  {
   "cell_type": "markdown",
   "metadata": {},
   "source": [
    "## geocode"
   ]
  },
  {
   "cell_type": "code",
   "execution_count": null,
   "metadata": {
    "ExecuteTime": {
     "end_time": "2020-08-10T09:56:43.897137Z",
     "start_time": "2020-08-10T09:56:26.917829Z"
    },
    "scrolled": true
   },
   "outputs": [],
   "source": [
    "!smallbaselineApp.py $prj_file --dostep geocode"
   ]
  },
  {
   "cell_type": "code",
   "execution_count": null,
   "metadata": {
    "ExecuteTime": {
     "end_time": "2020-08-10T09:56:46.148464Z",
     "start_time": "2020-08-10T09:56:43.900856Z"
    },
    "scrolled": true
   },
   "outputs": [],
   "source": [
    "view.main('./geo/geo_velocity.h5 velocity --dem ./geo/geo_geometryRadar.h5 --figsize 12 12 --notick --noaxis'.split())"
   ]
  },
  {
   "cell_type": "markdown",
   "metadata": {
    "ExecuteTime": {
     "end_time": "2020-03-27T03:29:41.434092Z",
     "start_time": "2020-03-27T03:29:41.430786Z"
    }
   },
   "source": [
    "## google_earth"
   ]
  },
  {
   "cell_type": "code",
   "execution_count": null,
   "metadata": {
    "ExecuteTime": {
     "end_time": "2020-08-10T09:56:46.152341Z",
     "start_time": "2020-08-10T09:56:46.150028Z"
    },
    "scrolled": true
   },
   "outputs": [],
   "source": [
    "# !smallbaselineApp.py $prj_file --dostep google_earth"
   ]
  },
  {
   "cell_type": "markdown",
   "metadata": {},
   "source": [
    "## save kmz"
   ]
  },
  {
   "cell_type": "code",
   "execution_count": null,
   "metadata": {
    "ExecuteTime": {
     "end_time": "2020-08-10T09:56:46.164178Z",
     "start_time": "2020-08-10T09:56:46.153714Z"
    },
    "code_folding": []
   },
   "outputs": [],
   "source": [
    "# !save_kmz.py -h"
   ]
  },
  {
   "cell_type": "code",
   "execution_count": null,
   "metadata": {
    "ExecuteTime": {
     "end_time": "2020-08-10T09:56:58.113635Z",
     "start_time": "2020-08-10T09:56:46.167876Z"
    }
   },
   "outputs": [],
   "source": [
    "!save_kmz.py ./geo/geo_velocity.h5 -u mm  --noreference -v -60 60 -c jet -o ./geo/geo_velocity_mm"
   ]
  },
  {
   "cell_type": "code",
   "execution_count": null,
   "metadata": {
    "ExecuteTime": {
     "end_time": "2020-08-10T09:56:58.123612Z",
     "start_time": "2020-08-10T09:56:58.117760Z"
    },
    "scrolled": true
   },
   "outputs": [],
   "source": [
    "# !save_kmz_timeseries.py -h"
   ]
  },
  {
   "cell_type": "code",
   "execution_count": null,
   "metadata": {
    "ExecuteTime": {
     "end_time": "2020-08-10T09:56:58.173238Z",
     "start_time": "2020-08-10T09:56:58.131719Z"
    },
    "scrolled": true
   },
   "outputs": [],
   "source": [
    "# !save_kmz_timeseries.py ./geo/geo_timeseries_tropHgt_ramp_demErr.h5 --steps 20 5 2"
   ]
  },
  {
   "cell_type": "markdown",
   "metadata": {},
   "source": [
    "## plot_smallbaselineApp"
   ]
  },
  {
   "cell_type": "code",
   "execution_count": null,
   "metadata": {
    "ExecuteTime": {
     "end_time": "2020-08-10T09:56:58.182949Z",
     "start_time": "2020-08-10T09:56:58.178038Z"
    },
    "code_folding": []
   },
   "outputs": [],
   "source": [
    "# !plot_smallbaselineApp.sh"
   ]
  },
  {
   "cell_type": "code",
   "execution_count": null,
   "metadata": {
    "ExecuteTime": {
     "end_time": "2020-07-31T03:00:15.945521Z",
     "start_time": "2020-07-31T03:00:15.611131Z"
    }
   },
   "outputs": [],
   "source": []
  }
 ],
 "metadata": {
  "kernelspec": {
   "display_name": "Python 3",
   "language": "python",
   "name": "python3"
  },
  "language_info": {
   "codemirror_mode": {
    "name": "ipython",
    "version": 3
   },
   "file_extension": ".py",
   "mimetype": "text/x-python",
   "name": "python",
   "nbconvert_exporter": "python",
   "pygments_lexer": "ipython3",
   "version": "3.8.2"
  },
  "notify_time": "0",
  "toc": {
   "base_numbering": 1,
   "nav_menu": {},
   "number_sections": true,
   "sideBar": true,
   "skip_h1_title": false,
   "title_cell": "Table of Contents",
   "title_sidebar": "Contents",
   "toc_cell": false,
   "toc_position": {
    "height": "calc(100% - 180px)",
    "left": "10px",
    "top": "150px",
    "width": "248.667px"
   },
   "toc_section_display": true,
   "toc_window_display": true
  },
  "varInspector": {
   "cols": {
    "lenName": 16,
    "lenType": 16,
    "lenVar": 40
   },
   "kernels_config": {
    "python": {
     "delete_cmd_postfix": "",
     "delete_cmd_prefix": "del ",
     "library": "var_list.py",
     "varRefreshCmd": "print(var_dic_list())"
    },
    "r": {
     "delete_cmd_postfix": ") ",
     "delete_cmd_prefix": "rm(",
     "library": "var_list.r",
     "varRefreshCmd": "cat(var_dic_list()) "
    }
   },
   "types_to_exclude": [
    "module",
    "function",
    "builtin_function_or_method",
    "instance",
    "_Feature"
   ],
   "window_display": false
  }
 },
 "nbformat": 4,
 "nbformat_minor": 4
}
