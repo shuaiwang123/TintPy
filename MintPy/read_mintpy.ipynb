{
 "cells": [
  {
   "cell_type": "markdown",
   "metadata": {},
   "source": [
    "# Read results processed by MintPy"
   ]
  },
  {
   "cell_type": "markdown",
   "metadata": {},
   "source": [
    "## functions"
   ]
  },
  {
   "cell_type": "code",
   "execution_count": 1,
   "metadata": {
    "ExecuteTime": {
     "end_time": "2021-03-04T05:25:12.934068Z",
     "start_time": "2021-03-04T05:25:12.827543Z"
    }
   },
   "outputs": [],
   "source": [
    "import os\n",
    "import h5py\n",
    "import random\n",
    "import numpy as np\n",
    "import matplotlib.pyplot as plt\n",
    "from xml.dom.minidom import parse\n",
    "import zipfile\n",
    "%matplotlib inline\n",
    "\n",
    "\n",
    "def read_h5(fname, label):\n",
    "    with h5py.File(fname, 'r') as f:\n",
    "        atr = dict(f.attrs)\n",
    "        data = np.asarray(f[(label)])\n",
    "    return data, atr\n",
    "\n",
    "\n",
    "def read_vel(vel_file, mask_file, ds_factor=1, out_vel_file=None):\n",
    "    vel, atr = read_h5(vel_file, 'velocity')\n",
    "\n",
    "    lon = float(atr['X_FIRST'])\n",
    "    lat = float(atr['Y_FIRST'])\n",
    "\n",
    "    lon_step = float(atr['X_STEP'])\n",
    "    lat_step = float(atr['Y_STEP'])\n",
    "\n",
    "    lon_tmp = (np.linspace(lon, lon + lon_step * vel.shape[1], vel.shape[1]))\n",
    "    lat_tmp = (np.linspace(lat, lat + lat_step * vel.shape[0], vel.shape[0]))\n",
    "    lons, lats = np.meshgrid(lon_tmp, lat_tmp)\n",
    "\n",
    "    mask, _ = (read_h5(mask_file, 'mask'))\n",
    "\n",
    "    vel = vel[::ds_factor, ::ds_factor]\n",
    "    mask = mask[::ds_factor, ::ds_factor]\n",
    "    lons = lons[::ds_factor, ::ds_factor]\n",
    "    lats = lats[::ds_factor, ::ds_factor]\n",
    "\n",
    "    lons = lons[mask].reshape((-1, 1))\n",
    "    lats = lats[mask].reshape((-1, 1))\n",
    "    vel = vel[mask].reshape((-1, 1))\n",
    "\n",
    "    num = np.arange(vel.shape[0]).reshape((-1, 1))\n",
    "\n",
    "    vel *= 1000\n",
    "\n",
    "    print('max velocity : ', np.max(vel))\n",
    "    print('min velocity : ', np.min(vel))\n",
    "    print('number of points : ', vel.shape[0])\n",
    "\n",
    "    out_data = np.hstack((num, lons, lats, vel))\n",
    "\n",
    "    if not out_vel_file is None:\n",
    "        print('writing data to {}'.format(out_vel_file))\n",
    "        np.savetxt(out_vel_file, out_data, fmt='%4f')\n",
    "        print('done.')\n",
    "\n",
    "\n",
    "def read_vel_ts(ts_file,\n",
    "                vel_file,\n",
    "                mask_file,\n",
    "                ds_factor=1,\n",
    "                out_vel_file=None,\n",
    "                out_ts_file=None):\n",
    "    mask, _ = read_h5(mask_file, 'mask')\n",
    "    mask = np.asarray(mask)\n",
    "\n",
    "    vel, _ = read_h5(vel_file, 'velocity')\n",
    "    vel = np.asarray(vel) * 1000\n",
    "\n",
    "    date, _ = read_h5(ts_file, 'date')\n",
    "    date = date.astype(np.int64)\n",
    "    ts, atr = read_h5(ts_file, 'timeseries')\n",
    "    ts = np.asarray(ts)\n",
    "    ts = ts.reshape((date.shape[0], vel.shape[0], vel.shape[1])) * 1000\n",
    "    ts = ts[:, ::ds_factor, ::ds_factor]\n",
    "    ts = ts.reshape((date.shape[0], -1, 1))\n",
    "\n",
    "    lon = float(atr['X_FIRST'])\n",
    "    lon_step = float(atr['X_STEP'])\n",
    "\n",
    "    lat = float(atr['Y_FIRST'])\n",
    "    lat_step = float(atr['Y_STEP'])\n",
    "\n",
    "    lon_tmp = (np.linspace(lon, lon + lon_step * vel.shape[1], vel.shape[1]))\n",
    "    lat_tmp = (np.linspace(lat, lat + lat_step * vel.shape[0], vel.shape[0]))\n",
    "\n",
    "    lons, lats = np.meshgrid(lon_tmp, lat_tmp)\n",
    "    \n",
    "    lons = lons[::ds_factor, ::ds_factor]\n",
    "    lats = lats[::ds_factor, ::ds_factor]\n",
    "    mask = mask[::ds_factor, ::ds_factor]\n",
    "    vel = vel[::ds_factor, ::ds_factor]\n",
    "\n",
    "    lons = lons.reshape((-1, 1))\n",
    "    lats = lats.reshape((-1, 1))\n",
    "    vels = vel.reshape((-1, 1))\n",
    "    mask = mask.reshape((-1, 1))\n",
    "\n",
    "    lons = lons[mask].reshape((-1, 1))\n",
    "    lats = lats[mask].reshape((-1, 1))\n",
    "    vels = vels[mask].reshape((-1, 1))\n",
    "    num = np.arange(lons.shape[0]).reshape((-1, 1))\n",
    "\n",
    "    print('number of points : ', lons.shape[0])\n",
    "    print('max velocity : ', np.max(vels))\n",
    "    print('min velocity : ', np.min(vels))\n",
    "    out_vel = np.hstack((num, lons, lats, vels))\n",
    "\n",
    "    out_ts1 = out_vel\n",
    "    for i in range(ts.shape[0]):\n",
    "        data = ts[i]\n",
    "        out_ts1 = np.hstack((out_ts1, data[mask].reshape((-1, 1))))\n",
    "\n",
    "    tmp = out_ts1[:, 4:]\n",
    "    tmp = tmp - tmp[:, 0].reshape((-1, 1))\n",
    "    tmp = np.hstack((out_vel, tmp))\n",
    "\n",
    "    out_ts1 = tmp\n",
    "    print('max cumulative displacement: ', np.max(out_ts1[:, -1]))\n",
    "    print('min cumulative displacement: ', np.min(out_ts1[:, -1]))\n",
    "\n",
    "    first_line = np.asarray([[-1, -1, -1, -1]])\n",
    "    first_line = np.hstack((first_line, date.reshape((1, -1))))\n",
    "    out_ts = np.vstack((first_line, out_ts1))\n",
    "    out_vel = out_ts1[0:, 0:4]\n",
    "\n",
    "    if not out_ts_file is None:\n",
    "        print('writing data to {}'.format(out_ts_file))\n",
    "        np.savetxt(out_ts_file, out_ts, fmt='%4f')\n",
    "        print('done.')\n",
    "\n",
    "    if not out_vel_file is None:\n",
    "        print('writing data to {}'.format(out_vel_file))\n",
    "        np.savetxt(out_vel_file, out_vel, fmt='%4f')\n",
    "        print('done.')\n",
    "\n",
    "    return out_ts, date\n",
    "\n",
    "\n",
    "def date2str(date):\n",
    "    date_str = [str(i) for i in date]\n",
    "    return date_str\n",
    "\n",
    "\n",
    "def plot_displacement(num_list,\n",
    "                      ts_data,\n",
    "                      date,\n",
    "                      aspect=0.2,\n",
    "                      figsize=(15, 7),\n",
    "                      y_lim=[-100, 100],\n",
    "                      fig_name=None):\n",
    "    fig, ax = plt.subplots(figsize=figsize)\n",
    "    ax.set_title('time series displacement', fontsize=40, pad=20)\n",
    "    ax.set_xlabel('date', fontsize=30, labelpad=10)\n",
    "    ax.set_ylabel('displacrment (mm)', fontsize=30, labelpad=10)\n",
    "\n",
    "    ax.set_ylim(y_lim[0], y_lim[1])\n",
    "    ax.set_aspect(aspect)\n",
    "    ax.minorticks_on()\n",
    "    ax.xaxis.grid(True, which='major')\n",
    "    ax.xaxis.set_tick_params(rotation=30, labelsize=15)\n",
    "    ax.yaxis.grid(True, which='major')\n",
    "    ax.yaxis.set_tick_params(rotation=0, labelsize=15)\n",
    "    ax.set_xmargin(0.02)\n",
    "\n",
    "    date = date2str(date)\n",
    "\n",
    "    for num in num_list:\n",
    "        disp = ts_data[num, 4:]\n",
    "        ax.plot(date, disp, label=str(num), marker='o')\n",
    "        ax.xaxis.set_ticks(date[::4])\n",
    "        ax.yaxis.set_ticks(list(range(y_lim[0], y_lim[1] + 10, 10)))\n",
    "    ax.legend(loc='best', fontsize=20, ncol=2)\n",
    "    fig.show()\n",
    "    if not fig_name is None:\n",
    "        fig.savefig(fig_name, dpi=200)\n",
    "\n",
    "\n",
    "def intersect(point, s_point, e_point):\n",
    "    # parallel and coincident with the ray，s_point coincides with s_point\n",
    "    if s_point[1] == e_point[1]:\n",
    "        return False\n",
    "    # line segment is above the ray\n",
    "    if s_point[1] > point[1] and e_point[1] > point[1]:\n",
    "        return False\n",
    "    # line segment under the ray\n",
    "    if s_point[1] < point[1] and e_point[1] < point[1]:\n",
    "        return False\n",
    "    # point coincides with s_point\n",
    "    if s_point[1] == point[1] and e_point[1] > point[1]:\n",
    "        return False\n",
    "    # point coincides with e_point\n",
    "    if e_point[1] == point[1] and s_point[1] > point[1]:\n",
    "        return False\n",
    "    # line segment is to the left of the ray\n",
    "    if s_point[0] < point[0] and e_point[0] < point[0]:\n",
    "        return False\n",
    "    # find the intersection\n",
    "    xseg = e_point[0] - (e_point[0] - s_point[0]) * (e_point[1] - point[1]) / (\n",
    "        e_point[1] - s_point[1])\n",
    "    # intersection is to the left of point\n",
    "    if xseg < point[0]:\n",
    "        return False\n",
    "    return True\n",
    "\n",
    "\n",
    "def inpolygon(point, polygon):\n",
    "    num = 0  # number of intersection\n",
    "    for i in range(len(polygon) - 1):\n",
    "        if intersect(point, polygon[i], polygon[i + 1]):\n",
    "            num += 1\n",
    "    return True if num % 2 == 1 else False\n",
    "\n",
    "\n",
    "def kml2polygon_dict(kml_file):\n",
    "    # unzip kmz to get kml\n",
    "    doc_kml = ''\n",
    "    if kml_file.endswith('.kmz'):\n",
    "        dir_name = os.path.dirname(kml_file)\n",
    "        with zipfile.ZipFile(kml_file, 'r') as f:\n",
    "            files = f.namelist()\n",
    "            f.extract(files[0], dir_name)\n",
    "        doc_kml = os.path.join(dir_name, 'doc.kml')\n",
    "        kml_file = doc_kml\n",
    "\n",
    "    domTree = parse(kml_file)\n",
    "    if os.path.isfile(doc_kml):\n",
    "        os.remove(doc_kml)\n",
    "    rootNode = domTree.documentElement\n",
    "    Placemarks = rootNode.getElementsByTagName('Placemark')\n",
    "\n",
    "    polygon_dict = {}\n",
    "    j = 0\n",
    "\n",
    "    for Placemark in Placemarks:\n",
    "        name = Placemark.getElementsByTagName('name')[0].childNodes[0].data\n",
    "        ploygon = Placemark.getElementsByTagName('Polygon')[0]\n",
    "        outerBoundaryIs = ploygon.getElementsByTagName('outerBoundaryIs')[0]\n",
    "        LinearRing = outerBoundaryIs.getElementsByTagName('LinearRing')[0]\n",
    "        coordinates = LinearRing.getElementsByTagName(\n",
    "            'coordinates')[0].childNodes[0].data\n",
    "        lon_lat = [i.split(',')[0:2] for i in coordinates.strip().split(' ')]\n",
    "        polygon_dict[name + '-' + str(j)] = np.asarray(lon_lat,\n",
    "                                                       dtype='float64')\n",
    "        j += 1\n",
    "    return polygon_dict\n",
    "\n",
    "\n",
    "def get_lon_lat(polygon):\n",
    "    lon_min = np.min(polygon[:, 0])\n",
    "    lon_max = np.max(polygon[:, 0])\n",
    "    lat_min = np.min(polygon[:, 1])\n",
    "    lat_max = np.max(polygon[:, 1])\n",
    "\n",
    "    return lon_min, lon_max, lat_min, lat_max\n",
    "\n",
    "\n",
    "def filter_data(orig_data, polygon, data_flag, number_flag='t'):\n",
    "    def filter_ts(orig_data, lonlat):\n",
    "        lon_min, lon_max, lat_min, lat_max = lonlat\n",
    "        lon_data = orig_data[1:, 1]\n",
    "        lat_data = orig_data[1:, 2]\n",
    "        lon_index = ((lon_data > lon_min) == (lon_data < lon_max))\n",
    "        lat_index = ((lat_data > lat_min) == (lat_data < lat_max))\n",
    "        index = (lon_index & lat_index)\n",
    "        first_row = orig_data[0, :]\n",
    "        left_row = orig_data[1:, :]\n",
    "        cutted_data = np.vstack((first_row, left_row[index, :]))\n",
    "\n",
    "        return cutted_data\n",
    "\n",
    "    def filter_vel(orig_data, lonlat):\n",
    "        lon_min, lon_max, lat_min, lat_max = lonlat\n",
    "        lon_data = orig_data[:, 1]\n",
    "        lat_data = orig_data[:, 2]\n",
    "        lon_index = ((lon_data > lon_min) == (lon_data < lon_max))\n",
    "        lat_index = ((lat_data > lat_min) == (lat_data < lat_max))\n",
    "        index = (lon_index & lat_index)\n",
    "        cutted_data = orig_data[index, :]\n",
    "\n",
    "        return cutted_data\n",
    "\n",
    "    lonlat = get_lon_lat(polygon)\n",
    "\n",
    "    if number_flag == 't':\n",
    "        if data_flag == 't':\n",
    "            return filter_ts(orig_data, lonlat)\n",
    "        else:\n",
    "            return filter_vel(orig_data, lonlat)\n",
    "    else:\n",
    "        if data_flag == 't':\n",
    "            number = np.arange(-1, orig_data.shape[0] - 1).reshape((-1, 1))\n",
    "            orig_data = np.hstack((number, orig_data))\n",
    "            return filter_ts(orig_data, lonlat)\n",
    "        else:\n",
    "            number = np.arange(0, orig_data.shape[0]).reshape((-1, 1))\n",
    "            orig_data = np.hstack((number, orig_data))\n",
    "            return filter_vel(orig_data, lonlat)\n",
    "\n",
    "\n",
    "def cut_vel_single(kml_file, vel_file, number_flag='t'):\n",
    "    out_vel_file = os.path.splitext(vel_file)[0] + '_cut.txt'\n",
    "    polygon_dict = kml2polygon_dict(kml_file)\n",
    "    print('loading...')\n",
    "    vel = np.loadtxt(vel_file)\n",
    "    for _, polygon in polygon_dict.items():\n",
    "        filter_vel = filter_data(vel, polygon, 'v', number_flag)\n",
    "        out_data = np.arange(vel.shape[1])\n",
    "        for line in filter_vel:\n",
    "            if inpolygon(line[1:3], polygon):\n",
    "                if number_flag == 't':\n",
    "                    out_data = np.vstack((out_data, line))\n",
    "                else:\n",
    "                    out_data = np.vstack((out_data, line[1:4]))\n",
    "        if out_data.size > vel.shape[1]:\n",
    "            np.savetxt(out_vel_file, out_data[1:, :], fmt='%4f')\n",
    "    print('all done, enjoy it.\\n')\n",
    "\n",
    "\n",
    "def cut_ts_single(kml_file, ts_file, number_flag='t'):\n",
    "    out_ts_file = os.path.splitext(ts_file)[0] + '_cut.txt'\n",
    "    polygon_dict = kml2polygon_dict(kml_file)\n",
    "    print('loading...')\n",
    "    data = np.loadtxt(ts_file)\n",
    "    for _, polygon in polygon_dict.items():\n",
    "        filter_ts = filter_data(data, polygon, 't', number_flag)\n",
    "        out_data = data[0, :]\n",
    "        for line in filter_ts[1:, :]:\n",
    "            if inpolygon(line[1:3], polygon):\n",
    "                if number_flag == 't':\n",
    "                    out_data = np.vstack((out_data, line))\n",
    "                else:\n",
    "                    out_data = np.vstack((out_data, line[1:]))\n",
    "        if out_data.size > filter_ts[1:, :].shape[1]:\n",
    "            np.savetxt(out_ts_file, out_data, fmt='%4f')\n",
    "    print('all done, enjoy it.\\n')\n",
    "\n",
    "\n",
    "def cut_vel_multi(kml_file, vel_file, number_flag='t'):\n",
    "    print('loading...')\n",
    "    vel = np.loadtxt(vel_file)\n",
    "    polygon_dict = kml2polygon_dict(kml_file)\n",
    "    num = len(polygon_dict)\n",
    "    i = 0\n",
    "    for name, polygon in polygon_dict.items():\n",
    "        i += 1\n",
    "        print(f'\\rProcessing: {i}/{num}', end=\" \", flush=True)\n",
    "        out_data = np.arange(vel.shape[1])\n",
    "        filter_vel = filter_data(vel, polygon, 'v', number_flag)\n",
    "        for line in filter_vel:\n",
    "            if inpolygon(line[1:3], polygon):\n",
    "                if number_flag == 't':\n",
    "                    out_data = np.vstack((out_data, line))\n",
    "                else:\n",
    "                    out_data = np.vstack((out_data, line[1:4]))\n",
    "        out_file = name + '-vel.txt'\n",
    "        if out_data.size > vel.shape[1]:\n",
    "            np.savetxt(out_file, out_data[1:, :], fmt='%4f')\n",
    "    print(f'\\rProcessed: {i}/{num}, enjoy it.', end=\" \", flush=True)\n",
    "    print('\\n')\n",
    "\n",
    "\n",
    "def cut_ts_multi(kml_file, ts_file, number_flag='t'):\n",
    "    print('loading...')\n",
    "    data = np.loadtxt(ts_file)\n",
    "    polygon_dict = kml2polygon_dict(kml_file)\n",
    "    num = len(polygon_dict)\n",
    "    i = 0\n",
    "    for name, polygon in polygon_dict.items():\n",
    "        i += 1\n",
    "        print(f'\\rProcessing: {i}/{num}', end=\"\", flush=True)\n",
    "        out_data = data[0, :]\n",
    "        filter_ts = filter_data(data, polygon, 't', number_flag)\n",
    "        for line in filter_ts[1:, :]:\n",
    "            if inpolygon(line[1:3], polygon):\n",
    "                if number_flag == 't':\n",
    "                    out_data = np.vstack((out_data, line))\n",
    "                else:\n",
    "                    out_data = np.vstack((out_data, line[1:]))\n",
    "        out_file = name + '-ts.txt'\n",
    "        if out_data.size > filter_ts[1:, :].shape[1]:\n",
    "            np.savetxt(out_file, out_data, fmt='%4f')\n",
    "    print(f'\\rProcessed: {i}/{num}, enjoy it.', end=\" \", flush=True)\n",
    "    print('\\n')"
   ]
  },
  {
   "cell_type": "markdown",
   "metadata": {},
   "source": [
    "## read velocity"
   ]
  },
  {
   "cell_type": "code",
   "execution_count": null,
   "metadata": {
    "ExecuteTime": {
     "end_time": "2020-09-06T12:39:15.036359Z",
     "start_time": "2020-09-06T12:39:14.996862Z"
    }
   },
   "outputs": [],
   "source": [
    "os.chdir('/media/ly/file/sc_prj/cut')\n",
    "\n",
    "vel_file = 'geo_velocity.h5'\n",
    "mask_file = 'geo_maskTempCoh.h5'\n",
    "\n",
    "read_vel(vel_file, mask_file, ds_factor=3, out_vel_file='vel.txt')"
   ]
  },
  {
   "cell_type": "markdown",
   "metadata": {},
   "source": [
    "## read time-series and velocity"
   ]
  },
  {
   "cell_type": "code",
   "execution_count": null,
   "metadata": {
    "ExecuteTime": {
     "end_time": "2021-03-04T05:25:30.870830Z",
     "start_time": "2021-03-04T05:25:19.234051Z"
    },
    "scrolled": true
   },
   "outputs": [],
   "source": [
    "os.chdir('/media/ly/3TB/sc_prj_new/asc2_meks_sbas/1/geo')\n",
    "\n",
    "ts_file = 'geo_timeseries_tropHgt_ramp_demErr.h5'\n",
    "vel_file = 'geo_velocity.h5'\n",
    "mask_file = 'geo_maskTempCoh.h5'\n",
    "\n",
    "out_ts, date = read_vel_ts(ts_file, vel_file, mask_file, ds_factor=3, out_vel_file='vel.txt', out_ts_file='ts.txt')"
   ]
  },
  {
   "cell_type": "code",
   "execution_count": null,
   "metadata": {
    "ExecuteTime": {
     "end_time": "2021-03-04T05:26:43.925113Z",
     "start_time": "2021-03-04T05:26:10.417174Z"
    },
    "scrolled": true
   },
   "outputs": [],
   "source": [
    "!python3 make_kmz_ts.py ts.txt ts.kmz"
   ]
  },
  {
   "cell_type": "code",
   "execution_count": null,
   "metadata": {
    "ExecuteTime": {
     "end_time": "2020-08-18T07:50:36.925463Z",
     "start_time": "2020-08-18T07:50:28.121263Z"
    },
    "scrolled": true
   },
   "outputs": [],
   "source": [
    "!python3 make_kmz_vel.py vel.txt vel.kmz"
   ]
  },
  {
   "cell_type": "markdown",
   "metadata": {},
   "source": [
    "## cut velocity"
   ]
  },
  {
   "cell_type": "markdown",
   "metadata": {},
   "source": [
    "### single"
   ]
  },
  {
   "cell_type": "code",
   "execution_count": null,
   "metadata": {
    "ExecuteTime": {
     "end_time": "2020-09-06T12:34:48.458118Z",
     "start_time": "2020-09-06T12:34:45.468479Z"
    }
   },
   "outputs": [],
   "source": [
    "from multiprocessing import Process\n",
    "if __name__ == \"__main__\":\n",
    "    p = Process(target=cut_vel_single,args=('cut.kmz', 'vel.txt', 't'))\n",
    "    p.start()\n",
    "    p.join()"
   ]
  },
  {
   "cell_type": "code",
   "execution_count": null,
   "metadata": {
    "ExecuteTime": {
     "end_time": "2020-09-06T12:34:52.137562Z",
     "start_time": "2020-09-06T12:34:50.748782Z"
    }
   },
   "outputs": [],
   "source": [
    "!python3 make_kmz_vel.py vel_cut.txt vel_cut -s 0.6"
   ]
  },
  {
   "cell_type": "markdown",
   "metadata": {},
   "source": [
    "### multiple"
   ]
  },
  {
   "cell_type": "code",
   "execution_count": null,
   "metadata": {
    "ExecuteTime": {
     "end_time": "2020-09-06T12:35:11.945614Z",
     "start_time": "2020-09-06T12:35:03.893644Z"
    },
    "scrolled": false
   },
   "outputs": [],
   "source": [
    "from multiprocessing import Process\n",
    "if __name__ == \"__main__\":\n",
    "    p = Process(target=cut_vel_multi,args=('cut.kmz', 'vel.txt', 't'))\n",
    "    p.start()\n",
    "    p.join()"
   ]
  },
  {
   "cell_type": "code",
   "execution_count": null,
   "metadata": {
    "ExecuteTime": {
     "end_time": "2020-09-06T12:35:17.870769Z",
     "start_time": "2020-09-06T12:35:13.244582Z"
    }
   },
   "outputs": [],
   "source": [
    "import glob\n",
    "files = glob.glob('Untitled Polygon-*-vel.txt')\n",
    "for file in files:\n",
    "    print(f'\\rProcessing: {files.index(file) + 1}/{len(files)}', end=\" \", flush=True)\n",
    "    cmd_str = f\"python3 make_kmz_vel.py '{file}' '{file[:-4]}' -s 0.6\"\n",
    "    os.system(cmd_str)\n",
    "print(f'\\rProcessed: {len(files)}/{len(files)}', end=\" \", flush=True)"
   ]
  },
  {
   "cell_type": "markdown",
   "metadata": {},
   "source": [
    "## cut time-series"
   ]
  },
  {
   "cell_type": "markdown",
   "metadata": {},
   "source": [
    "### single"
   ]
  },
  {
   "cell_type": "code",
   "execution_count": null,
   "metadata": {
    "ExecuteTime": {
     "end_time": "2020-09-06T12:36:13.861391Z",
     "start_time": "2020-09-06T12:36:02.148505Z"
    }
   },
   "outputs": [],
   "source": [
    "from multiprocessing import Process\n",
    "if __name__ == \"__main__\":\n",
    "    p = Process(target=cut_ts_single,args=('cut.kmz', 'ts.txt', 't'))\n",
    "    p.start()\n",
    "    p.join()"
   ]
  },
  {
   "cell_type": "code",
   "execution_count": null,
   "metadata": {
    "ExecuteTime": {
     "end_time": "2020-09-06T12:36:52.825130Z",
     "start_time": "2020-09-06T12:36:50.454660Z"
    }
   },
   "outputs": [],
   "source": [
    "!python3 make_kmz_ts.py ts_cut.txt ts_cut -s 0.6"
   ]
  },
  {
   "cell_type": "markdown",
   "metadata": {},
   "source": [
    "### multiple"
   ]
  },
  {
   "cell_type": "code",
   "execution_count": null,
   "metadata": {
    "ExecuteTime": {
     "end_time": "2021-03-04T05:31:28.325024Z",
     "start_time": "2021-03-04T05:29:10.408390Z"
    },
    "scrolled": true
   },
   "outputs": [],
   "source": [
    "from multiprocessing import Process\n",
    "if __name__ == \"__main__\":\n",
    "    p = Process(target=cut_ts_multi,args=('cut.kmz', 'ts.txt', 't'))\n",
    "    p.start()\n",
    "    p.join()"
   ]
  },
  {
   "cell_type": "code",
   "execution_count": null,
   "metadata": {
    "ExecuteTime": {
     "end_time": "2020-09-06T12:37:58.953760Z",
     "start_time": "2020-09-06T12:37:51.861747Z"
    }
   },
   "outputs": [],
   "source": [
    "import glob\n",
    "files = glob.glob('Untitled Polygon-*-ts.txt')\n",
    "for file in files:\n",
    "    print(f'\\rProcessing: {files.index(file) + 1}/{len(files)}', end=\" \", flush=True)\n",
    "    cmd_str = f\"python3 make_kmz_ts.py '{file}' '{file[:-4]}' -s 0.6\"\n",
    "    os.system(cmd_str)\n",
    "print(f'\\rProcessed: {len(files)}/{len(files)}', end=\" \", flush=True)"
   ]
  },
  {
   "cell_type": "markdown",
   "metadata": {},
   "source": [
    "## plot time-series displacement"
   ]
  },
  {
   "cell_type": "code",
   "execution_count": null,
   "metadata": {
    "ExecuteTime": {
     "end_time": "2020-09-04T15:15:00.853132Z",
     "start_time": "2020-09-04T15:14:59.979286Z"
    },
    "scrolled": false
   },
   "outputs": [],
   "source": [
    "num_list = [1000]\n",
    "plot_displacement(num_list, out_ts, date, aspect=0.4, figsize=(30, 15), y_lim=[-100, 50], fig_name=None)"
   ]
  },
  {
   "cell_type": "code",
   "execution_count": null,
   "metadata": {},
   "outputs": [],
   "source": []
  }
 ],
 "metadata": {
  "kernelspec": {
   "display_name": "Python 3",
   "language": "python",
   "name": "python3"
  },
  "language_info": {
   "codemirror_mode": {
    "name": "ipython",
    "version": 3
   },
   "file_extension": ".py",
   "mimetype": "text/x-python",
   "name": "python",
   "nbconvert_exporter": "python",
   "pygments_lexer": "ipython3",
   "version": "3.7.7-final"
  },
  "toc": {
   "base_numbering": 1,
   "nav_menu": {},
   "number_sections": true,
   "sideBar": true,
   "skip_h1_title": false,
   "title_cell": "Table of Contents",
   "title_sidebar": "Contents",
   "toc_cell": false,
   "toc_position": {
    "height": "calc(100% - 180px)",
    "left": "10px",
    "top": "150px",
    "width": "373.797px"
   },
   "toc_section_display": true,
   "toc_window_display": true
  },
  "varInspector": {
   "cols": {
    "lenName": 16,
    "lenType": 16,
    "lenVar": 40
   },
   "kernels_config": {
    "python": {
     "delete_cmd_postfix": "",
     "delete_cmd_prefix": "del ",
     "library": "var_list.py",
     "varRefreshCmd": "print(var_dic_list())"
    },
    "r": {
     "delete_cmd_postfix": ") ",
     "delete_cmd_prefix": "rm(",
     "library": "var_list.r",
     "varRefreshCmd": "cat(var_dic_list()) "
    }
   },
   "types_to_exclude": [
    "module",
    "function",
    "builtin_function_or_method",
    "instance",
    "_Feature"
   ],
   "window_display": false
  }
 },
 "nbformat": 4,
 "nbformat_minor": 2
}