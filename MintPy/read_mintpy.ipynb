{
 "cells": [
  {
   "cell_type": "markdown",
   "metadata": {},
   "source": [
    "# Read results processed by MintPy"
   ]
  },
  {
   "cell_type": "markdown",
   "metadata": {},
   "source": [
    "## all functions"
   ]
  },
  {
   "cell_type": "code",
   "execution_count": null,
   "metadata": {
    "ExecuteTime": {
     "end_time": "2020-09-06T12:34:38.928801Z",
     "start_time": "2020-09-06T12:34:38.817620Z"
    }
   },
   "outputs": [],
   "source": [
    "import os\n",
    "import h5py\n",
    "import random\n",
    "import numpy as np\n",
    "import matplotlib.pyplot as plt\n",
    "from xml.dom.minidom import parse\n",
    "import zipfile\n",
    "%matplotlib inline\n",
    "\n",
    "\n",
    "def read_h5(fname, label):\n",
    "    with h5py.File(fname, 'r') as f:\n",
    "        atr = dict(f.attrs)\n",
    "        data = np.asarray(f[(label)])\n",
    "    return data, atr\n",
    "\n",
    "\n",
    "def random_downsample_vel(data, min_vel, max_vel, rate, out_ds_file=None):\n",
    "    if min_vel > max_vel:\n",
    "        tmp = min_vel\n",
    "        min_vel = max_vel\n",
    "        max_vel = tmp\n",
    "\n",
    "    less_min = data[:, 3] <= min_vel\n",
    "    data_less_min = data[less_min, :]\n",
    "    print(f\"number of velocity <= {min_vel} : {data_less_min.shape[0]}\")\n",
    "\n",
    "    more_max = data[:, 3] >= max_vel\n",
    "    data_more_max = data[more_max, :]\n",
    "    print(f\"number of velocity >= {max_vel} : {data_more_max.shape[0]}\")\n",
    "\n",
    "    min_max = (less_min == more_max)\n",
    "    data_min_max = data[min_max, :]\n",
    "    print(\n",
    "        f\"number of velocity in ({min_vel}, {max_vel}) : {data_min_max.shape[0]}\"\n",
    "    )\n",
    "\n",
    "    index = random.sample(range(data_min_max.shape[0]),\n",
    "                          int(data_min_max.shape[0] * rate))\n",
    "    sampled_data = data_min_max[index, :]\n",
    "\n",
    "    out_data = np.vstack((data_less_min, data_more_max, sampled_data))\n",
    "    print('max velocity : ', np.max(out_data[:, 3]))\n",
    "    print('min velocity : ', np.min(out_data[:, 3]))\n",
    "    print('number of points : ', out_data.shape[0])\n",
    "    if not out_ds_file is None:\n",
    "        print('writing data to {}'.format(out_ds_file))\n",
    "        np.savetxt(out_ds_file, out_data, fmt='%4f')\n",
    "        print('done.')\n",
    "    return out_data\n",
    "\n",
    "\n",
    "def random_downsample_disp(data, min_disp, max_disp, rate, out_ds_file=None):\n",
    "    if min_disp > max_disp:\n",
    "        tmp = min_disp\n",
    "        min_disp = max_disp\n",
    "        max_disp = tmp\n",
    "\n",
    "    less_min = data[:, -1] <= min_disp\n",
    "    data_less_min = data[less_min, :]\n",
    "    print(\n",
    "        f\"number of cumulative displacement <= {min_disp} : {data_less_min.shape[0]}\"\n",
    "    )\n",
    "\n",
    "    more_max = data[:, -1] >= max_disp\n",
    "    data_more_max = data[more_max, :]\n",
    "    print(\n",
    "        f\"number of cumulative displacement >= {max_disp} : {data_more_max.shape[0]}\"\n",
    "    )\n",
    "\n",
    "    min_max = (less_min == more_max)\n",
    "    data_min_max = data[min_max, :]\n",
    "    print(\n",
    "        f\"number of cumulative displacement in ({min_disp}, {max_disp}) : {data_min_max.shape[0]}\"\n",
    "    )\n",
    "\n",
    "    index = random.sample(range(data_min_max.shape[0]),\n",
    "                          int(data_min_max.shape[0] * rate))\n",
    "    sampled_data = data_min_max[index, :]\n",
    "\n",
    "    out_data = np.vstack((data_less_min, data_more_max, sampled_data))\n",
    "    print('max cumulative displacement : ', np.max(out_data[:, -1]))\n",
    "    print('min cumulative displacement : ', np.min(out_data[:, -1]))\n",
    "    print('number of points : ', out_data.shape[0])\n",
    "    if not out_ds_file is None:\n",
    "        print('writing data to {}'.format(out_ds_file))\n",
    "        np.savetxt(out_ds_file, out_data, fmt='%4f')\n",
    "        print('done.')\n",
    "    return out_data\n",
    "\n",
    "\n",
    "def read_vel(vel_file, mask_file, out_vel_file=None):\n",
    "    vel, atr = read_h5(vel_file, 'velocity')\n",
    "\n",
    "    lon = float(atr['X_FIRST'])\n",
    "    lat = float(atr['Y_FIRST'])\n",
    "\n",
    "    lon_step = float(atr['X_STEP'])\n",
    "    lat_step = float(atr['Y_STEP'])\n",
    "\n",
    "    lon_tmp = np.linspace(lon, lon + lon_step * vel.shape[1], vel.shape[1])\n",
    "    lat_tmp = np.linspace(lat, lat + lat_step * vel.shape[0], vel.shape[0])\n",
    "    lons, lats = np.meshgrid(lon_tmp, lat_tmp)\n",
    "\n",
    "    mask, _ = read_h5(mask_file, 'mask')\n",
    "\n",
    "    lons = lons[mask].reshape((-1, 1))\n",
    "    lats = lats[mask].reshape((-1, 1))\n",
    "    vel = vel[mask].reshape((-1, 1))\n",
    "\n",
    "    num = np.arange(vel.shape[0]).reshape((-1, 1))\n",
    "\n",
    "    vel *= 1000\n",
    "\n",
    "    print('max velocity : ', np.max(vel))\n",
    "    print('min velocity : ', np.min(vel))\n",
    "    print('number of points : ', vel.shape[0])\n",
    "\n",
    "    out_data = np.hstack((num, lons, lats, vel))\n",
    "    if not out_vel_file is None:\n",
    "        print('writing data to {}'.format(out_vel_file))\n",
    "        np.savetxt(out_vel_file, out_data, fmt='%4f')\n",
    "        print('done.')\n",
    "    return out_data\n",
    "\n",
    "\n",
    "def read_vel_ts(ts_file,\n",
    "                vel_file,\n",
    "                mask_file,\n",
    "                out_vel_file=None,\n",
    "                out_ts_file=None):\n",
    "    mask, _ = read_h5(mask_file, 'mask')\n",
    "    mask = np.asarray(mask)\n",
    "\n",
    "    vel, _ = read_h5(vel_file, 'velocity')\n",
    "    vel = np.asarray(vel) * 1000\n",
    "\n",
    "    date, _ = read_h5(ts_file, 'date')\n",
    "    date = date.astype(np.int64)\n",
    "    ts, atr = read_h5(ts_file, 'timeseries')\n",
    "    ts = np.asarray(ts)\n",
    "    ts = ts.reshape((date.shape[0], -1, 1)) * 1000\n",
    "\n",
    "    lon = float(atr['X_FIRST'])\n",
    "    lon_step = float(atr['X_STEP'])\n",
    "\n",
    "    lat = float(atr['Y_FIRST'])\n",
    "    lat_step = float(atr['Y_STEP'])\n",
    "\n",
    "    lon_tmp = np.linspace(lon, lon + lon_step * vel.shape[1], vel.shape[1])\n",
    "    lat_tmp = np.linspace(lat, lat + lat_step * vel.shape[0], vel.shape[0])\n",
    "\n",
    "    lons, lats = np.meshgrid(lon_tmp, lat_tmp)\n",
    "\n",
    "    lons = lons.reshape((-1, 1))\n",
    "    lats = lats.reshape((-1, 1))\n",
    "    vels = vel.reshape((-1, 1))\n",
    "    mask = mask.reshape((-1, 1))\n",
    "\n",
    "    lons = lons[mask].reshape((-1, 1))\n",
    "    lats = lats[mask].reshape((-1, 1))\n",
    "    vels = vels[mask].reshape((-1, 1))\n",
    "    num = np.arange(lons.shape[0]).reshape((-1, 1))\n",
    "\n",
    "    print('number of points : ', lons.shape[0])\n",
    "    print('max velocity : ', np.max(vels))\n",
    "    print('min velocity : ', np.min(vels))\n",
    "    out_vel = np.hstack((num, lons, lats, vels))\n",
    "    if not out_vel_file is None:\n",
    "        print('writing data to {}'.format(out_vel_file))\n",
    "        np.savetxt(out_vel_file, out_vel, fmt='%4f')\n",
    "        print('done.')\n",
    "\n",
    "    out_ts = out_vel\n",
    "    for i in range(ts.shape[0]):\n",
    "        data = ts[i]\n",
    "        out_ts = np.hstack((out_ts, data[mask].reshape((-1, 1))))\n",
    "\n",
    "    tmp = out_ts[:, 4:]\n",
    "    tmp = tmp - tmp[:, 0].reshape((-1, 1))\n",
    "    tmp = np.hstack((out_vel, tmp))\n",
    "\n",
    "    out_ts = tmp\n",
    "    print('max cumulative displacement: ', np.max(out_ts[:, -1]))\n",
    "    print('min cumulative displacement: ', np.min(out_ts[:, -1]))\n",
    "    if not out_ts_file is None:\n",
    "        print('writing data to {}'.format(out_ts_file))\n",
    "        np.savetxt(out_ts_file, out_ts, fmt='%4f')\n",
    "        print('done.')\n",
    "\n",
    "    return out_ts, date\n",
    "\n",
    "\n",
    "def prep_data_for_kmz(ts_data, date, out_vel_file=None, out_ts_file=None):\n",
    "    first_line = np.asarray([[-1, -1, -1, -1]])\n",
    "    first_line = np.hstack((first_line, date.reshape((1, -1))))\n",
    "    out_ts = np.vstack((first_line, ts_data))\n",
    "    out_vel = ts_data[0:, 0:4]\n",
    "    if not out_vel_file is None:\n",
    "        print('writing data to {}'.format(out_ts_file))\n",
    "        np.savetxt(out_ts_file, out_ts, fmt='%4f')\n",
    "        print('done.')\n",
    "    if not out_ts_file is None:\n",
    "        print('writing data to {}'.format(out_vel_file))\n",
    "        np.savetxt(out_vel_file, out_vel, fmt='%4f')\n",
    "        print('done.')\n",
    "\n",
    "\n",
    "def date2str(date):\n",
    "    date_str = [str(i) for i in date]\n",
    "    return date_str\n",
    "\n",
    "\n",
    "def plot_displacement(num_list,\n",
    "                      ts_data,\n",
    "                      date,\n",
    "                      aspect=0.2,\n",
    "                      figsize=(15, 7),\n",
    "                      y_lim=[-100, 100],\n",
    "                      fig_name=None):\n",
    "    fig, ax = plt.subplots(figsize=figsize)\n",
    "    ax.set_title('time series displacement', fontsize=40, pad=20)\n",
    "    ax.set_xlabel('date', fontsize=30, labelpad=10)\n",
    "    ax.set_ylabel('displacrment (mm)', fontsize=30, labelpad=10)\n",
    "\n",
    "    ax.set_ylim(y_lim[0], y_lim[1])\n",
    "    ax.set_aspect(aspect)\n",
    "    ax.minorticks_on()\n",
    "    ax.xaxis.grid(True, which='major')\n",
    "    ax.xaxis.set_tick_params(rotation=30, labelsize=15)\n",
    "    ax.yaxis.grid(True, which='major')\n",
    "    ax.yaxis.set_tick_params(rotation=0, labelsize=15)\n",
    "    ax.set_xmargin(0.02)\n",
    "\n",
    "    date = date2str(date)\n",
    "\n",
    "    for num in num_list:\n",
    "        disp = ts_data[num, 4:]\n",
    "        ax.plot(date, disp, label=str(num), marker='o')\n",
    "        ax.xaxis.set_ticks(date[::4])\n",
    "        ax.yaxis.set_ticks(list(range(y_lim[0], y_lim[1] + 10, 10)))\n",
    "    ax.legend(loc='best', fontsize=20, ncol=2)\n",
    "    fig.show()\n",
    "    if not fig_name is None:\n",
    "        fig.savefig(fig_name, dpi=200)\n",
    "\n",
    "\n",
    "def intersect(point, s_point, e_point):\n",
    "    if s_point[1] == e_point[\n",
    "            1]:  # parallel and coincident with the ray，s_point coincides with s_point\n",
    "        return False\n",
    "    if s_point[1] > point[1] and e_point[1] > point[\n",
    "            1]:  # line segment is above the ray\n",
    "        return False\n",
    "    if s_point[1] < point[1] and e_point[1] < point[\n",
    "            1]:  # line segment under the ray\n",
    "        return False\n",
    "    if s_point[1] == point[\n",
    "            1] and e_point[1] > point[1]:  # point coincides with s_point\n",
    "        return False\n",
    "    if e_point[1] == point[\n",
    "            1] and s_point[1] > point[1]:  # point coincides with e_point\n",
    "        return False\n",
    "    # line segment is to the left of the ray\n",
    "    if s_point[0] < point[0] and e_point[0] < point[0]:\n",
    "        return False\n",
    "\n",
    "    xseg = e_point[0]-(e_point[0]-s_point[0])*(e_point[1]-point[1]) / \\\n",
    "        (e_point[1]-s_point[1])  # find the intersection\n",
    "    if xseg < point[0]:  # intersection is to the left of point\n",
    "        return False\n",
    "    return True\n",
    "\n",
    "\n",
    "def inpolygon(point, polygon):\n",
    "    num = 0  # number of intersection\n",
    "    for i in range(len(polygon) - 1):\n",
    "        if intersect(point, polygon[i], polygon[i + 1]):\n",
    "            num += 1\n",
    "    return True if num % 2 == 1 else False\n",
    "\n",
    "\n",
    "# ------------------------------ old functions ------------------------------\n",
    "# def kml2polygon(kml_file, polygon_file):\n",
    "#     cmd_str = f\"gmt kml2gmt {kml_file} | awk 'NR>1' > {polygon_file}\"\n",
    "#     print(cmd_str)\n",
    "#     os.system(cmd_str)\n",
    "#     print(\"done.\")\n",
    "\n",
    "# def cut_vel(polygon_file, vel_file, out_vel_file):\n",
    "#     polygon = np.loadtxt(polygon_file)\n",
    "#     vel = np.loadtxt(vel_file)\n",
    "#     out_data = np.arange(vel.shape[1])\n",
    "#     for line in vel:\n",
    "#         if inpolygon(line[1:3], polygon):\n",
    "#             out_data = np.vstack((out_data, line))\n",
    "#     np.savetxt(out_vel_file, out_data[1:, :], fmt='%4f')\n",
    "#     print('done.')\n",
    "\n",
    "# def cut_ts(polygon_file, ts_file, out_ts_file):\n",
    "#     polygon = np.loadtxt(polygon_file)\n",
    "#     data = np.loadtxt(ts_file)\n",
    "#     ts = data[1:, :]\n",
    "#     out_data = data[0, :]\n",
    "#     for line in ts:\n",
    "#         if inpolygon(line[1:3], polygon):\n",
    "#             out_data = np.vstack((out_data, line))\n",
    "#     np.savetxt(out_ts_file, out_data, fmt='%4f')\n",
    "#     print('done.')\n",
    "# ------------------------------ old functions ------------------------------\n",
    "\n",
    "\n",
    "def kml2polygon(kml_file):\n",
    "    # unzip kmz to get kml\n",
    "    if kml_file.endswith('.kmz'):\n",
    "        dir_name = os.path.dirname(kml_file)\n",
    "        with zipfile.ZipFile(kml_file, 'r') as f:\n",
    "            files = f.namelist()\n",
    "            f.extract(files[0], dir_name)\n",
    "        kml_file = os.path.join(dir_name, 'doc.kml')\n",
    "\n",
    "    domTree = parse(kml_file)\n",
    "    rootNode = domTree.documentElement\n",
    "    Placemarks = rootNode.getElementsByTagName('Placemark')\n",
    "\n",
    "    polygon_dict = {}\n",
    "    j = 0\n",
    "\n",
    "    for Placemark in Placemarks:\n",
    "        name = Placemark.getElementsByTagName('name')[0].childNodes[0].data\n",
    "        ploygon = Placemark.getElementsByTagName('Polygon')[0]\n",
    "        outerBoundaryIs = ploygon.getElementsByTagName('outerBoundaryIs')[0]\n",
    "        LinearRing = outerBoundaryIs.getElementsByTagName('LinearRing')[0]\n",
    "        coordinates = LinearRing.getElementsByTagName(\n",
    "            'coordinates')[0].childNodes[0].data\n",
    "        lon_lat = [i.split(',')[0:2] for i in coordinates.strip().split(' ')]\n",
    "        polygon_dict[name + '-' + str(j)] = np.asarray(lon_lat,\n",
    "                                                       dtype='float64')\n",
    "        j += 1\n",
    "    return polygon_dict\n",
    "\n",
    "\n",
    "def cut_vel_single(kml_file, vel_file, out_vel_file):\n",
    "    polygon_dict = kml2polygon(kml_file)\n",
    "    vel = np.loadtxt(vel_file)\n",
    "    for _, polygon in polygon_dict.items():\n",
    "        out_data = np.arange(vel.shape[1])\n",
    "        for line in vel:\n",
    "            if inpolygon(line[1:3], polygon):\n",
    "                out_data = np.vstack((out_data, line))\n",
    "        if out_data.size > vel.shape[1]:\n",
    "            np.savetxt(out_vel_file, out_data[1:, :], fmt='%4f')\n",
    "    print('done.')\n",
    "\n",
    "    \n",
    "def cut_ts_single(kml_file, ts_file, out_ts_file):\n",
    "    polygon_dict = kml2polygon(kml_file)\n",
    "    data = np.loadtxt(ts_file)\n",
    "    ts = data[1:, :]\n",
    "    for _, polygon in polygon_dict.items():\n",
    "        out_data = data[0, :]\n",
    "        for line in ts:\n",
    "            if inpolygon(line[1:3], polygon):\n",
    "                out_data = np.vstack((out_data, line))\n",
    "        if out_data.size > ts.shape[1]:\n",
    "            np.savetxt(out_ts_file, out_data, fmt='%4f')\n",
    "    print('done.')\n",
    "\n",
    "\n",
    "\n",
    "def cut_vel_multi(kml_file, vel_file):\n",
    "    vel = np.loadtxt(vel_file)\n",
    "    polygon_dict = kml2polygon(kml_file)\n",
    "    num = len(polygon_dict)\n",
    "    i = 0\n",
    "    for name, polygon in polygon_dict.items():\n",
    "        i += 1\n",
    "        print(f'\\rProcessing: {i}/{num}', end=\" \", flush=True)\n",
    "        out_data = np.arange(vel.shape[1])\n",
    "        for line in vel:\n",
    "            if inpolygon(line[1:3], polygon):\n",
    "                out_data = np.vstack((out_data, line))\n",
    "        out_file = name + '-vel.txt'\n",
    "        if out_data.size > vel.shape[1]:\n",
    "            np.savetxt(out_file, out_data[1:, :], fmt='%4f')\n",
    "    print(f'\\rProcessed: {i}/{num}', end=\" \", flush=True)\n",
    "\n",
    "\n",
    "def cut_ts_multi(kml_file, ts_file):\n",
    "    data = np.loadtxt(ts_file)\n",
    "    ts = data[1:, :]\n",
    "    polygon_dict = kml2polygon(kml_file)\n",
    "    num = len(polygon_dict)\n",
    "    i = 0\n",
    "    for name, polygon in polygon_dict.items():\n",
    "        i += 1\n",
    "        print(f'\\rProcessing: {i}/{num}', end=\"\", flush=True)\n",
    "        out_data = data[0, :]\n",
    "        for line in ts:\n",
    "            if inpolygon(line[1:3], polygon):\n",
    "                out_data = np.vstack((out_data, line))\n",
    "        out_file = name + '-ts.txt'\n",
    "        if out_data.size > ts.shape[1]:\n",
    "            np.savetxt(out_file, out_data, fmt='%4f')\n",
    "    print(f'\\rProcessed: {i}/{num}', end=\" \", flush=True)"
   ]
  },
  {
   "cell_type": "markdown",
   "metadata": {},
   "source": [
    "## read velocity"
   ]
  },
  {
   "cell_type": "code",
   "execution_count": null,
   "metadata": {
    "ExecuteTime": {
     "end_time": "2020-09-06T12:39:15.036359Z",
     "start_time": "2020-09-06T12:39:14.996862Z"
    }
   },
   "outputs": [],
   "source": [
    "vel_file = 'geo_velocity.h5'\n",
    "mask_file = 'geo_maskTempCoh.h5'\n",
    "\n",
    "velocity = read_vel(vel_file, mask_file, out_vel_file=None)"
   ]
  },
  {
   "cell_type": "code",
   "execution_count": null,
   "metadata": {
    "ExecuteTime": {
     "end_time": "2020-09-04T15:11:40.278545Z",
     "start_time": "2020-09-04T15:11:40.220128Z"
    }
   },
   "outputs": [],
   "source": [
    "velocity_ds = random_downsample_vel(velocity, -10, 10, 0.2, out_ds_file=None)"
   ]
  },
  {
   "cell_type": "markdown",
   "metadata": {},
   "source": [
    "## read time-series and velocity"
   ]
  },
  {
   "cell_type": "code",
   "execution_count": null,
   "metadata": {
    "ExecuteTime": {
     "end_time": "2020-09-06T11:29:38.570495Z",
     "start_time": "2020-09-06T11:29:35.405922Z"
    },
    "scrolled": true
   },
   "outputs": [],
   "source": [
    "os.chdir('/media/ly/file/sc_prj/cut')\n",
    "\n",
    "ts_file = 'geo_timeseries_tropHgt_ramp_demErr.h5'\n",
    "vel_file = 'geo_velocity.h5'\n",
    "mask_file = 'geo_maskTempCoh.h5'\n",
    "\n",
    "ts_data, date = read_vel_ts(ts_file, vel_file, mask_file, out_vel_file=None, out_ts_file=None)"
   ]
  },
  {
   "cell_type": "code",
   "execution_count": null,
   "metadata": {
    "ExecuteTime": {
     "end_time": "2020-09-04T15:13:57.692021Z",
     "start_time": "2020-09-04T15:13:57.554026Z"
    },
    "scrolled": true
   },
   "outputs": [],
   "source": [
    "# sampled_ts = random_downsample_vel(ts_data, 9, -9, 0.15, out_ds_file=None)\n",
    "# sampled_ts = random_downsample_disp(ts_data, 9, -9, 0.15, out_ds_file=None)"
   ]
  },
  {
   "cell_type": "markdown",
   "metadata": {},
   "source": [
    "## make kmz"
   ]
  },
  {
   "cell_type": "code",
   "execution_count": null,
   "metadata": {
    "ExecuteTime": {
     "end_time": "2020-09-06T11:30:22.820217Z",
     "start_time": "2020-09-06T11:30:10.925106Z"
    },
    "scrolled": true
   },
   "outputs": [],
   "source": [
    "prep_data_for_kmz(ts_data, date, out_vel_file='vel.txt', out_ts_file='ts.txt')\n",
    "# prep_data_for_kmz(sampled_ts, date, out_vel_file='vel_ds.txt', out_ts_file='ts_ds.txt')"
   ]
  },
  {
   "cell_type": "code",
   "execution_count": null,
   "metadata": {
    "ExecuteTime": {
     "end_time": "2020-08-21T02:56:36.133540Z",
     "start_time": "2020-08-21T02:56:15.654021Z"
    },
    "scrolled": true
   },
   "outputs": [],
   "source": [
    "!python3 make_kmz_timeseries.py -t ts_ds.txt -o ts_ds.kmz"
   ]
  },
  {
   "cell_type": "code",
   "execution_count": null,
   "metadata": {
    "ExecuteTime": {
     "end_time": "2020-08-18T07:50:36.925463Z",
     "start_time": "2020-08-18T07:50:28.121263Z"
    },
    "scrolled": true
   },
   "outputs": [],
   "source": [
    "!python3 make_kmz.py -v vel_ds.txt -o vel_ds.kmz"
   ]
  },
  {
   "cell_type": "markdown",
   "metadata": {},
   "source": [
    "## cut velocity"
   ]
  },
  {
   "cell_type": "markdown",
   "metadata": {},
   "source": [
    "### single"
   ]
  },
  {
   "cell_type": "code",
   "execution_count": null,
   "metadata": {
    "ExecuteTime": {
     "end_time": "2020-09-06T12:34:48.458118Z",
     "start_time": "2020-09-06T12:34:45.468479Z"
    }
   },
   "outputs": [],
   "source": [
    "cut_vel_single('single.kml', 'vel.txt', 'vel_cut.txt')"
   ]
  },
  {
   "cell_type": "code",
   "execution_count": null,
   "metadata": {
    "ExecuteTime": {
     "end_time": "2020-09-06T12:34:52.137562Z",
     "start_time": "2020-09-06T12:34:50.748782Z"
    }
   },
   "outputs": [],
   "source": [
    "!python3 make_kmz.py -v vel_cut.txt -o vel_cut -s 0.6"
   ]
  },
  {
   "cell_type": "markdown",
   "metadata": {},
   "source": [
    "### multiple"
   ]
  },
  {
   "cell_type": "code",
   "execution_count": null,
   "metadata": {
    "ExecuteTime": {
     "end_time": "2020-09-06T12:35:11.945614Z",
     "start_time": "2020-09-06T12:35:03.893644Z"
    },
    "scrolled": false
   },
   "outputs": [],
   "source": [
    "cut_vel_multi('cut.kmz', 'vel.txt')"
   ]
  },
  {
   "cell_type": "code",
   "execution_count": null,
   "metadata": {
    "ExecuteTime": {
     "end_time": "2020-09-06T12:35:17.870769Z",
     "start_time": "2020-09-06T12:35:13.244582Z"
    }
   },
   "outputs": [],
   "source": [
    "import glob\n",
    "files = glob.glob('Untitled Polygon-*-vel.txt')\n",
    "for file in files:\n",
    "    print(f'\\rProcessing: {files.index(file) + 1}/{len(files)}', end=\" \", flush=True)\n",
    "    cmd_str = f\"python3 make_kmz.py -v '{file}' -o '{file[:-4]}' -s 0.6\"\n",
    "    os.system(cmd_str)\n",
    "print(f'\\rProcessed: {len(files)}/{len(files)}', end=\" \", flush=True)"
   ]
  },
  {
   "cell_type": "markdown",
   "metadata": {},
   "source": [
    "## cut timeseries"
   ]
  },
  {
   "cell_type": "markdown",
   "metadata": {},
   "source": [
    "### single"
   ]
  },
  {
   "cell_type": "code",
   "execution_count": null,
   "metadata": {
    "ExecuteTime": {
     "end_time": "2020-09-06T12:36:13.861391Z",
     "start_time": "2020-09-06T12:36:02.148505Z"
    }
   },
   "outputs": [],
   "source": [
    "cut_ts_single('single.kml', 'ts.txt', 'ts_cut.txt')"
   ]
  },
  {
   "cell_type": "code",
   "execution_count": null,
   "metadata": {
    "ExecuteTime": {
     "end_time": "2020-09-06T12:36:52.825130Z",
     "start_time": "2020-09-06T12:36:50.454660Z"
    }
   },
   "outputs": [],
   "source": [
    "!python3 make_kmz_timeseries.py -t ts_cut.txt -o ts_cut -s 0.6"
   ]
  },
  {
   "cell_type": "markdown",
   "metadata": {},
   "source": [
    "### multiple"
   ]
  },
  {
   "cell_type": "code",
   "execution_count": null,
   "metadata": {
    "ExecuteTime": {
     "end_time": "2020-09-06T12:37:47.493122Z",
     "start_time": "2020-09-06T12:37:30.287594Z"
    },
    "scrolled": true
   },
   "outputs": [],
   "source": [
    "cut_ts_multi('cut.kml', 'ts.txt')"
   ]
  },
  {
   "cell_type": "code",
   "execution_count": null,
   "metadata": {
    "ExecuteTime": {
     "end_time": "2020-09-06T12:37:58.953760Z",
     "start_time": "2020-09-06T12:37:51.861747Z"
    }
   },
   "outputs": [],
   "source": [
    "import glob\n",
    "files = glob.glob('Untitled Polygon-*-ts.txt')\n",
    "for file in files:\n",
    "    print(f'\\rProcessing: {files.index(file) + 1}/{len(files)}', end=\" \", flush=True)\n",
    "    cmd_str = f\"python3 make_kmz_timeseries.py -t '{file}' -o '{file[:-4]}' -s 0.6\"\n",
    "    os.system(cmd_str)\n",
    "print(f'\\rProcessed: {len(files)}/{len(files)}', end=\" \", flush=True)"
   ]
  },
  {
   "cell_type": "markdown",
   "metadata": {},
   "source": [
    "## plot timeseries displacement"
   ]
  },
  {
   "cell_type": "markdown",
   "metadata": {},
   "source": [
    "getting displacement by number, must use complete ts_data (not downsampled)"
   ]
  },
  {
   "cell_type": "code",
   "execution_count": null,
   "metadata": {
    "ExecuteTime": {
     "end_time": "2020-09-04T15:15:00.853132Z",
     "start_time": "2020-09-04T15:14:59.979286Z"
    },
    "scrolled": false
   },
   "outputs": [],
   "source": [
    "num_list = [1000]\n",
    "plot_displacement(num_list, ts_data, date, aspect=0.4,\n",
    "                  figsize=(30, 15), y_lim=[-100, 50], fig_name=None)"
   ]
  },
  {
   "cell_type": "code",
   "execution_count": null,
   "metadata": {},
   "outputs": [],
   "source": []
  }
 ],
 "metadata": {
  "kernelspec": {
   "display_name": "Python 3",
   "language": "python",
   "name": "python3"
  },
  "language_info": {
   "codemirror_mode": {
    "name": "ipython",
    "version": 3
   },
   "file_extension": ".py",
   "mimetype": "text/x-python",
   "name": "python",
   "nbconvert_exporter": "python",
   "pygments_lexer": "ipython3",
   "version": "3.7.4"
  },
  "toc": {
   "base_numbering": 1,
   "nav_menu": {},
   "number_sections": true,
   "sideBar": true,
   "skip_h1_title": false,
   "title_cell": "Table of Contents",
   "title_sidebar": "Contents",
   "toc_cell": false,
   "toc_position": {
    "height": "calc(100% - 180px)",
    "left": "10px",
    "top": "150px",
    "width": "373.8px"
   },
   "toc_section_display": true,
   "toc_window_display": true
  },
  "varInspector": {
   "cols": {
    "lenName": 16,
    "lenType": 16,
    "lenVar": 40
   },
   "kernels_config": {
    "python": {
     "delete_cmd_postfix": "",
     "delete_cmd_prefix": "del ",
     "library": "var_list.py",
     "varRefreshCmd": "print(var_dic_list())"
    },
    "r": {
     "delete_cmd_postfix": ") ",
     "delete_cmd_prefix": "rm(",
     "library": "var_list.r",
     "varRefreshCmd": "cat(var_dic_list()) "
    }
   },
   "types_to_exclude": [
    "module",
    "function",
    "builtin_function_or_method",
    "instance",
    "_Feature"
   ],
   "window_display": false
  }
 },
 "nbformat": 4,
 "nbformat_minor": 2
}
