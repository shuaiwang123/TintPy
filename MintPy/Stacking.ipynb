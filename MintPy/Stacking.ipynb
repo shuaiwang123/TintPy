{
 "cells": [
  {
   "cell_type": "markdown",
   "metadata": {},
   "source": [
    "# stacking phase"
   ]
  },
  {
   "cell_type": "code",
   "execution_count": null,
   "metadata": {
    "ExecuteTime": {
     "end_time": "2020-08-13T00:34:19.918264Z",
     "start_time": "2020-08-13T00:34:19.904810Z"
    }
   },
   "outputs": [],
   "source": [
    "%matplotlib inline\n",
    "import os\n",
    "import numpy as np\n",
    "import matplotlib.pyplot as plt\n",
    "from mintpy.objects import ifgramStack\n",
    "from mintpy.utils import plot as pp, utils as ut\n",
    "from mintpy import view, plot_network\n",
    "\n",
    "prj_dir = '/media/ly/文件/sc2/mintpy'\n",
    "if not os.path.isdir(prj_dir):\n",
    "    os.mkdir(prj_dir)\n",
    "\n",
    "os.chdir(prj_dir)                        # work directory\n",
    "prj_file = 'Sen_stacking.txt'                # configure file"
   ]
  },
  {
   "cell_type": "markdown",
   "metadata": {},
   "source": [
    "##  configure file"
   ]
  },
  {
   "cell_type": "code",
   "execution_count": null,
   "metadata": {
    "ExecuteTime": {
     "end_time": "2020-08-13T00:34:52.188956Z",
     "start_time": "2020-08-13T00:34:52.182460Z"
    }
   },
   "outputs": [],
   "source": [
    "config = \"\"\"##-------------------------------- MintPy -----------------------------##\n",
    "########## 1. Load Data (--load to exit after this step)\n",
    "## load_data.py -H to check more details and example inputs.\n",
    "mintpy.load.processor      = gamma\n",
    "mintpy.load.unwFile        = ./interferograms/*/diff_*rlks.unw\n",
    "mintpy.load.corFile        = ./interferograms/*/filt_*rlks.cor\n",
    "mintpy.load.connCompFile   = None\n",
    "mintpy.load.intFile        = None\n",
    "\n",
    "mintpy.load.demFile        = ./geom_master/sim_*.rdc.dem\n",
    "mintpy.load.lookupYFile    = ./geom_master/sim_*.UTM_TO_RDC\n",
    "mintpy.load.lookupXFile    = ./geom_master/sim_*.UTM_TO_RDC\n",
    "mintpy.load.incAngleFile   = None\n",
    "mintpy.load.azAngleFile    = None\n",
    "mintpy.load.shadowMaskFile = None\n",
    "mintpy.load.waterMaskFile  = None\n",
    "##---------subset (optional):\n",
    "mintpy.subset.yx \t\t\t= 0:1300,0:1200\n",
    "########## 2. modify_network\n",
    "mintpy.network.coherenceBased  = yes  #[yes / no], auto for no, exclude interferograms with coherence < minCoherence\n",
    "mintpy.network.keepMinSpanTree = no  #[yes / no], auto for yes, keep interferograms in Min Span Tree network\n",
    "mintpy.network.minCoherence    = 0.6  #[0.0-1.0], auto for 0.7\n",
    "\"\"\"\n",
    "with open(prj_file, 'w+') as f:\n",
    "    f.write(config)"
   ]
  },
  {
   "cell_type": "markdown",
   "metadata": {},
   "source": [
    "## load data"
   ]
  },
  {
   "cell_type": "code",
   "execution_count": null,
   "metadata": {
    "ExecuteTime": {
     "end_time": "2020-08-13T00:40:37.597946Z",
     "start_time": "2020-08-13T00:34:59.940291Z"
    },
    "scrolled": true
   },
   "outputs": [],
   "source": [
    "!smallbaselineApp.py $prj_file --dostep load_data"
   ]
  },
  {
   "cell_type": "markdown",
   "metadata": {},
   "source": [
    "## modify network"
   ]
  },
  {
   "cell_type": "code",
   "execution_count": null,
   "metadata": {},
   "outputs": [],
   "source": [
    "!smallbaselineApp.py $prj_file --dostep modify_network"
   ]
  },
  {
   "source": [
    "## reference point"
   ],
   "cell_type": "markdown",
   "metadata": {}
  },
  {
   "cell_type": "code",
   "execution_count": null,
   "metadata": {},
   "outputs": [],
   "source": [
    "!smallbaselineApp.py $prj_file --dostep reference_point"
   ]
  },
  {
   "cell_type": "markdown",
   "metadata": {},
   "source": [
    "## average"
   ]
  },
  {
   "cell_type": "code",
   "execution_count": null,
   "metadata": {
    "ExecuteTime": {
     "end_time": "2020-08-13T00:41:09.545032Z",
     "start_time": "2020-08-13T00:41:03.559687Z"
    }
   },
   "outputs": [],
   "source": [
    "!temporal_average.py ./inputs/ifgramStack.h5 -d unwrapPhase -o avgPhaseVelocity.h5"
   ]
  },
  {
   "cell_type": "markdown",
   "metadata": {},
   "source": [
    "## geocode"
   ]
  },
  {
   "cell_type": "code",
   "execution_count": null,
   "metadata": {
    "ExecuteTime": {
     "end_time": "2020-08-13T00:41:40.266798Z",
     "start_time": "2020-08-13T00:41:23.123310Z"
    },
    "scrolled": true
   },
   "outputs": [],
   "source": [
    "!geocode.py -l ./inputs/geometryGeo.h5 -t $prj_file --outdir ./geo_avg --update ./avgPhaseVelocity.h5\n",
    "!geocode.py -l ./inputs/geometryGeo.h5 -t $prj_file --outdir ./geo_avg --update ./inputs/geometryRadar.h5"
   ]
  },
  {
   "cell_type": "code",
   "execution_count": null,
   "metadata": {
    "ExecuteTime": {
     "end_time": "2020-08-13T00:41:48.303781Z",
     "start_time": "2020-08-13T00:41:45.308682Z"
    },
    "scrolled": true
   },
   "outputs": [],
   "source": [
    "view.main('./geo_avg/geo_avgPhaseVelocity.h5 velocity --dem ./geo_avg/geo_geometryRadar.h5 --figsize 12 12 --notick --noaxis'.split())"
   ]
  },
  {
   "cell_type": "markdown",
   "metadata": {},
   "source": [
    "## save kmz"
   ]
  },
  {
   "cell_type": "code",
   "execution_count": null,
   "metadata": {
    "ExecuteTime": {
     "end_time": "2020-08-13T02:44:04.250401Z",
     "start_time": "2020-08-13T02:43:51.419242Z"
    }
   },
   "outputs": [],
   "source": [
    "!save_kmz.py ./geo_avg/geo_avgPhaseVelocity.h5 -c jet -u mm -v -60 60 -o ./geo_avg/geo_avgPhaseVelocity --dpi 600"
   ]
  },
  {
   "cell_type": "code",
   "execution_count": null,
   "metadata": {},
   "outputs": [],
   "source": []
  }
 ],
 "metadata": {
  "kernelspec": {
   "display_name": "Python 3",
   "language": "python",
   "name": "python3"
  },
  "language_info": {
   "codemirror_mode": {
    "name": "ipython",
    "version": 3
   },
   "file_extension": ".py",
   "mimetype": "text/x-python",
   "name": "python",
   "nbconvert_exporter": "python",
   "pygments_lexer": "ipython3",
   "version": "3.6.9"
  },
  "toc": {
   "base_numbering": 1,
   "nav_menu": {},
   "number_sections": true,
   "sideBar": true,
   "skip_h1_title": false,
   "title_cell": "Table of Contents",
   "title_sidebar": "Contents",
   "toc_cell": false,
   "toc_position": {},
   "toc_section_display": true,
   "toc_window_display": true
  },
  "varInspector": {
   "cols": {
    "lenName": 16,
    "lenType": 16,
    "lenVar": 40
   },
   "kernels_config": {
    "python": {
     "delete_cmd_postfix": "",
     "delete_cmd_prefix": "del ",
     "library": "var_list.py",
     "varRefreshCmd": "print(var_dic_list())"
    },
    "r": {
     "delete_cmd_postfix": ") ",
     "delete_cmd_prefix": "rm(",
     "library": "var_list.r",
     "varRefreshCmd": "cat(var_dic_list()) "
    }
   },
   "types_to_exclude": [
    "module",
    "function",
    "builtin_function_or_method",
    "instance",
    "_Feature"
   ],
   "window_display": false
  }
 },
 "nbformat": 4,
 "nbformat_minor": 2
}