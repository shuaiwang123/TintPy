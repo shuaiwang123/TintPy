{
 "cells": [
  {
   "cell_type": "code",
   "execution_count": null,
   "metadata": {
    "ExecuteTime": {
     "end_time": "2020-08-22T07:34:48.112980Z",
     "start_time": "2020-08-22T07:34:48.061090Z"
    }
   },
   "outputs": [],
   "source": [
    "from mpl_toolkits.axes_grid1 import make_axes_locatable\n",
    "import matplotlib.pyplot as plt\n",
    "import os\n",
    "import h5py\n",
    "%matplotlib inline\n",
    "\n",
    "\n",
    "def read_h5(fname, label):\n",
    "    with h5py.File(fname, 'r') as f:\n",
    "        atr = dict(f.attrs)\n",
    "        data = np.asarray(f[(label)])\n",
    "    return data, atr\n",
    "\n",
    "\n",
    "def plot_data(data, cmap='jet', title=''):\n",
    "    fig, ax = plt.subplots()\n",
    "    ax.set_title(title)\n",
    "    im = ax.imshow(data, cmap=cmap)\n",
    "    divider = make_axes_locatable(ax)\n",
    "    cax = divider.append_axes('right', size='5%', pad=0.1)\n",
    "    fig.colorbar(im, ax=ax, cax=cax)\n",
    "    fig.show()\n",
    "\n",
    "\n",
    "def gen_mask(height, atr, threshod, mask_file):\n",
    "    mask = height >= threshod\n",
    "    plot_data(mask, cmap='jet_r', title='waterMask')\n",
    "    print(f\"write mask to {mask_file}\")\n",
    "    with h5py.File(mask_file, 'w') as f:\n",
    "        f.create_dataset('waterMask', data=mask)\n",
    "        for k, v in atr.items():\n",
    "            f.attrs.create(k, v)\n",
    "    print('done')"
   ]
  },
  {
   "cell_type": "code",
   "execution_count": null,
   "metadata": {
    "ExecuteTime": {
     "end_time": "2020-08-22T07:35:31.772125Z",
     "start_time": "2020-08-22T07:35:31.432430Z"
    }
   },
   "outputs": [],
   "source": [
    "os.chdir('/media/ly/file/sc_prj/sc21/mintpy2')\n",
    "\n",
    "radar_height = './inputs/geometryRadar.h5'\n",
    "\n",
    "height, atr = read_h5(radar_height, 'height')\n",
    "plot_data(height, cmap='jet', title='height')"
   ]
  },
  {
   "cell_type": "code",
   "execution_count": null,
   "metadata": {
    "ExecuteTime": {
     "end_time": "2020-08-22T07:35:39.818756Z",
     "start_time": "2020-08-22T07:35:39.491912Z"
    }
   },
   "outputs": [],
   "source": [
    "mask_file = 'waterMask.h5'\n",
    "\n",
    "gen_mask(height, atr, 800, mask_file)"
   ]
  },
  {
   "cell_type": "code",
   "execution_count": null,
   "metadata": {},
   "outputs": [],
   "source": []
  }
 ],
 "metadata": {
  "kernelspec": {
   "display_name": "Python 3",
   "language": "python",
   "name": "python3"
  },
  "language_info": {
   "codemirror_mode": {
    "name": "ipython",
    "version": 3
   },
   "file_extension": ".py",
   "mimetype": "text/x-python",
   "name": "python",
   "nbconvert_exporter": "python",
   "pygments_lexer": "ipython3",
   "version": "3.6.9"
  },
  "toc": {
   "base_numbering": 1,
   "nav_menu": {},
   "number_sections": true,
   "sideBar": true,
   "skip_h1_title": false,
   "title_cell": "Table of Contents",
   "title_sidebar": "Contents",
   "toc_cell": false,
   "toc_position": {},
   "toc_section_display": true,
   "toc_window_display": false
  },
  "varInspector": {
   "cols": {
    "lenName": 16,
    "lenType": 16,
    "lenVar": 40
   },
   "kernels_config": {
    "python": {
     "delete_cmd_postfix": "",
     "delete_cmd_prefix": "del ",
     "library": "var_list.py",
     "varRefreshCmd": "print(var_dic_list())"
    },
    "r": {
     "delete_cmd_postfix": ") ",
     "delete_cmd_prefix": "rm(",
     "library": "var_list.r",
     "varRefreshCmd": "cat(var_dic_list()) "
    }
   },
   "types_to_exclude": [
    "module",
    "function",
    "builtin_function_or_method",
    "instance",
    "_Feature"
   ],
   "window_display": false
  }
 },
 "nbformat": 4,
 "nbformat_minor": 4
}
