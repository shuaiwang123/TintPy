{
 "cells": [
  {
   "cell_type": "markdown",
   "metadata": {},
   "source": [
    "# stacking phase"
   ]
  },
  {
   "cell_type": "code",
   "execution_count": null,
   "metadata": {
    "ExecuteTime": {
     "end_time": "2020-08-13T00:34:19.918264Z",
     "start_time": "2020-08-13T00:34:19.904810Z"
    }
   },
   "outputs": [],
   "source": [
    "%matplotlib inline\n",
    "import os\n",
    "import numpy as np\n",
    "import matplotlib.pyplot as plt\n",
    "from mintpy.objects import ifgramStack\n",
    "from mintpy.utils import plot as pp, utils as ut\n",
    "from mintpy import view, plot_network\n",
    "\n",
    "os.chdir('/media/ly/文件/stacking/xsc/mintpy_stack')        # work directory\n",
    "prj_file = 'stacking.txt'                    # configure file"
   ]
  },
  {
   "cell_type": "markdown",
   "metadata": {},
   "source": [
    "##  write configure file"
   ]
  },
  {
   "cell_type": "code",
   "execution_count": null,
   "metadata": {
    "ExecuteTime": {
     "end_time": "2020-08-13T00:34:52.188956Z",
     "start_time": "2020-08-13T00:34:52.182460Z"
    }
   },
   "outputs": [],
   "source": [
    "config = \"\"\"##-------------------------------- MintPy -----------------------------##\n",
    "########## 1. Load Data (--load to exit after this step)\n",
    "## load_data.py -H to check more details and example inputs.\n",
    "mintpy.load.processor        = isce\n",
    "##---------for ISCE only:\n",
    "mintpy.load.metaFile         = ../master/IW*.xml\n",
    "mintpy.load.baselineDir      = ../baselines\n",
    "##---------interferogram datasets:\n",
    "mintpy.load.unwFile          = ../merged/interferograms/*/filt_*.unw\n",
    "mintpy.load.corFile          = ../merged/interferograms/*/filt_*.cor\n",
    "mintpy.load.connCompFile     = ../merged/interferograms/*/filt_*.unw.conncomp\n",
    "##---------geometry datasets:\n",
    "mintpy.load.demFile          = ../merged/geom_master/hgt.rdr\n",
    "mintpy.load.lookupYFile      = ../merged/geom_master/lat.rdr\n",
    "mintpy.load.lookupXFile      = ../merged/geom_master/lon.rdr\n",
    "mintpy.load.incAngleFile     = ../merged/geom_master/los.rdr\n",
    "mintpy.load.azAngleFile      = ../merged/geom_master/los.rdr\n",
    "mintpy.load.shadowMaskFile   = ../merged/geom_master/shadowMask.rdr\n",
    "mintpy.load.waterMaskFile    = None\n",
    "\"\"\"\n",
    "with open(prj_file, 'w+') as f:\n",
    "    f.write(config)"
   ]
  },
  {
   "cell_type": "markdown",
   "metadata": {},
   "source": [
    "## load data"
   ]
  },
  {
   "cell_type": "code",
   "execution_count": null,
   "metadata": {
    "ExecuteTime": {
     "end_time": "2020-08-13T00:40:37.597946Z",
     "start_time": "2020-08-13T00:34:59.940291Z"
    },
    "scrolled": true
   },
   "outputs": [],
   "source": [
    "!smallbaselineApp.py $prj_file --dostep load_data"
   ]
  },
  {
   "cell_type": "markdown",
   "metadata": {},
   "source": [
    "## average"
   ]
  },
  {
   "cell_type": "code",
   "execution_count": null,
   "metadata": {
    "ExecuteTime": {
     "end_time": "2020-08-13T00:41:09.545032Z",
     "start_time": "2020-08-13T00:41:03.559687Z"
    }
   },
   "outputs": [],
   "source": [
    "!temporal_average.py ./inputs/ifgramStack.h5 -d unwrapPhase -o avgPhaseVelocity.h5"
   ]
  },
  {
   "cell_type": "markdown",
   "metadata": {},
   "source": [
    "## geocode"
   ]
  },
  {
   "cell_type": "code",
   "execution_count": null,
   "metadata": {
    "ExecuteTime": {
     "end_time": "2020-08-13T00:41:40.266798Z",
     "start_time": "2020-08-13T00:41:23.123310Z"
    },
    "scrolled": true
   },
   "outputs": [],
   "source": [
    "!geocode.py -l ./inputs/geometryRadar.h5 -t $prj_file --outdir ./geo --update ./avgPhaseVelocity.h5 ./inputs/geometryRadar.h5"
   ]
  },
  {
   "cell_type": "code",
   "execution_count": null,
   "metadata": {
    "ExecuteTime": {
     "end_time": "2020-08-13T00:41:48.303781Z",
     "start_time": "2020-08-13T00:41:45.308682Z"
    },
    "scrolled": true
   },
   "outputs": [],
   "source": [
    "view.main('./geo/geo_avgPhaseVelocity.h5 velocity --dem ./geo/geo_geometryRadar.h5 --figsize 12 12 --notick --noaxis'.split())"
   ]
  },
  {
   "cell_type": "markdown",
   "metadata": {},
   "source": [
    "## save kmz"
   ]
  },
  {
   "cell_type": "code",
   "execution_count": null,
   "metadata": {
    "ExecuteTime": {
     "end_time": "2020-08-13T02:44:04.250401Z",
     "start_time": "2020-08-13T02:43:51.419242Z"
    }
   },
   "outputs": [],
   "source": [
    "!save_kmz.py ./geo/geo_avgPhaseVelocity.h5 -c jet -o ./geo/geo_avgPhaseVelocity --dpi 600"
   ]
  },
  {
   "cell_type": "code",
   "execution_count": null,
   "metadata": {},
   "outputs": [],
   "source": []
  }
 ],
 "metadata": {
  "kernelspec": {
   "display_name": "Python 3",
   "language": "python",
   "name": "python3"
  },
  "language_info": {
   "codemirror_mode": {
    "name": "ipython",
    "version": 3
   },
   "file_extension": ".py",
   "mimetype": "text/x-python",
   "name": "python",
   "nbconvert_exporter": "python",
   "pygments_lexer": "ipython3",
   "version": "3.6.9"
  },
  "toc": {
   "base_numbering": 1,
   "nav_menu": {},
   "number_sections": true,
   "sideBar": true,
   "skip_h1_title": false,
   "title_cell": "Table of Contents",
   "title_sidebar": "Contents",
   "toc_cell": false,
   "toc_position": {},
   "toc_section_display": true,
   "toc_window_display": true
  },
  "varInspector": {
   "cols": {
    "lenName": 16,
    "lenType": 16,
    "lenVar": 40
   },
   "kernels_config": {
    "python": {
     "delete_cmd_postfix": "",
     "delete_cmd_prefix": "del ",
     "library": "var_list.py",
     "varRefreshCmd": "print(var_dic_list())"
    },
    "r": {
     "delete_cmd_postfix": ") ",
     "delete_cmd_prefix": "rm(",
     "library": "var_list.r",
     "varRefreshCmd": "cat(var_dic_list()) "
    }
   },
   "types_to_exclude": [
    "module",
    "function",
    "builtin_function_or_method",
    "instance",
    "_Feature"
   ],
   "window_display": false
  }
 },
 "nbformat": 4,
 "nbformat_minor": 2
}