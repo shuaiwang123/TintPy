{
 "cells": [
  {
   "cell_type": "code",
   "execution_count": null,
   "metadata": {
    "ExecuteTime": {
     "end_time": "2020-03-23T12:36:10.921713Z",
     "start_time": "2020-03-23T12:36:07.725964Z"
    },
    "code_folding": [
     9,
     64
    ]
   },
   "outputs": [],
   "source": [
    "from osgeo import gdal\n",
    "import matplotlib.pyplot as plt\n",
    "from matplotlib.pyplot import MultipleLocator\n",
    "import numpy as np\n",
    "import re\n",
    "import os\n",
    "import random\n",
    "%matplotlib inline\n",
    "# %matplotlib notebook\n",
    "\n",
    "\n",
    "def load_data(infile, band=1):\n",
    "    ds = gdal.Open(infile, gdal.GA_ReadOnly)\n",
    "    # Data array\n",
    "    data = ds.GetRasterBand(band).ReadAsArray()\n",
    "    # Map extent\n",
    "    trans = ds.GetGeoTransform()\n",
    "    xsize = ds.RasterXSize\n",
    "    ysize = ds.RasterYSize\n",
    "    extent = [trans[0], trans[0] + xsize * trans[1],\n",
    "              trans[3] + ysize*trans[5], trans[3]]\n",
    "    ds = None\n",
    "    return data, extent\n",
    "\n",
    "\n",
    "def plot_data(data, extent, cmap, title, barlabel):\n",
    "    fig, ax = plt.subplots()\n",
    "    im = ax.imshow(data, extent=extent, cmap=cmap)\n",
    "    # Create colorbar\n",
    "    cbar = ax.figure.colorbar(im, ax=ax)\n",
    "    cbar.ax.set_xlabel(barlabel, rotation=0, va=\"top\")\n",
    "    ax.set_title(title)\n",
    "    fig.show()\n",
    "    \n",
    "\n",
    "\n",
    "def get_date(disp_names):\n",
    "    date = []\n",
    "    for n in disp_names:\n",
    "        date.append(re.findall(r'\\d{8}', n)[0])\n",
    "    return date\n",
    "\n",
    "\n",
    "def get_cum_disp(path):\n",
    "    # get disp_geo file name\n",
    "    disp_names = sorted([i for i in os.listdir(path) if i.endswith('disp_geo')])\n",
    "    # get extent\n",
    "    disp, extent = load_data(os.path.join(path, disp_names[1]))\n",
    "    # generate lon,lat\n",
    "    lon = np.linspace(extent[0], extent[1], disp.shape[1])\n",
    "    lat = np.linspace(extent[3], extent[2], disp.shape[0])\n",
    "    lons, lats = np.meshgrid(lon, lat)\n",
    "\n",
    "    not_nan = (~np.isnan(disp))\n",
    "    # reshape array\n",
    "    lons = lons[not_nan].reshape((-1, 1))\n",
    "    lats = lats[not_nan].reshape((-1, 1))\n",
    "    # generate point ID\n",
    "    num = np.arange(0, lons.shape[0]).reshape((-1, 1))\n",
    "    # get 4 colums data (num lon lat disp)\n",
    "    cum_disp = np.concatenate([num, lons, lats], axis=1)\n",
    "    for disp_name in disp_names:\n",
    "        disp_path = os.path.join(path, disp_name)\n",
    "        disp, _ = load_data(disp_path)\n",
    "        disp = disp[not_nan].reshape((-1, 1))\n",
    "        cum_disp = np.concatenate([cum_disp, disp], axis=1)\n",
    "    return disp_names, extent, cum_disp, num, lons, lats\n",
    "\n",
    "\n",
    "def random_downsample(data, percent):\n",
    "    point_num = data.shape[0]\n",
    "    index = random.sample(range(point_num), int(point_num * percent))\n",
    "    return data[index, :]\n",
    "\n",
    "\n",
    "def plot_points_disp_in_one(cum_disp, date, num_list, y_lim, figsize=(10,5) ,flag=False, aspect=0.2):\n",
    "    cum_disp = np.asarray(cum_disp, dtype=np.float32)\n",
    "    points_disp = []\n",
    "\n",
    "    fig, ax = plt.subplots(figsize=figsize)\n",
    "    ax.set_xlabel('date', fontsize=20)\n",
    "    ax.set_ylabel('cumulative displacement (mm)', fontsize=20)\n",
    "    ax.set_title('Point displacement', fontsize=25)\n",
    "    ax.set_ylim(y_lim[0], y_lim[1])\n",
    "    ax.set_aspect(aspect)\n",
    "    y_major_locator=MultipleLocator(10)\n",
    "    ax.yaxis.set_major_locator(y_major_locator)\n",
    "    # ax.minorticks_on()\n",
    "    ax.xaxis.grid(True, which='major')\n",
    "    ax.xaxis.set_tick_params(rotation=30, labelsize=10)\n",
    "    ax.yaxis.grid(True, which='major')\n",
    "    ax.yaxis.set_tick_params(rotation=0, labelsize=10)\n",
    "    ax.set_xmargin(0.02)\n",
    "    for num in num_list:\n",
    "        if num >= cum_disp.shape[0] or num < 0:\n",
    "            print(f\"Error: cannot find point {num}.\")\n",
    "        else:\n",
    "            line = cum_disp[num, :]\n",
    "            points_disp.append(list(line))\n",
    "            ax.plot(date, line[3:], label=str(num), marker='o')\n",
    "            ax.xaxis.set_ticks(date[::2])\n",
    "    ax.legend(loc='upper right', fontsize=15, ncol=2)\n",
    "    fig.show()\n",
    "    # save fig\n",
    "    if flag:\n",
    "        fig.savefig('cum_disp.png', dpi=600)\n",
    "    # for i in points_disp:\n",
    "    #     print('{}\\n'.format(i))"
   ]
  },
  {
   "cell_type": "markdown",
   "metadata": {},
   "source": [
    "## get cumulative displacement、plot"
   ]
  },
  {
   "cell_type": "code",
   "execution_count": null,
   "metadata": {},
   "outputs": [],
   "source": [
    "geocoded_path = r'C:\\thorly\\Files\\landslide\\9_SBAS_processing\\inversion\\geocoded'\n",
    "\n",
    "disp_names, extent, cum_disp, num, lons, lats = get_cum_disp(geocoded_path)\n",
    "# os.chdir(path)\n",
    "# np.savetxt('cumulative_disp.txt', cum_disp, fmt='%4f')\n",
    "\n",
    "# get last cumulative displacement\n",
    "last_cum_disp, extent = load_data(os.path.join(geocoded_path, disp_names[-1]))\n",
    "plot_data(data=last_cum_disp, extent=extent, cmap='rainbow', title='last cumulative displacement', barlabel='mm')"
   ]
  },
  {
   "cell_type": "markdown",
   "metadata": {},
   "source": [
    "## prepare data for make_kmz_timeseries.py"
   ]
  },
  {
   "cell_type": "code",
   "execution_count": null,
   "metadata": {},
   "outputs": [],
   "source": [
    "average_rate, extent = load_data(os.path.join(geocoded_path, \"SI_vel_geo\"))\n",
    "# exclude nan\n",
    "not_nan = (~np.isnan(average_rate))\n",
    "average_rate = average_rate[not_nan].reshape((-1, 1))\n",
    "\n",
    "save_data = np.hstack((lons, lats, average_rate, cum_disp[:, 3:]))\n",
    "date = get_date(disp_names)\n",
    "date = [0, 0, 0] + date\n",
    "date = np.asarray(date, np.float64)\n",
    "save_data = np.vstack((date, save_data))\n",
    "\n",
    "# save data\n",
    "os.chdir(os.path.dirname(os.path.dirname(geocoded_path)))\n",
    "np.savetxt('ts.txt', save_data, fmt='%4f')"
   ]
  },
  {
   "cell_type": "markdown",
   "metadata": {},
   "source": [
    "## get velocity、downsample、plot velocity"
   ]
  },
  {
   "cell_type": "code",
   "execution_count": null,
   "metadata": {},
   "outputs": [],
   "source": [
    "average_rate, extent = load_data(os.path.join(geocoded_path, \"SI_vel_geo\"))\n",
    "plot_data(data=average_rate, extent=extent, cmap='rainbow', title='average rate', barlabel='mm/yr')\n",
    "\n",
    "# exclude nan\n",
    "not_nan = (~np.isnan(average_rate))\n",
    "average_rate = average_rate[not_nan].reshape((-1, 1))\n",
    "save_data = np.hstack((num, lons, lats, average_rate))\n",
    "\n",
    "# downsample\n",
    "downsample_data = random_downsample(save_data, 0.7)\n",
    "# save average velocity rate\n",
    "os.chdir(os.path.dirname(os.path.dirname(geocoded_path)))\n",
    "np.savetxt('average_rate_sample9.txt', downsample_data, fmt='%4f')"
   ]
  },
  {
   "cell_type": "markdown",
   "metadata": {},
   "source": [
    "## plot time-series displacement"
   ]
  },
  {
   "cell_type": "code",
   "execution_count": null,
   "metadata": {
    "tags": []
   },
   "outputs": [],
   "source": [
    "# path = r'C:\\thorly\\Files\\landslide\\9_SBAS_processing\\inversion\\geocoded'\n",
    "# disp_names, extent, cum_disp, num, lons, lats = get_cum_disp(path)\n",
    "# last_cum_disp, extent = load_data(os.path.join(path, disp_names[-1]))\n",
    "\n",
    "date = get_date(disp_names)\n",
    "# num_list = sorted([4348, 4466, 4465, 3789, 5154, 4781, 3687])\n",
    "# num_list = sorted([3484, 3562])\n",
    "num_list = sorted([5324, 5084])\n",
    "# num_list = sorted([5204, 5142, 5143, 5310, 4781])\n",
    "plot_points_disp_in_one(cum_disp, date, num_list, [-50, 50], figsize=(18,9), flag=False, aspect=0.08)\n",
    "\n"
   ]
  },
  {
   "cell_type": "code",
   "execution_count": null,
   "metadata": {},
   "outputs": [],
   "source": []
  }
 ],
 "metadata": {
  "kernelspec": {
   "display_name": "Python 3",
   "language": "python",
   "name": "python3"
  },
  "language_info": {
   "codemirror_mode": {
    "name": "ipython",
    "version": 3
   },
   "file_extension": ".py",
   "mimetype": "text/x-python",
   "name": "python",
   "nbconvert_exporter": "python",
   "pygments_lexer": "ipython3",
   "version": "3.7.4-final"
  },
  "toc": {
   "base_numbering": 1,
   "nav_menu": {
    "height": "329px",
    "width": "288px"
   },
   "number_sections": true,
   "sideBar": true,
   "skip_h1_title": false,
   "title_cell": "Table of Contents",
   "title_sidebar": "Contents",
   "toc_cell": false,
   "toc_position": {
    "height": "calc(100% - 180px)",
    "left": "10px",
    "top": "150px",
    "width": "321px"
   },
   "toc_section_display": true,
   "toc_window_display": true
  },
  "varInspector": {
   "cols": {
    "lenName": 16,
    "lenType": 16,
    "lenVar": 40
   },
   "kernels_config": {
    "python": {
     "delete_cmd_postfix": "",
     "delete_cmd_prefix": "del ",
     "library": "var_list.py",
     "varRefreshCmd": "print(var_dic_list())"
    },
    "r": {
     "delete_cmd_postfix": ") ",
     "delete_cmd_prefix": "rm(",
     "library": "var_list.r",
     "varRefreshCmd": "cat(var_dic_list()) "
    }
   },
   "position": {
    "height": "422.4px",
    "left": "1217.6px",
    "right": "20px",
    "top": "120px",
    "width": "298.4px"
   },
   "types_to_exclude": [
    "module",
    "function",
    "builtin_function_or_method",
    "instance",
    "_Feature"
   ],
   "window_display": false
  },
  "widgets": {
   "application/vnd.jupyter.widget-state+json": {
    "state": {},
    "version_major": 2,
    "version_minor": 0
   }
  }
 },
 "nbformat": 4,
 "nbformat_minor": 4
}