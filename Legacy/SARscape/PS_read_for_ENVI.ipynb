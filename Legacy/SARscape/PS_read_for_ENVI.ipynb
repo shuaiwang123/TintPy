{
 "cells": [
  {
   "cell_type": "code",
   "execution_count": null,
   "metadata": {
    "ExecuteTime": {
     "end_time": "2020-06-28T11:59:32.630656Z",
     "start_time": "2020-06-28T11:59:32.610073Z"
    }
   },
   "outputs": [],
   "source": [
    "import os\n",
    "import shapefile\n",
    "import numpy as np\n",
    "from matplotlib import pyplot as plt\n",
    "from matplotlib.pyplot import MultipleLocator\n",
    "\n",
    "\n",
    "def get_all_points_info(shp_path):\n",
    "    ps = shapefile.Reader(shp_path)\n",
    "    temp_list = []\n",
    "    points_num = len(ps)\n",
    "    for i in range(points_num):\n",
    "        lon_lat = list(ps.shape(i).points[0])\n",
    "        deformation = ps.record(i)[17:]\n",
    "        coherence = ps.record(i)[1:2]\n",
    "        mean_velocity = ps.record(i)[0:1]\n",
    "        one_point_info = lon_lat + mean_velocity + coherence + deformation\n",
    "        temp_list.append(one_point_info)\n",
    "    all_points_info = np.array(temp_list)\n",
    "    # print(all_points_info.shape)\n",
    "    num = np.arange(0, points_num).reshape((-1, 1))\n",
    "    all_points_info = np.concatenate([num, all_points_info], axis=1)\n",
    "    # print(all_points_info.shape)\n",
    "    date = []\n",
    "    for i in ps.fields[18:]:\n",
    "        date.append(i[0][2:])\n",
    "    return all_points_info, date\n",
    "\n",
    "\n",
    "def save_mean_vel(all_points_info, save_path):\n",
    "    num = all_points_info[:, 0].reshape((-1, 1))\n",
    "    lon = all_points_info[:, 1]\n",
    "    lon = (lon - 0.000366).reshape((-1, 1))\n",
    "    lat = all_points_info[:, 2].reshape((-1, 1))\n",
    "    vel = all_points_info[:, 3].reshape((-1, 1))\n",
    "    coh = all_points_info[:, 4].reshape((-1, 1))\n",
    "    save_info = np.concatenate([num, lon, lat, vel, coh], axis=1)\n",
    "    np.savetxt(save_path, save_info, fmt='%4f')\n",
    "\n",
    "\n",
    "def plot_points_disp_in_one(cum_disp, date, num_list, y_lim, figsize=(10,5) ,flag=False, aspect=0.2):\n",
    "    cum_disp = np.asarray(cum_disp, dtype=np.float32)\n",
    "    points_disp = []\n",
    "\n",
    "    fig, ax = plt.subplots(figsize=figsize)\n",
    "    ax.set_xlabel('date', fontsize=20)\n",
    "    ax.set_ylabel('cumulative displacement (mm)', fontsize=20)\n",
    "    ax.set_title('Point displacement', fontsize=25)\n",
    "    ax.set_ylim(y_lim[0], y_lim[1])\n",
    "    ax.set_aspect(aspect)\n",
    "    y_major_locator=MultipleLocator(10)\n",
    "    ax.yaxis.set_major_locator(y_major_locator)\n",
    "    # ax.minorticks_on()\n",
    "    ax.xaxis.grid(True, which='major')\n",
    "    ax.xaxis.set_tick_params(rotation=30, labelsize=10)\n",
    "    ax.yaxis.grid(True, which='major')\n",
    "    ax.yaxis.set_tick_params(rotation=0, labelsize=10)\n",
    "    ax.set_xmargin(0.02)\n",
    "    for num in num_list:\n",
    "        if num >= cum_disp.shape[0] or num < 0:\n",
    "            print(f\"Error: cannot find point {num}.\")\n",
    "        else:\n",
    "            line = cum_disp[num, 5:]\n",
    "            points_disp.append(list(line))\n",
    "            ax.plot(date, line, label=str(num), marker='o')\n",
    "            ax.xaxis.set_ticks(date[::2])\n",
    "    ax.legend(loc='upper right', fontsize=15, ncol=2)\n",
    "    fig.show()\n",
    "    # save fig\n",
    "    if flag:\n",
    "        fig.savefig('cum_disp.png', dpi=600)\n",
    "    # for i in points_disp:\n",
    "    #     print('{}\\n'.format(i))"
   ]
  },
  {
   "cell_type": "markdown",
   "metadata": {},
   "source": [
    "## get points info(num, lon, lat, mean_velocity, coherence, deformation)"
   ]
  },
  {
   "cell_type": "code",
   "execution_count": null,
   "metadata": {
    "ExecuteTime": {
     "end_time": "2020-06-28T12:36:28.296537Z",
     "start_time": "2020-06-28T12:36:26.174214Z"
    }
   },
   "outputs": [],
   "source": [
    "shp_path = r\"C:\\thorly\\Files\\landslide\\1_PS_processing\\geocoding\\1_PS_60_0.shp\"\n",
    "points_info, date = get_all_points_info(shp_path)"
   ]
  },
  {
   "cell_type": "markdown",
   "metadata": {},
   "source": [
    "## prepare data for make_kmz_timeseries.py"
   ]
  },
  {
   "cell_type": "code",
   "execution_count": null,
   "metadata": {
    "tags": []
   },
   "outputs": [],
   "source": [
    "date = [int(d) for d in date]\n",
    "first_line = [0, 0, 0] + date\n",
    "first_line = np.asarray(first_line, np.float64).reshape((1, -1))\n",
    "tmp = np.hstack((points_info[:, 1:4], points_info[:, 5:]))\n",
    "save_data = np.vstack((first_line, tmp))\n",
    "\n",
    "# save data\n",
    "os.chdir(os.path.dirname(os.path.dirname(shp_path)))\n",
    "np.savetxt('ts.txt', save_data, fmt='%4f')"
   ]
  },
  {
   "cell_type": "markdown",
   "metadata": {},
   "source": [
    "## save velocity data(num, lon, lat, vel, coh)"
   ]
  },
  {
   "cell_type": "code",
   "execution_count": null,
   "metadata": {
    "ExecuteTime": {
     "end_time": "2020-06-28T12:36:31.373968Z",
     "start_time": "2020-06-28T12:36:31.307849Z"
    }
   },
   "outputs": [],
   "source": [
    "os.chdir(os.path.basename(os.path.basename(shp_path)))\n",
    "save_mean_vel(points_info2, 'vel.txt')"
   ]
  },
  {
   "cell_type": "markdown",
   "metadata": {},
   "source": [
    "## plot time-series displacement"
   ]
  },
  {
   "cell_type": "code",
   "execution_count": null,
   "metadata": {
    "ExecuteTime": {
     "end_time": "2020-06-28T12:42:36.832537Z",
     "start_time": "2020-06-28T12:42:36.272837Z"
    },
    "tags": []
   },
   "outputs": [],
   "source": [
    "num_list = [1409, 1410]\n",
    "plot_points_disp_in_one(points_info, date, num_list, y_lim=[-50, 50], figsize=(20,5) ,flag=False, aspect=0.1)"
   ]
  },
  {
   "cell_type": "code",
   "execution_count": null,
   "metadata": {},
   "outputs": [],
   "source": []
  }
 ],
 "metadata": {
  "kernelspec": {
   "display_name": "Python 3",
   "language": "python",
   "name": "python3"
  },
  "language_info": {
   "codemirror_mode": {
    "name": "ipython",
    "version": 3
   },
   "file_extension": ".py",
   "mimetype": "text/x-python",
   "name": "python",
   "nbconvert_exporter": "python",
   "pygments_lexer": "ipython3",
   "version": "3.7.4-final"
  },
  "toc": {
   "base_numbering": 1,
   "nav_menu": {},
   "number_sections": true,
   "sideBar": true,
   "skip_h1_title": false,
   "title_cell": "Table of Contents",
   "title_sidebar": "Contents",
   "toc_cell": false,
   "toc_position": {},
   "toc_section_display": true,
   "toc_window_display": false
  },
  "varInspector": {
   "cols": {
    "lenName": 16,
    "lenType": 16,
    "lenVar": 40
   },
   "kernels_config": {
    "python": {
     "delete_cmd_postfix": "",
     "delete_cmd_prefix": "del ",
     "library": "var_list.py",
     "varRefreshCmd": "print(var_dic_list())"
    },
    "r": {
     "delete_cmd_postfix": ") ",
     "delete_cmd_prefix": "rm(",
     "library": "var_list.r",
     "varRefreshCmd": "cat(var_dic_list()) "
    }
   },
   "types_to_exclude": [
    "module",
    "function",
    "builtin_function_or_method",
    "instance",
    "_Feature"
   ],
   "window_display": false
  }
 },
 "nbformat": 4,
 "nbformat_minor": 2
}