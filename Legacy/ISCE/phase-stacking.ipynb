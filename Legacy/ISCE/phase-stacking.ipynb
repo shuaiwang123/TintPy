{
 "cells": [
  {
   "cell_type": "code",
   "execution_count": null,
   "metadata": {
    "ExecuteTime": {
     "end_time": "2020-08-13T02:48:34.312685Z",
     "start_time": "2020-08-13T02:48:34.056381Z"
    }
   },
   "outputs": [],
   "source": [
    "%matplotlib inline\n",
    "from osgeo import gdal\n",
    "import matplotlib.pyplot as plt\n",
    "import numpy as np\n",
    "import glob\n",
    "import os\n",
    "import sys\n",
    "import datetime\n",
    "    \n",
    "    \n",
    "def plot_fig(filename, label, band):\n",
    "    ds = gdal.Open(filename, gdal.GA_ReadOnly)\n",
    "    data = ds.GetRasterBand(band).ReadAsArray()\n",
    "    ds = None\n",
    "    print(np.min(data), np.max(data))\n",
    "    fig,ax = plt.subplots(figsize=(11,10))\n",
    "    im = ax.imshow(data, cmap='jet')\n",
    "    fig.colorbar(im)\n",
    "    ax.set_title(label)\n",
    "    fig.show()"
   ]
  },
  {
   "cell_type": "markdown",
   "metadata": {},
   "source": [
    "## set path"
   ]
  },
  {
   "cell_type": "code",
   "execution_count": null,
   "metadata": {
    "ExecuteTime": {
     "end_time": "2020-08-13T02:46:34.795652Z",
     "start_time": "2020-08-13T02:46:34.791881Z"
    }
   },
   "outputs": [],
   "source": [
    "merged_dir = '/media/ly/文件/stacking/xsc/merged'\n",
    "gacos_dir = '/media/ly/文件/stacking/xsc/gacos'"
   ]
  },
  {
   "cell_type": "markdown",
   "metadata": {},
   "source": [
    "## get box"
   ]
  },
  {
   "cell_type": "code",
   "execution_count": null,
   "metadata": {
    "ExecuteTime": {
     "end_time": "2020-08-09T02:51:43.030712Z",
     "start_time": "2020-08-09T02:51:42.894105Z"
    }
   },
   "outputs": [],
   "source": [
    "os.chdir(os.path.join(merged_dir, 'geom_master'))\n",
    "box = ''\n",
    "\n",
    "ds = gdal.Open('lat.rdr', gdal.GA_ReadOnly)\n",
    "data = ds.GetRasterBand(1).ReadAsArray()\n",
    "box += (str(np.min(data)) + ' ')\n",
    "box += (str(np.max(data)) + ' ')\n",
    "data = None\n",
    "\n",
    "ds = gdal.Open('lon.rdr', gdal.GA_ReadOnly)\n",
    "data = ds.GetRasterBand(1).ReadAsArray()\n",
    "box += (str(np.min(data)) + ' ')\n",
    "box += str(np.max(data))\n",
    "data = None\n",
    "\n",
    "print(box)"
   ]
  },
  {
   "cell_type": "markdown",
   "metadata": {},
   "source": [
    "## geocode los.rdr"
   ]
  },
  {
   "cell_type": "code",
   "execution_count": null,
   "metadata": {
    "ExecuteTime": {
     "end_time": "2020-08-09T02:51:47.505315Z",
     "start_time": "2020-08-09T02:51:46.863498Z"
    },
    "scrolled": true
   },
   "outputs": [],
   "source": [
    "os.chdir(os.path.join(merged_dir, 'geom_master'))\n",
    "\n",
    "cmd_str = f\"geocodeGdal.py -l lat.rdr -L lon.rdr -f los.rdr -b '{box}'\"\n",
    "os.system(cmd_str)"
   ]
  },
  {
   "cell_type": "markdown",
   "metadata": {},
   "source": [
    "## geocode unw"
   ]
  },
  {
   "cell_type": "code",
   "execution_count": null,
   "metadata": {
    "ExecuteTime": {
     "end_time": "2020-08-08T11:38:28.848979Z",
     "start_time": "2020-08-08T11:38:26.148507Z"
    },
    "scrolled": true
   },
   "outputs": [],
   "source": [
    "unws = glob.glob(os.path.join(merged_dir, 'interferograms/*/filt_fine.unw'))\n",
    "lat = os.path.join(merged_dir, 'geom_master', 'lat.rdr')\n",
    "lon = os.path.join(merged_dir, 'geom_master', 'lon.rdr')\n",
    "\n",
    "for unw in unws:\n",
    "    dir_name = os.path.dirname(unw)\n",
    "    os.chdir(dir_name)\n",
    "    sys.stdout.write(f\"\\rprocess {unws.index(unw) + 1}/{len(unws)}\")\n",
    "    sys.stdout.flush()\n",
    "    cmd_str = f\"geocodeGdal.py -l ./../../geom_master/lat.rdr -L ./../../geom_master/lon.rdr -f filt_fine.unw -b '{box}'\"\n",
    "    os.system(cmd_str)"
   ]
  },
  {
   "cell_type": "code",
   "execution_count": null,
   "metadata": {
    "ExecuteTime": {
     "end_time": "2020-08-09T02:51:56.440849Z",
     "start_time": "2020-08-09T02:51:55.865735Z"
    },
    "scrolled": false
   },
   "outputs": [],
   "source": [
    "geo_unws = glob.glob(os.path.join(merged_dir, 'interferograms/*/geo_filt_fine.unw'))\n",
    "plot_fig(geo_unws[0], 'unwraped', 2)"
   ]
  },
  {
   "cell_type": "markdown",
   "metadata": {},
   "source": [
    "## gacos rsc2hdr"
   ]
  },
  {
   "cell_type": "code",
   "execution_count": null,
   "metadata": {
    "ExecuteTime": {
     "end_time": "2020-08-09T02:52:15.832895Z",
     "start_time": "2020-08-09T02:52:15.815179Z"
    },
    "code_folding": [
     0,
     36
    ]
   },
   "outputs": [],
   "source": [
    "def loadrsc(infile):\n",
    "    '''A function to load the content of .rsc file and pass it back as a dictionary'''\n",
    "    import numpy as np\n",
    "    with open(infile + '.rsc') as f:\n",
    "        text = f.read()\n",
    "    lines = [e.split() for e in text.split(\"\\n\") if e != \"\"]\n",
    "    headers = dict(lines)\n",
    "    # add the filename such it can be called when making envi header\n",
    "    headers['FILENAME'] = infile\n",
    "    # take the abs of the y-spacing as upper left corner is to be specified\n",
    "    headers['Y_STEP'] = str(np.abs(float(headers['Y_STEP'])))\n",
    "    return headers\n",
    "\n",
    "def writehdr(filename,headers):\n",
    "    '''A function that writes a .hdr file from a template and a dictionarydescribing the fields'''\n",
    "    print('Writing output HDR file...')\n",
    "    print(headers)\n",
    "    enviHDRFile = open(filename + '.hdr', 'w')\n",
    "    enviHDR = '''ENVI\n",
    "description = {{GACOS: {FILENAME} }}\n",
    "samples = {WIDTH}\n",
    "lines = {FILE_LENGTH}\n",
    "bands = 1\n",
    "header offset = 0\n",
    "file type = ENVI Standard\n",
    "data type = 4\n",
    "interleave = bsq\n",
    "sensor type = Unknown\n",
    "byte order = 0\n",
    "map info = {{Geographic Lat/Lon, 1, 1, {X_FIRST}, {Y_FIRST}, {X_STEP}, {Y_STEP}, WGS-84, units=Degrees}}\n",
    "coordinate system string = {{GEOGCS[\"GCS_WGS_1984\",DATUM[\"D_WGS_1984\",SPHEROID[\"WGS_1984\",6378137.0,298.257223563]],PRIMEM[\"Greenwich\",0.0],UNIT[\"Degree\",0.017453292519943295]]}}'''.format(**headers)\n",
    "\n",
    "    enviHDRFile.write(enviHDR)\n",
    "    enviHDRFile.close()\n",
    "    print('Output HDR file =', filename)\n",
    "\n",
    "def GACOS_rsc2hdr(inputfile):\n",
    "    '''\n",
    "    Wrapper code which calls .rsc reader and .hdr writer functionality \n",
    "    '''\n",
    "\n",
    "    print('Generating hdr file for: ' + inputfile + '...')\n",
    "    # make sure the user does not give a header file as input\n",
    "    filename, file_extension = os.path.splitext(inputfile)\n",
    "    if file_extension == '.hdr' or file_extension == '.rsc':\n",
    "        raise Exception(\"Give path to the ENVI file not the .hdr or .rsc file\")\n",
    "    headers = loadrsc(inputfile)\n",
    "    writehdr(inputfile,headers)\n",
    "    print('hdr for ' + inputfile + ' generated')\n",
    "    print(\" \")"
   ]
  },
  {
   "cell_type": "code",
   "execution_count": null,
   "metadata": {
    "ExecuteTime": {
     "end_time": "2020-08-09T02:52:23.619029Z",
     "start_time": "2020-08-09T02:52:23.447608Z"
    }
   },
   "outputs": [],
   "source": [
    "ztds = glob.glob(os.path.join(gacos_dir, '*.ztd'))\n",
    "for ztd in ztds:\n",
    "    GACOS_rsc2hdr(ztd)"
   ]
  },
  {
   "cell_type": "markdown",
   "metadata": {},
   "source": [
    "## file transform"
   ]
  },
  {
   "cell_type": "code",
   "execution_count": null,
   "metadata": {
    "ExecuteTime": {
     "end_time": "2020-08-09T02:52:27.082496Z",
     "start_time": "2020-08-09T02:52:27.068896Z"
    },
    "code_folding": [
     0
    ]
   },
   "outputs": [],
   "source": [
    "def file_transform(unwfile,apsfile,apsfile_out):\n",
    "    '''\n",
    "    convert the aps file into the same geo frame as the unw file\n",
    "    Unwfile is an envi file and has a corresponding vrt file\n",
    "    aps file is gdal compatible\n",
    "    '''\n",
    "    import isceobj\n",
    "    from osgeo import gdal, gdalconst\n",
    "    #from gdal2isce_xml import gdalisce2XML\n",
    "\n",
    "    # convert all to absolute paths\n",
    "    apsfile = os.path.abspath(apsfile)\n",
    "    apsfile_out = os.path.abspath(apsfile_out)\n",
    "\n",
    "    # Source\n",
    "    src = gdal.Open(apsfile, gdalconst.GA_ReadOnly)\n",
    "    src_proj = src.GetProjection()\n",
    "    src_geotrans = src.GetGeoTransform()\n",
    "    print(\"Working on \" + apsfile )\n",
    "    # We want a section of source that matches this:\n",
    "    match_ds = gdal.Open(unwfile + '.vrt', gdalconst.GA_ReadOnly)\n",
    "    match_proj = match_ds.GetProjection()\n",
    "    match_geotrans = match_ds.GetGeoTransform()\n",
    "    print(\"Getting target reference information\")\n",
    "    wide = match_ds.RasterXSize\n",
    "    high = match_ds.RasterYSize\n",
    "    \n",
    "    # Output / destination\n",
    "    dst = gdal.GetDriverByName('envi').Create(apsfile_out, wide, high, 1, gdalconst.GDT_Float32)\n",
    "    dst.SetGeoTransform( match_geotrans )\n",
    "    dst.SetProjection( match_proj)\n",
    "\n",
    "    # Do the work\n",
    "    gdal.ReprojectImage(src, dst, src_proj, match_proj, gdalconst.GRA_Bilinear)\n",
    "    print(\"Done\")\n",
    "    print(\"\")\n",
    "\n",
    "\n",
    "    # closing the images\n",
    "    dst = None\n",
    "    src = None\n",
    "\n",
    "    ## run gdal 2 isce on this file so we can use ISCE functionality latter on\n",
    "    #gdalisce2XML(apsfile_out)\n",
    "    "
   ]
  },
  {
   "cell_type": "code",
   "execution_count": null,
   "metadata": {
    "ExecuteTime": {
     "end_time": "2020-08-09T02:53:00.422583Z",
     "start_time": "2020-08-09T02:52:44.401479Z"
    },
    "scrolled": true
   },
   "outputs": [],
   "source": [
    "geo_unws = glob.glob(os.path.join(merged_dir, 'interferograms/*/geo_filt_fine.unw'))\n",
    "# plot_fig(geo_unws[0], 'unwraped', 2)\n",
    "\n",
    "\n",
    "ztds = glob.glob(os.path.join(gacos_dir, '*.ztd'))\n",
    "for ztd in ztds:\n",
    "    ztd_geo = ztd + '.geo'\n",
    "    file_transform(geo_unws[0], ztd, ztd_geo)"
   ]
  },
  {
   "cell_type": "code",
   "execution_count": null,
   "metadata": {
    "ExecuteTime": {
     "end_time": "2020-08-09T02:53:05.523688Z",
     "start_time": "2020-08-09T02:53:05.147464Z"
    },
    "scrolled": false
   },
   "outputs": [],
   "source": [
    "ztd_geos = glob.glob(os.path.join(gacos_dir, '*.ztd.geo'))\n",
    "plot_fig(ztd_geos[0], 'ztd.geo', 1)"
   ]
  },
  {
   "cell_type": "markdown",
   "metadata": {},
   "source": [
    "## zenith2slant"
   ]
  },
  {
   "cell_type": "code",
   "execution_count": null,
   "metadata": {
    "ExecuteTime": {
     "end_time": "2020-08-09T02:53:13.530762Z",
     "start_time": "2020-08-09T02:53:13.512883Z"
    },
    "code_folding": [
     0
    ]
   },
   "outputs": [],
   "source": [
    " def zenith2slant(losfile,aps_zenith,aps_slant):\n",
    "    \n",
    "    # convert all to absolute paths\n",
    "    aps_zenith = os.path.abspath(aps_zenith)\n",
    "    aps_slant = os.path.abspath(aps_slant)\n",
    "    losfile = os.path.abspath(losfile)\n",
    "    \n",
    "    # loading the zenith APS file\n",
    "    ds = gdal.Open(aps_zenith, gdal.GA_ReadOnly)\n",
    "    zenith = ds.GetRasterBand(1).ReadAsArray()\n",
    "    proj = ds.GetProjection()\n",
    "    geotrans = ds.GetGeoTransform()\n",
    "    ds = None\n",
    "    \n",
    "    # loading the incidence angle file\n",
    "    ds = gdal.Open(losfile, gdal.GA_ReadOnly)\n",
    "    inc = ds.GetRasterBand(1).ReadAsArray()\n",
    "    ds = None\n",
    "    # convert the inc from deg to rad\n",
    "    inc = inc*np.pi/180\n",
    "    \n",
    "    # scaling factor to convert pseudo-range [m] increase to phase delay [rad]\n",
    "    scaling = -4*np.pi/5.6*100\n",
    "    \n",
    "    # projecting the zenith into the slant\n",
    "    slant = scaling*zenith/np.cos(inc)\n",
    "    \n",
    "    # making sure the no-date is propagated\n",
    "    slant[zenith==0]=0\n",
    "    slant[inc==0]=0\n",
    "        \n",
    "    \n",
    "    # writing out the file   \n",
    "    drv = gdal.GetDriverByName('envi').Create(aps_slant, slant.shape[1], slant.shape[0], 1,gdal.GDT_Float32)\n",
    "    drv.SetGeoTransform(geotrans)\n",
    "    drv.SetProjection(proj)\n",
    "    drv.GetRasterBand(1).WriteArray(slant)\n",
    "    drv = None\n",
    "    "
   ]
  },
  {
   "cell_type": "code",
   "execution_count": null,
   "metadata": {
    "ExecuteTime": {
     "end_time": "2020-08-09T02:53:22.385859Z",
     "start_time": "2020-08-09T02:53:15.340724Z"
    },
    "scrolled": true
   },
   "outputs": [],
   "source": [
    "ztd_geos = glob.glob(os.path.join(gacos_dir, '*.ztd.geo'))\n",
    "geo_los = os.path.join(merged_dir, 'geom_master/geo_los.rdr')\n",
    "for ztd_geo in ztd_geos:\n",
    "    aps_geo = ztd_geo.replace('ztd', 'aps')\n",
    "    sys.stdout.write(f\"\\rprocess {ztd_geos.index(ztd_geo) + 1}/{len(ztd_geos)}\")\n",
    "    sys.stdout.flush()\n",
    "    zenith2slant(geo_los, ztd_geo, aps_geo)"
   ]
  },
  {
   "cell_type": "code",
   "execution_count": null,
   "metadata": {
    "ExecuteTime": {
     "end_time": "2020-08-09T02:53:29.649819Z",
     "start_time": "2020-08-09T02:53:29.292990Z"
    },
    "scrolled": true
   },
   "outputs": [],
   "source": [
    "aps_geos = glob.glob(os.path.join(gacos_dir, '*.aps.geo'))\n",
    "plot_fig(aps_geos[0], 'aps.geo', 1)"
   ]
  },
  {
   "cell_type": "markdown",
   "metadata": {},
   "source": [
    "## differential delay"
   ]
  },
  {
   "cell_type": "code",
   "execution_count": null,
   "metadata": {
    "ExecuteTime": {
     "end_time": "2020-08-13T02:48:38.794964Z",
     "start_time": "2020-08-13T02:48:38.783415Z"
    },
    "code_folding": []
   },
   "outputs": [],
   "source": [
    "def differential_delay(master_aps,slave_aps,outname):\n",
    "    \n",
    "    # convert all to absolute paths\n",
    "    master_aps = os.path.abspath(master_aps)\n",
    "    slave_aps = os.path.abspath(slave_aps)\n",
    "    outname = os.path.abspath(outname)\n",
    "    \n",
    "    # loading the master APS file\n",
    "    ds = gdal.Open(master_aps, gdal.GA_ReadOnly)\n",
    "    master = ds.GetRasterBand(1).ReadAsArray()\n",
    "    proj = ds.GetProjection()\n",
    "    geotrans = ds.GetGeoTransform()\n",
    "    ds = None\n",
    "    \n",
    "    # loading the slave APS file\n",
    "    ds = gdal.Open(slave_aps, gdal.GA_ReadOnly)\n",
    "    slave = ds.GetRasterBand(1).ReadAsArray()\n",
    "    ds = None\n",
    "    \n",
    "    \n",
    "    # computing the differential APS\n",
    "#     diffAPS = master-slave\n",
    "    diffAPS = slave-master\n",
    "    \n",
    "    # writing out the file \n",
    "    drv = gdal.GetDriverByName('envi').Create(outname, diffAPS.shape[1], diffAPS.shape[0], 1,gdal.GDT_Float32)\n",
    "    drv.SetGeoTransform(geotrans)\n",
    "    drv.SetProjection(proj)\n",
    "    drv.GetRasterBand(1).WriteArray(diffAPS)\n",
    "    drv = None"
   ]
  },
  {
   "cell_type": "code",
   "execution_count": null,
   "metadata": {
    "ExecuteTime": {
     "end_time": "2020-08-13T02:48:48.490404Z",
     "start_time": "2020-08-13T02:48:40.742420Z"
    },
    "scrolled": true
   },
   "outputs": [],
   "source": [
    "ifgs = glob.glob(os.path.join(merged_dir, 'interferograms/*'))\n",
    "for ifg in ifgs:\n",
    "    master = ifg[-17:-9]\n",
    "    slave = ifg[-8::]\n",
    "    master_aps = os.path.join(gacos_dir, master + '.aps.geo')\n",
    "    slave_aps = os.path.join(gacos_dir, slave + '.aps.geo')\n",
    "#     diff_aps = os.path.join(ifg, master + '_' + slave + '.aps.geo')\n",
    "    diff_aps = os.path.join(ifg, 'diff.aps.geo')\n",
    "    sys.stdout.write(f\"\\rprocess {ifgs.index(ifg) + 1}/{len(ifgs)}\")\n",
    "    sys.stdout.flush()\n",
    "    differential_delay(master_aps, slave_aps, diff_aps)"
   ]
  },
  {
   "cell_type": "code",
   "execution_count": null,
   "metadata": {
    "ExecuteTime": {
     "end_time": "2020-08-12T14:50:51.070663Z",
     "start_time": "2020-08-12T14:50:50.475039Z"
    },
    "scrolled": true
   },
   "outputs": [],
   "source": [
    "diff_aps = glob.glob(os.path.join(merged_dir, 'interferograms/*/*.aps.geo'))\n",
    "unws = glob.glob(os.path.join(merged_dir, 'interferograms/*/geo_filt_fine.unw'))\n",
    "plot_fig(diff_aps[0], 'diff.aps.geo', 1)\n",
    "plot_fig(unws[0], 'unw', 2)"
   ]
  },
  {
   "cell_type": "markdown",
   "metadata": {},
   "source": [
    "## ifg correction"
   ]
  },
  {
   "cell_type": "code",
   "execution_count": null,
   "metadata": {
    "ExecuteTime": {
     "end_time": "2020-08-12T14:51:02.153027Z",
     "start_time": "2020-08-12T14:51:02.098442Z"
    },
    "code_folding": []
   },
   "outputs": [],
   "source": [
    "def ifg_correction(unw,aps,outname):\n",
    "    \n",
    "    # convert all to absolute paths\n",
    "    unw = os.path.abspath(unw)\n",
    "    aps = os.path.abspath(aps)\n",
    "    outname = os.path.abspath(outname)\n",
    "    \n",
    "    # loading the UNW file\n",
    "    ds = gdal.Open(unw, gdal.GA_ReadOnly)\n",
    "    unwdata_phase = ds.GetRasterBand(2).ReadAsArray()\n",
    "    unwdata_amplitude = ds.GetRasterBand(1).ReadAsArray()\n",
    "    proj = ds.GetProjection()\n",
    "    geotrans = ds.GetGeoTransform()\n",
    "    ds = None\n",
    "    \n",
    "    # loading the APS file\n",
    "    ds = gdal.Open(aps, gdal.GA_ReadOnly)\n",
    "    apsdata = ds.GetRasterBand(1).ReadAsArray()\n",
    "    ds = None\n",
    "    \n",
    "    # Correcting the IFG\n",
    "    unwdata_phase = unwdata_phase - apsdata\n",
    "    # making sure the no-date is propagated\n",
    "    unwdata_phase[unwdata_phase==0]=0\n",
    "    unwdata_phase[apsdata==0]=0 \n",
    "    \n",
    "    \n",
    "    # writing out the file \n",
    "    drv = gdal.GetDriverByName('envi').Create(outname, unwdata_phase.shape[1], unwdata_phase.shape[0], 2,gdal.GDT_Float32)\n",
    "    drv.SetGeoTransform(geotrans)\n",
    "    drv.SetProjection(proj)\n",
    "    drv.GetRasterBand(1).WriteArray(unwdata_amplitude)\n",
    "    drv.GetRasterBand(2).WriteArray(unwdata_phase)\n",
    "    drv = None\n",
    "    "
   ]
  },
  {
   "cell_type": "code",
   "execution_count": null,
   "metadata": {
    "ExecuteTime": {
     "end_time": "2020-08-12T14:51:23.492844Z",
     "start_time": "2020-08-12T14:51:05.758404Z"
    },
    "scrolled": true
   },
   "outputs": [],
   "source": [
    "ifgs = glob.glob(os.path.join(merged_dir, 'interferograms/*'))\n",
    "for ifg in ifgs:\n",
    "    name = ifg[-17::]\n",
    "    unw = os.path.join(ifg, 'geo_filt_fine.unw')\n",
    "    aps = os.path.join(ifg, name + '.aps.geo')\n",
    "    corrected_unw = os.path.join(ifg, 'geo_filt_fine.aps.unw')\n",
    "    sys.stdout.write(f\"\\rprocess {ifgs.index(ifg) + 1}/{len(ifgs)}\")\n",
    "    sys.stdout.flush()\n",
    "    ifg_correction(unw, aps, corrected_unw)"
   ]
  },
  {
   "cell_type": "code",
   "execution_count": null,
   "metadata": {
    "ExecuteTime": {
     "end_time": "2020-08-12T14:52:03.588116Z",
     "start_time": "2020-08-12T14:52:03.146639Z"
    },
    "scrolled": false
   },
   "outputs": [],
   "source": [
    "def plot_fig2(unw, aps_unw):\n",
    "    ds = gdal.Open(unw, gdal.GA_ReadOnly)\n",
    "    unw = ds.GetRasterBand(2).ReadAsArray()\n",
    "    ds = None\n",
    "\n",
    "    ds = gdal.Open(aps_unw, gdal.GA_ReadOnly)\n",
    "    aps_unw = ds.GetRasterBand(2).ReadAsArray()\n",
    "    ds = None\n",
    "    \n",
    "    fig,ax = plt.subplots(figsize=(11,10), nrows=1, ncols=2)\n",
    "    im = ax[0].imshow(unw, cmap='jet', vmin=-100, vmax=100)\n",
    "    ax[0].set_title('unw')\n",
    "    \n",
    "    im = ax[1].imshow(aps_unw, cmap='jet', vmin=-100, vmax=100)\n",
    "    ax[1].set_title('aps_unw')\n",
    "    fig.colorbar(im)\n",
    "    fig.show()\n",
    "\n",
    "\n",
    "unws = glob.glob(os.path.join(merged_dir, 'interferograms/*/geo_filt_fine.unw'))\n",
    "aps_unws = glob.glob(os.path.join(merged_dir, 'interferograms/*/geo_filt_fine.aps.unw'))\n",
    "\n",
    "# plot_fig(aps_unws[0], 'aps.unw', 2)\n",
    "# plot_fig(unws[0], 'unw', 2)\n",
    "plot_fig2(unws[2], aps_unws[2])"
   ]
  },
  {
   "cell_type": "markdown",
   "metadata": {},
   "source": [
    "## stacking phase"
   ]
  },
  {
   "cell_type": "code",
   "execution_count": null,
   "metadata": {
    "ExecuteTime": {
     "end_time": "2020-08-13T02:50:16.106590Z",
     "start_time": "2020-08-13T02:50:16.071291Z"
    },
    "code_folding": [
     0,
     30,
     43,
     51,
     90
    ]
   },
   "outputs": [],
   "source": [
    "def differential_delay(master_aps,slave_aps,outname):\n",
    "    \n",
    "    # convert all to absolute paths\n",
    "    master_aps = os.path.abspath(master_aps)\n",
    "    slave_aps = os.path.abspath(slave_aps)\n",
    "    outname = os.path.abspath(outname)\n",
    "    \n",
    "    # loading the master APS file\n",
    "    ds = gdal.Open(master_aps, gdal.GA_ReadOnly)\n",
    "    master = ds.GetRasterBand(1).ReadAsArray()\n",
    "    proj = ds.GetProjection()\n",
    "    geotrans = ds.GetGeoTransform()\n",
    "    ds = None\n",
    "    \n",
    "    # loading the slave APS file\n",
    "    ds = gdal.Open(slave_aps, gdal.GA_ReadOnly)\n",
    "    slave = ds.GetRasterBand(1).ReadAsArray()\n",
    "    ds = None\n",
    "    \n",
    "    \n",
    "    # computing the differential APS\n",
    "    diffAPS = master-slave\n",
    "    \n",
    "    # writing out the file \n",
    "    drv = gdal.GetDriverByName('envi').Create(outname, diffAPS.shape[1], diffAPS.shape[0], 1,gdal.GDT_Float32)\n",
    "    drv.SetGeoTransform(geotrans)\n",
    "    drv.SetProjection(proj)\n",
    "    drv.GetRasterBand(1).WriteArray(diffAPS)\n",
    "    drv = None\n",
    "    \n",
    "def gen_ifg_pairs(slc_date, num_connections):\n",
    "    slc_date = sorted(slc_date)\n",
    "    ifg_pairs = []\n",
    "    length = len(slc_date)\n",
    "    for i in range(length):\n",
    "        if i < length - num_connections:\n",
    "            for j in range(num_connections):\n",
    "                ifg_pairs.append(f\"{slc_date[i]}_{slc_date[i + j + 1]}\")\n",
    "        else:\n",
    "            for k in range(length - i - 1):\n",
    "                ifg_pairs.append(f\"{slc_date[i]}_{slc_date[i + k + 1]}\")\n",
    "    return ifg_pairs\n",
    "\n",
    "def get_slc_date(ifg_dir):\n",
    "    slc_date = []\n",
    "    ifgs = glob.glob(os.path.join(ifg_dir, '*'))\n",
    "    for ifg in ifgs:\n",
    "        slc_date.append(ifg[-17:-9])\n",
    "        slc_date.append(ifg[-8::])\n",
    "    return list(set(slc_date))\n",
    "\n",
    "def get_days(ifg_pair):\n",
    "    master = ifg_pair.split('_')[0]\n",
    "    slave = ifg_pair.split('_')[1]\n",
    "    m_date = datetime.datetime.strptime(master, \"%Y%m%d\")\n",
    "    s_date = datetime.datetime.strptime(slave, \"%Y%m%d\")\n",
    "    delta = (s_date - m_date).days\n",
    "    return delta\n",
    "    \n",
    "\n",
    "def stacking(ifg_dir, stack_file, out_file):\n",
    "    avg_phase = 0\n",
    "    slc_date = get_slc_date(ifg_dir)\n",
    "    ifg_pairs = sorted(os.listdir(ifg_dir))\n",
    "#     ifg_pairs = gen_ifg_pairs(slc_date, 1)\n",
    "    phase2range = -5.6 / (4.0 * np.pi)\n",
    "    for ifg_pair in ifg_pairs:\n",
    "        sys.stdout.write('\\rprocess {}/{}'.format(ifg_pairs.index(ifg_pair) + 1, len(ifg_pairs)))\n",
    "        sys.stdout.flush()\n",
    "        aps_unw = os.path.join(ifg_dir, ifg_pair, stack_file)\n",
    "        ds = gdal.Open(aps_unw, gdal.GA_ReadOnly)\n",
    "        data = ds.GetRasterBand(2).ReadAsArray()\n",
    "        proj = ds.GetProjection()\n",
    "        geotrans = ds.GetGeoTransform()\n",
    "        ds = None\n",
    "        tbase = get_days(ifg_pair) / 365\n",
    "        data *= phase2range / tbase\n",
    "        avg_phase += data\n",
    "    avg_phase /= len(ifg_pairs)\n",
    "    # writing out the file \n",
    "    drv = gdal.GetDriverByName('envi').Create(out_file, avg_phase.shape[1], avg_phase.shape[0], 1,gdal.GDT_Float32)\n",
    "    drv.SetGeoTransform(geotrans)\n",
    "    drv.SetProjection(proj)\n",
    "    drv.GetRasterBand(1).WriteArray(avg_phase)\n",
    "    drv = None\n",
    "    \n",
    "    \n",
    "\n",
    "    \n",
    "    \n",
    "def stacking2(ifg_dir, stack_file, out_file):\n",
    "    avg_phase = 0\n",
    "    slc_date = get_slc_date(ifg_dir)\n",
    "    ifg_pairs = sorted(os.listdir(ifg_dir))\n",
    "    sum_all = sum([get_days(ifg_pair) / 365 * get_days(ifg_pair) / 365 for ifg_pair in ifg_pairs])\n",
    "    phase2range = -5.6 / (4.0 * np.pi)\n",
    "    for ifg_pair in ifg_pairs:\n",
    "        sys.stdout.write('\\rprocess {}/{}'.format(ifg_pairs.index(ifg_pair) + 1, len(ifg_pairs)))\n",
    "        sys.stdout.flush()\n",
    "        aps_unw = os.path.join(ifg_dir, ifg_pair, stack_file)\n",
    "        ds = gdal.Open(aps_unw, gdal.GA_ReadOnly)\n",
    "        data = ds.GetRasterBand(2).ReadAsArray()\n",
    "        proj = ds.GetProjection()\n",
    "        geotrans = ds.GetGeoTransform()\n",
    "        ds = None\n",
    "        tbase = get_days(ifg_pair) / 365\n",
    "        data *= (phase2range * tbase / sum_all)\n",
    "        avg_phase += data\n",
    "    # writing out the file \n",
    "    drv = gdal.GetDriverByName('envi').Create(out_file, avg_phase.shape[1], avg_phase.shape[0], 1,gdal.GDT_Float32)\n",
    "    drv.SetGeoTransform(geotrans)\n",
    "    drv.SetProjection(proj)\n",
    "    drv.GetRasterBand(1).WriteArray(avg_phase)\n",
    "    drv = None"
   ]
  },
  {
   "cell_type": "code",
   "execution_count": null,
   "metadata": {
    "ExecuteTime": {
     "end_time": "2020-08-13T02:50:19.212608Z",
     "start_time": "2020-08-13T02:50:17.993413Z"
    },
    "scrolled": true
   },
   "outputs": [],
   "source": [
    "ifg_dir = os.path.join(merged_dir, 'interferograms')\n",
    "out_file = os.path.join(merged_dir, 'avg_aps')\n",
    "stack_file = 'diff.aps.geo'\n",
    "stacking(ifg_dir, stack_file, out_file)"
   ]
  },
  {
   "cell_type": "code",
   "execution_count": null,
   "metadata": {
    "ExecuteTime": {
     "end_time": "2020-08-13T02:50:28.581708Z",
     "start_time": "2020-08-13T02:50:27.994742Z"
    },
    "scrolled": true
   },
   "outputs": [],
   "source": [
    "os.chdir(merged_dir)\n",
    "plot_fig(out_file, 'avg_aps', 1)\n",
    "plot_fig('avg_phase', 'avg_phase', 1)"
   ]
  },
  {
   "cell_type": "markdown",
   "metadata": {},
   "source": [
    "## save kml"
   ]
  },
  {
   "cell_type": "code",
   "execution_count": null,
   "metadata": {
    "ExecuteTime": {
     "end_time": "2020-08-12T14:53:32.854286Z",
     "start_time": "2020-08-12T14:53:29.701176Z"
    },
    "scrolled": true
   },
   "outputs": [],
   "source": [
    "os.chdir(merged_dir)\n",
    "!saveKml.py -f avg_phase_aps -m -23 -M 5 -d 600 -c jet -u cm/yr -s 1 -b 20200808 -e 20200809 -n 1"
   ]
  },
  {
   "cell_type": "code",
   "execution_count": null,
   "metadata": {},
   "outputs": [],
   "source": []
  }
 ],
 "metadata": {
  "kernelspec": {
   "display_name": "Python 3",
   "language": "python",
   "name": "python3"
  },
  "language_info": {
   "codemirror_mode": {
    "name": "ipython",
    "version": 3
   },
   "file_extension": ".py",
   "mimetype": "text/x-python",
   "name": "python",
   "nbconvert_exporter": "python",
   "pygments_lexer": "ipython3",
   "version": "3.6.9"
  },
  "toc": {
   "base_numbering": 1,
   "nav_menu": {},
   "number_sections": true,
   "sideBar": true,
   "skip_h1_title": false,
   "title_cell": "Table of Contents",
   "title_sidebar": "Contents",
   "toc_cell": false,
   "toc_position": {},
   "toc_section_display": true,
   "toc_window_display": true
  },
  "varInspector": {
   "cols": {
    "lenName": 16,
    "lenType": 16,
    "lenVar": 40
   },
   "kernels_config": {
    "python": {
     "delete_cmd_postfix": "",
     "delete_cmd_prefix": "del ",
     "library": "var_list.py",
     "varRefreshCmd": "print(var_dic_list())"
    },
    "r": {
     "delete_cmd_postfix": ") ",
     "delete_cmd_prefix": "rm(",
     "library": "var_list.r",
     "varRefreshCmd": "cat(var_dic_list()) "
    }
   },
   "types_to_exclude": [
    "module",
    "function",
    "builtin_function_or_method",
    "instance",
    "_Feature"
   ],
   "window_display": false
  }
 },
 "nbformat": 4,
 "nbformat_minor": 4
}