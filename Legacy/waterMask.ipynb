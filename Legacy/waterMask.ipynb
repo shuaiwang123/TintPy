{
 "cells": [
  {
   "cell_type": "code",
   "execution_count": null,
   "metadata": {
    "ExecuteTime": {
     "end_time": "2020-09-10T02:24:34.303710Z",
     "start_time": "2020-09-10T02:24:34.288198Z"
    }
   },
   "outputs": [],
   "source": [
    "from mpl_toolkits.axes_grid1 import make_axes_locatable\n",
    "import matplotlib.pyplot as plt\n",
    "import os\n",
    "import h5py\n",
    "import numpy as np\n",
    "%matplotlib inline\n",
    "\n",
    "\n",
    "def read_h5(fname, label):\n",
    "    with h5py.File(fname, 'r') as f:\n",
    "        atr = dict(f.attrs)\n",
    "        data = np.asarray(f[(label)])\n",
    "    return data, atr\n",
    "\n",
    "\n",
    "def plot_data(data, cmap='jet', title=''):\n",
    "    fig, ax = plt.subplots()\n",
    "    ax.set_title(title)\n",
    "    im = ax.imshow(data, cmap=cmap)\n",
    "    divider = make_axes_locatable(ax)\n",
    "    cax = divider.append_axes('right', size='5%', pad=0.1)\n",
    "    fig.colorbar(im, ax=ax, cax=cax)\n",
    "\n",
    "\n",
    "def gen_mask(height, atr, threshod, mask_file):\n",
    "    mask = height >= threshod\n",
    "    plot_data(np.asarray(mask, np.int64), cmap='jet_r', title='waterMask')\n",
    "    print(f\"write mask to {mask_file}\")\n",
    "    with h5py.File(mask_file, 'w') as f:\n",
    "        f.create_dataset('waterMask', data=mask)\n",
    "        for k, v in atr.items():\n",
    "            f.attrs.create(k, v)\n",
    "    print('done')"
   ]
  },
  {
   "cell_type": "code",
   "execution_count": null,
   "metadata": {
    "ExecuteTime": {
     "end_time": "2020-09-10T02:24:36.877695Z",
     "start_time": "2020-09-10T02:24:36.687237Z"
    }
   },
   "outputs": [],
   "source": [
    "os.chdir('/media/ly/file/sc_prj/sc21/mintpy26')\n",
    "\n",
    "radar_height = './inputs/geometryRadar.h5'\n",
    "\n",
    "height, atr = read_h5(radar_height, 'height')\n",
    "plot_data(height, cmap='jet', title='height')"
   ]
  },
  {
   "cell_type": "code",
   "execution_count": null,
   "metadata": {
    "ExecuteTime": {
     "end_time": "2020-09-10T02:24:38.725216Z",
     "start_time": "2020-09-10T02:24:38.508917Z"
    }
   },
   "outputs": [],
   "source": [
    "mask_file = 'waterMask.h5'\n",
    "\n",
    "gen_mask(height, atr, 1000, mask_file)"
   ]
  },
  {
   "cell_type": "code",
   "execution_count": null,
   "metadata": {},
   "outputs": [],
   "source": []
  }
 ],
 "metadata": {
  "kernelspec": {
   "display_name": "Python 3",
   "language": "python",
   "name": "python3"
  },
  "language_info": {
   "codemirror_mode": {
    "name": "ipython",
    "version": 3
   },
   "file_extension": ".py",
   "mimetype": "text/x-python",
   "name": "python",
   "nbconvert_exporter": "python",
   "pygments_lexer": "ipython3",
   "version": "3.8.2"
  },
  "toc": {
   "base_numbering": 1,
   "nav_menu": {},
   "number_sections": true,
   "sideBar": true,
   "skip_h1_title": false,
   "title_cell": "Table of Contents",
   "title_sidebar": "Contents",
   "toc_cell": false,
   "toc_position": {},
   "toc_section_display": true,
   "toc_window_display": false
  },
  "varInspector": {
   "cols": {
    "lenName": 16,
    "lenType": 16,
    "lenVar": 40
   },
   "kernels_config": {
    "python": {
     "delete_cmd_postfix": "",
     "delete_cmd_prefix": "del ",
     "library": "var_list.py",
     "varRefreshCmd": "print(var_dic_list())"
    },
    "r": {
     "delete_cmd_postfix": ") ",
     "delete_cmd_prefix": "rm(",
     "library": "var_list.r",
     "varRefreshCmd": "cat(var_dic_list()) "
    }
   },
   "types_to_exclude": [
    "module",
    "function",
    "builtin_function_or_method",
    "instance",
    "_Feature"
   ],
   "window_display": false
  }
 },
 "nbformat": 4,
 "nbformat_minor": 4
}
